{
  "nbformat": 4,
  "nbformat_minor": 0,
  "metadata": {
    "colab": {
      "provenance": []
    },
    "kernelspec": {
      "name": "python3",
      "display_name": "Python 3"
    },
    "language_info": {
      "name": "python"
    },
    "gpuClass": "standard"
  },
  "cells": [
    {
      "cell_type": "code",
      "source": [
        "!pip install pytube\n",
        "!pip install imageio==2.4.1\n",
        "!pip install youtube_comment_downloader"
      ],
      "metadata": {
        "id": "-2OViL5kSbMU",
        "colab": {
          "base_uri": "https://localhost:8080/"
        },
        "outputId": "6fe9ffe2-7fe7-42d8-99e2-e0a9cbe5d923"
      },
      "execution_count": 1,
      "outputs": [
        {
          "output_type": "stream",
          "name": "stdout",
          "text": [
            "Looking in indexes: https://pypi.org/simple, https://us-python.pkg.dev/colab-wheels/public/simple/\n",
            "Requirement already satisfied: pytube in /usr/local/lib/python3.8/dist-packages (12.1.2)\n",
            "Looking in indexes: https://pypi.org/simple, https://us-python.pkg.dev/colab-wheels/public/simple/\n",
            "Requirement already satisfied: imageio==2.4.1 in /usr/local/lib/python3.8/dist-packages (2.4.1)\n",
            "Requirement already satisfied: numpy in /usr/local/lib/python3.8/dist-packages (from imageio==2.4.1) (1.21.6)\n",
            "Requirement already satisfied: pillow in /usr/local/lib/python3.8/dist-packages (from imageio==2.4.1) (7.1.2)\n",
            "Looking in indexes: https://pypi.org/simple, https://us-python.pkg.dev/colab-wheels/public/simple/\n",
            "Requirement already satisfied: youtube_comment_downloader in /usr/local/lib/python3.8/dist-packages (0.1.67)\n",
            "Requirement already satisfied: requests in /usr/local/lib/python3.8/dist-packages (from youtube_comment_downloader) (2.23.0)\n",
            "Requirement already satisfied: dateparser in /usr/local/lib/python3.8/dist-packages (from youtube_comment_downloader) (1.1.5)\n",
            "Requirement already satisfied: python-dateutil in /usr/local/lib/python3.8/dist-packages (from dateparser->youtube_comment_downloader) (2.8.2)\n",
            "Requirement already satisfied: pytz in /usr/local/lib/python3.8/dist-packages (from dateparser->youtube_comment_downloader) (2022.6)\n",
            "Requirement already satisfied: regex!=2019.02.19,!=2021.8.27 in /usr/local/lib/python3.8/dist-packages (from dateparser->youtube_comment_downloader) (2022.6.2)\n",
            "Requirement already satisfied: tzlocal in /usr/local/lib/python3.8/dist-packages (from dateparser->youtube_comment_downloader) (1.5.1)\n",
            "Requirement already satisfied: six>=1.5 in /usr/local/lib/python3.8/dist-packages (from python-dateutil->dateparser->youtube_comment_downloader) (1.15.0)\n",
            "Requirement already satisfied: idna<3,>=2.5 in /usr/local/lib/python3.8/dist-packages (from requests->youtube_comment_downloader) (2.10)\n",
            "Requirement already satisfied: chardet<4,>=3.0.2 in /usr/local/lib/python3.8/dist-packages (from requests->youtube_comment_downloader) (3.0.4)\n",
            "Requirement already satisfied: urllib3!=1.25.0,!=1.25.1,<1.26,>=1.21.1 in /usr/local/lib/python3.8/dist-packages (from requests->youtube_comment_downloader) (1.24.3)\n",
            "Requirement already satisfied: certifi>=2017.4.17 in /usr/local/lib/python3.8/dist-packages (from requests->youtube_comment_downloader) (2022.12.7)\n"
          ]
        }
      ]
    },
    {
      "cell_type": "code",
      "execution_count": 13,
      "metadata": {
        "id": "V-qh2wTLSIHQ"
      },
      "outputs": [],
      "source": [
        "from pytube import YouTube, extract\n",
        "from pytube.cli import on_progress\n",
        "from moviepy.editor import *\n",
        "import os, uuid, cv2, pandas as pd\n",
        "from itertools import islice\n",
        "from youtube_comment_downloader import *\n",
        "from IPython.display import Markdown, display\n",
        "from csv import DictWriter"
      ]
    },
    {
      "cell_type": "code",
      "source": [
        "def printmd(string):\n",
        "    display(Markdown(string))"
      ],
      "metadata": {
        "id": "Zmq4DwiOYmFc"
      },
      "execution_count": 3,
      "outputs": []
    },
    {
      "cell_type": "code",
      "source": [
        "from google.colab import drive\n",
        "drive.mount('/content/drive/')\n",
        "os.chdir('drive/MyDrive')\n",
        "\n",
        "if not os.path.exists('scomp_project'):\n",
        "    os.mkdir('scomp_project')\n",
        "    printmd(\"**A folder called scomp_project has been made for you, Please insert the video data csv file into it and rename it to video_data_url.csv**\")\n",
        "\n",
        "os.chdir('scomp_project')"
      ],
      "metadata": {
        "id": "QKqMC_liU-v2",
        "colab": {
          "base_uri": "https://localhost:8080/"
        },
        "outputId": "20a7a5e6-2bed-46a9-c1be-8bb5d9fc3dc8"
      },
      "execution_count": 4,
      "outputs": [
        {
          "output_type": "stream",
          "name": "stdout",
          "text": [
            "Drive already mounted at /content/drive/; to attempt to forcibly remount, call drive.mount(\"/content/drive/\", force_remount=True).\n"
          ]
        }
      ]
    },
    {
      "cell_type": "code",
      "source": [
        "def insert_header(path, headers):\n",
        "\n",
        "    if not os.path.exists(path):\n",
        "\n",
        "        with open(path, 'a', encoding=\"utf-8\", newline='') as f_object:\n",
        "                        \n",
        "            dictwriter_object = DictWriter(f_object, fieldnames=headers)\n",
        "            dictwriter_object.writeheader()\n",
        "            f_object.close()"
      ],
      "metadata": {
        "id": "r47UekryHZfB"
      },
      "execution_count": 5,
      "outputs": []
    },
    {
      "cell_type": "code",
      "source": [
        "def createfolder(path):\n",
        "\n",
        "    if not os.path.exists(path):\n",
        "        os.mkdir(path)"
      ],
      "metadata": {
        "id": "vWR9xhBOHbHx"
      },
      "execution_count": 6,
      "outputs": []
    },
    {
      "cell_type": "code",
      "source": [
        "def fetch_comments(link):\n",
        "\n",
        "    comments = []\n",
        "\n",
        "    while True:\n",
        "\n",
        "        try:\n",
        "            downloader = YoutubeCommentDownloader()\n",
        "            comments_list = []\n",
        "            comments = downloader.get_comments_from_url(link, sort_by=SORT_BY_POPULAR)\n",
        "            break\n",
        "        \n",
        "        except:\n",
        "            continue\n",
        "\n",
        "    for comment in islice(comments, 10):\n",
        "        comments_list.append(comment['text'])\n",
        "    \n",
        "    return comments_list"
      ],
      "metadata": {
        "id": "c3wm1Y0rSM_Q"
      },
      "execution_count": 7,
      "outputs": []
    },
    {
      "cell_type": "code",
      "source": [
        "def DownloadYoutube(link, id, video_data):\n",
        "    \n",
        "    youtubeObject = YouTube(link, on_progress_callback=on_progress)\n",
        "\n",
        "    video_data['id'] = id\n",
        "    video_data['title'] = youtubeObject.title\n",
        "    video_data['description'] = youtubeObject.description\n",
        "    video_data['comments'] = fetch_comments(link)\n",
        "\n",
        "    youtubeObject = youtubeObject.streams.get_highest_resolution()\n",
        "\n",
        "    name = str(uuid.uuid4()) + '.mp4'\n",
        "    youtubeObject.download(output_path='videos',filename=name)\n",
        "    print(\"Download is completed successfully\")\n",
        "\n",
        "    return name, video_data"
      ],
      "metadata": {
        "id": "jH2oQa5CTJlb"
      },
      "execution_count": 8,
      "outputs": []
    },
    {
      "cell_type": "code",
      "source": [
        "def convert_to_seconds(time):\n",
        "\n",
        "    time_div = time.split(':')\n",
        "    m_arr = [1,60,60*60]\n",
        "    seconds = 0\n",
        "\n",
        "    for count, time in enumerate(reversed(time_div)):\n",
        "        seconds += int(time)*m_arr[count]    \n",
        "\n",
        "    return seconds"
      ],
      "metadata": {
        "id": "IVnHbRziTOGR"
      },
      "execution_count": 9,
      "outputs": []
    },
    {
      "cell_type": "code",
      "source": [
        "def collect_images(path, new_filename ,img_nos):\n",
        "\n",
        "    cam = cv2.VideoCapture(path+new_filename+\".mp4\")\n",
        "    totframe = 0\n",
        "  \n",
        "    while(True):\n",
        "      \n",
        "        ret, frame = cam.read()\n",
        "        if ret: totframe += 1\n",
        "        else: break\n",
        "\n",
        "    cam.release()\n",
        "    cam = cv2.VideoCapture(path+new_filename+\".mp4\")\n",
        "\n",
        "    curr_frame = 0\n",
        "    capt_inc = int(totframe/(img_nos+1))\n",
        "    capt_pnt = int(totframe/(img_nos+1))\n",
        "    orig_img_nos = img_nos\n",
        "\n",
        "    createfolder(path+'images')\n",
        "\n",
        "    while img_nos != 0:\n",
        "      \n",
        "        ret, frame = cam.read()\n",
        "        if ret:\n",
        "\n",
        "            if curr_frame == capt_pnt:\n",
        "                \n",
        "                name = path+'images/'+new_filename+'_img'+ str(img_nos) + '.jpg'\n",
        "                cv2.imwrite(name, frame)\n",
        "                capt_pnt += capt_inc\n",
        "                img_nos -= 1\n",
        "                \n",
        "            curr_frame += 1\n",
        "\n",
        "        else:\n",
        "            break\n",
        "    \n",
        "    cam.release()\n",
        "    cv2.destroyAllWindows()\n",
        "\n",
        "    print('Collected '+str(orig_img_nos)+' images from video\\n\\n')"
      ],
      "metadata": {
        "id": "mnD7nnz3TPT_"
      },
      "execution_count": 10,
      "outputs": []
    },
    {
      "cell_type": "code",
      "source": [
        "def crop_out_video(filename, timefetch, emotion, id, index):\n",
        "\n",
        "    timelimits = timefetch.split('-')\n",
        "    start_time = timelimits[0].strip()\n",
        "    end_time = timelimits[1].strip()\n",
        "            \n",
        "    start_time = convert_to_seconds(start_time)\n",
        "    end_time = convert_to_seconds(end_time)\n",
        "            \n",
        "    video = VideoFileClip('videos/'+filename).subclip(start_time, end_time)\n",
        "\n",
        "    createfolder('cropped_videos/'+emotion)\n",
        "            \n",
        "    new_filename = str(uuid.uuid4())+'('+id+')'\n",
        "    video.write_videofile('cropped_videos/'+emotion+'/'+new_filename+ '.mp4') \n",
        "    video.close()\n",
        "    \n",
        "    print('Video '+str(index)+' downloaded')\n",
        "\n",
        "    collect_images('cropped_videos/'+emotion+'/', new_filename, 6)"
      ],
      "metadata": {
        "id": "kAKQPFHYTTbj"
      },
      "execution_count": 11,
      "outputs": []
    },
    {
      "cell_type": "code",
      "source": [
        "if __name__ == '__main__':\n",
        "\n",
        "    df = pd.read_csv('video_data_url.csv')\n",
        "\n",
        "    field_names_post = ['id','title','description','comments']\n",
        "    field_names_fail = ['Emotion', 'Url', 'Timestamp']\n",
        "\n",
        "    link_y_map = {}\n",
        "\n",
        "    createfolder('videos')\n",
        "    createfolder('cropped_videos')\n",
        "\n",
        "    insert_header('cropped_videos/posts_data.csv', field_names_post)\n",
        "    insert_header('cropped_videos/failed_data.csv', field_names_fail)\n",
        "\n",
        "    \n",
        "    for index, row in df.iterrows():\n",
        "        \n",
        "        link = row['Url']\n",
        "        emotion = row['Emotion']\n",
        "        timestamp = row['Timestamp']\n",
        "\n",
        "        id = extract.video_id(link)\n",
        "\n",
        "        try:\n",
        "            new_video = 0\n",
        "            filename = ''\n",
        "\n",
        "            if id in link_y_map:\n",
        "                filename = link_y_map[id]\n",
        "            else:\n",
        "                video_data = {}\n",
        "                filename, video_data = DownloadYoutube(link, id, video_data)\n",
        "                link_y_map[id] = filename\n",
        "                new_video = 1\n",
        "\n",
        "            if len(filename)>0:\n",
        "                crop_out_video(filename, timestamp, emotion, id, index)\n",
        "\n",
        "            if new_video:\n",
        "\n",
        "                with open('cropped_videos/posts_data.csv', 'a', encoding=\"utf-8\", newline='') as f_object:\n",
        "                        \n",
        "                    dictwriter_object = DictWriter(f_object, fieldnames=field_names_post)\n",
        "                    dictwriter_object.writerow(video_data)\n",
        "                    f_object.close()\n",
        "                    \n",
        "        except:\n",
        "            \n",
        "            print('!!!  Unable to process video no ' +str(index)+'  !!!')\n",
        "            print('Copying information of the data to failed_data.csv\\n\\n')\n",
        "\n",
        "            with open('cropped_videos/failed_data.csv', 'a', encoding=\"utf-8\", newline='') as f_object:\n",
        "                \n",
        "                dictwriter_object = DictWriter(f_object, fieldnames=field_names_fail)\n",
        "                dictwriter_object.writerow(row.to_dict())\n",
        "                f_object.close()"
      ],
      "metadata": {
        "id": "FZESqXw1TVl0",
        "colab": {
          "base_uri": "https://localhost:8080/"
        },
        "outputId": "45497087-7478-4982-c2dc-8f352acdfd80"
      },
      "execution_count": 14,
      "outputs": [
        {
          "output_type": "stream",
          "name": "stdout",
          "text": [
            "Download is completed successfully\n",
            "[MoviePy] >>>> Building video cropped_videos/Anger/167c3c44-8067-46d6-bc5d-05bfabee44ef(Zi_k7H43Y-M).mp4\n",
            "[MoviePy] Writing audio in 167c3c44-8067-46d6-bc5d-05bfabee44ef(Zi_k7H43Y-M)TEMP_MPY_wvf_snd.mp3\n"
          ]
        },
        {
          "output_type": "stream",
          "name": "stderr",
          "text": [
            "100%|██████████| 111/111 [00:00<00:00, 453.81it/s]"
          ]
        },
        {
          "output_type": "stream",
          "name": "stdout",
          "text": [
            "[MoviePy] Done.\n",
            "[MoviePy] Writing video cropped_videos/Anger/167c3c44-8067-46d6-bc5d-05bfabee44ef(Zi_k7H43Y-M).mp4\n"
          ]
        },
        {
          "output_type": "stream",
          "name": "stderr",
          "text": [
            "\n",
            "100%|██████████| 150/150 [00:07<00:00, 20.38it/s]\n"
          ]
        },
        {
          "output_type": "stream",
          "name": "stdout",
          "text": [
            "[MoviePy] Done.\n",
            "[MoviePy] >>>> Video ready: cropped_videos/Anger/167c3c44-8067-46d6-bc5d-05bfabee44ef(Zi_k7H43Y-M).mp4 \n",
            "\n",
            "Video 0 downloaded\n",
            "Collected 6 images from video\n",
            "\n",
            "\n",
            "!!!  Unable to process video no 1  !!!\n",
            "Copying information of the data to failed_data.csv\n",
            "\n",
            "\n",
            "Download is completed successfully\n",
            "[MoviePy] >>>> Building video cropped_videos/Anger/33cc2b9b-aecd-4c25-99ad-25753a19f4b2(5K6W57k8ql0).mp4\n",
            "[MoviePy] Writing audio in 33cc2b9b-aecd-4c25-99ad-25753a19f4b2(5K6W57k8ql0)TEMP_MPY_wvf_snd.mp3\n"
          ]
        },
        {
          "output_type": "stream",
          "name": "stderr",
          "text": [
            "100%|██████████| 111/111 [00:00<00:00, 520.24it/s]"
          ]
        },
        {
          "output_type": "stream",
          "name": "stdout",
          "text": [
            "[MoviePy] Done.\n",
            "[MoviePy] Writing video cropped_videos/Anger/33cc2b9b-aecd-4c25-99ad-25753a19f4b2(5K6W57k8ql0).mp4\n"
          ]
        },
        {
          "output_type": "stream",
          "name": "stderr",
          "text": [
            "\n",
            " 99%|█████████▉| 150/151 [00:05<00:00, 27.73it/s]\n"
          ]
        },
        {
          "output_type": "stream",
          "name": "stdout",
          "text": [
            "[MoviePy] Done.\n",
            "[MoviePy] >>>> Video ready: cropped_videos/Anger/33cc2b9b-aecd-4c25-99ad-25753a19f4b2(5K6W57k8ql0).mp4 \n",
            "\n",
            "Video 2 downloaded\n",
            "Collected 6 images from video\n",
            "\n",
            "\n",
            "Download is completed successfully\n",
            "[MoviePy] >>>> Building video cropped_videos/Anger/def0006e-1882-46ae-98c1-e6e1591c220c(n5_TB2fS94w).mp4\n",
            "[MoviePy] Writing audio in def0006e-1882-46ae-98c1-e6e1591c220c(n5_TB2fS94w)TEMP_MPY_wvf_snd.mp3\n"
          ]
        },
        {
          "output_type": "stream",
          "name": "stderr",
          "text": [
            "100%|██████████| 111/111 [00:00<00:00, 446.41it/s]"
          ]
        },
        {
          "output_type": "stream",
          "name": "stdout",
          "text": [
            "[MoviePy] Done.\n",
            "[MoviePy] Writing video cropped_videos/Anger/def0006e-1882-46ae-98c1-e6e1591c220c(n5_TB2fS94w).mp4\n"
          ]
        },
        {
          "output_type": "stream",
          "name": "stderr",
          "text": [
            "\n",
            "100%|██████████| 120/120 [00:03<00:00, 31.28it/s]\n"
          ]
        },
        {
          "output_type": "stream",
          "name": "stdout",
          "text": [
            "[MoviePy] Done.\n",
            "[MoviePy] >>>> Video ready: cropped_videos/Anger/def0006e-1882-46ae-98c1-e6e1591c220c(n5_TB2fS94w).mp4 \n",
            "\n",
            "Video 3 downloaded\n",
            "Collected 6 images from video\n",
            "\n",
            "\n",
            "Download is completed successfully\n",
            "[MoviePy] >>>> Building video cropped_videos/Anger/712122f7-d9f5-42dc-8e9c-e25f354f4d89(BeX3iNcmu_k).mp4\n",
            "[MoviePy] Writing audio in 712122f7-d9f5-42dc-8e9c-e25f354f4d89(BeX3iNcmu_k)TEMP_MPY_wvf_snd.mp3\n"
          ]
        },
        {
          "output_type": "stream",
          "name": "stderr",
          "text": [
            "100%|██████████| 111/111 [00:00<00:00, 437.11it/s]"
          ]
        },
        {
          "output_type": "stream",
          "name": "stdout",
          "text": [
            "[MoviePy] Done.\n",
            "[MoviePy] Writing video cropped_videos/Anger/712122f7-d9f5-42dc-8e9c-e25f354f4d89(BeX3iNcmu_k).mp4\n"
          ]
        },
        {
          "output_type": "stream",
          "name": "stderr",
          "text": [
            "\n",
            "100%|██████████| 150/150 [00:08<00:00, 17.05it/s]\n"
          ]
        },
        {
          "output_type": "stream",
          "name": "stdout",
          "text": [
            "[MoviePy] Done.\n",
            "[MoviePy] >>>> Video ready: cropped_videos/Anger/712122f7-d9f5-42dc-8e9c-e25f354f4d89(BeX3iNcmu_k).mp4 \n",
            "\n",
            "Video 4 downloaded\n",
            "Collected 6 images from video\n",
            "\n",
            "\n",
            "!!!  Unable to process video no 5  !!!\n",
            "Copying information of the data to failed_data.csv\n",
            "\n",
            "\n",
            "Download is completed successfully\n",
            "[MoviePy] >>>> Building video cropped_videos/Anger/73b2deaf-8e92-4963-b7f0-4daf1dd5ade1(HkWJtAmMRQI).mp4\n",
            "[MoviePy] Writing audio in 73b2deaf-8e92-4963-b7f0-4daf1dd5ade1(HkWJtAmMRQI)TEMP_MPY_wvf_snd.mp3\n"
          ]
        },
        {
          "output_type": "stream",
          "name": "stderr",
          "text": [
            "100%|██████████| 111/111 [00:00<00:00, 449.43it/s]"
          ]
        },
        {
          "output_type": "stream",
          "name": "stdout",
          "text": [
            "[MoviePy] Done.\n",
            "[MoviePy] Writing video cropped_videos/Anger/73b2deaf-8e92-4963-b7f0-4daf1dd5ade1(HkWJtAmMRQI).mp4\n"
          ]
        },
        {
          "output_type": "stream",
          "name": "stderr",
          "text": [
            "\n",
            "100%|██████████| 150/150 [00:08<00:00, 17.99it/s]\n"
          ]
        },
        {
          "output_type": "stream",
          "name": "stdout",
          "text": [
            "[MoviePy] Done.\n",
            "[MoviePy] >>>> Video ready: cropped_videos/Anger/73b2deaf-8e92-4963-b7f0-4daf1dd5ade1(HkWJtAmMRQI).mp4 \n",
            "\n",
            "Video 6 downloaded\n",
            "Collected 6 images from video\n",
            "\n",
            "\n",
            "Download is completed successfully\n",
            "[MoviePy] >>>> Building video cropped_videos/Anger/3ffe4625-9f6c-47be-be60-a650ccc2018d(teYuoDuQ3AI).mp4\n",
            "[MoviePy] Writing audio in 3ffe4625-9f6c-47be-be60-a650ccc2018d(teYuoDuQ3AI)TEMP_MPY_wvf_snd.mp3\n"
          ]
        },
        {
          "output_type": "stream",
          "name": "stderr",
          "text": [
            "100%|██████████| 111/111 [00:00<00:00, 276.66it/s]"
          ]
        },
        {
          "output_type": "stream",
          "name": "stdout",
          "text": [
            "[MoviePy] Done.\n",
            "[MoviePy] Writing video cropped_videos/Anger/3ffe4625-9f6c-47be-be60-a650ccc2018d(teYuoDuQ3AI).mp4\n"
          ]
        },
        {
          "output_type": "stream",
          "name": "stderr",
          "text": [
            "\n",
            "100%|██████████| 150/150 [00:11<00:00, 13.02it/s]\n"
          ]
        },
        {
          "output_type": "stream",
          "name": "stdout",
          "text": [
            "[MoviePy] Done.\n",
            "[MoviePy] >>>> Video ready: cropped_videos/Anger/3ffe4625-9f6c-47be-be60-a650ccc2018d(teYuoDuQ3AI).mp4 \n",
            "\n",
            "Video 7 downloaded\n",
            "Collected 6 images from video\n",
            "\n",
            "\n",
            "Download is completed successfully\n",
            "[MoviePy] >>>> Building video cropped_videos/Anger/96741966-4e7e-48aa-a319-3765e0357cd6(nUaU59SpeEs).mp4\n",
            "[MoviePy] Writing audio in 96741966-4e7e-48aa-a319-3765e0357cd6(nUaU59SpeEs)TEMP_MPY_wvf_snd.mp3\n"
          ]
        },
        {
          "output_type": "stream",
          "name": "stderr",
          "text": [
            "100%|██████████| 111/111 [00:00<00:00, 390.09it/s]"
          ]
        },
        {
          "output_type": "stream",
          "name": "stdout",
          "text": [
            "[MoviePy] Done.\n",
            "[MoviePy] Writing video cropped_videos/Anger/96741966-4e7e-48aa-a319-3765e0357cd6(nUaU59SpeEs).mp4\n"
          ]
        },
        {
          "output_type": "stream",
          "name": "stderr",
          "text": [
            "\n",
            " 99%|█████████▉| 150/151 [00:07<00:00, 19.25it/s]\n"
          ]
        },
        {
          "output_type": "stream",
          "name": "stdout",
          "text": [
            "[MoviePy] Done.\n",
            "[MoviePy] >>>> Video ready: cropped_videos/Anger/96741966-4e7e-48aa-a319-3765e0357cd6(nUaU59SpeEs).mp4 \n",
            "\n",
            "Video 8 downloaded\n",
            "Collected 6 images from video\n",
            "\n",
            "\n",
            "Download is completed successfully\n",
            "[MoviePy] >>>> Building video cropped_videos/Anger/2f183f5d-5c4d-4fdf-b5fe-49a6e71321e1(Ci0zmmPX8zs).mp4\n",
            "[MoviePy] Writing audio in 2f183f5d-5c4d-4fdf-b5fe-49a6e71321e1(Ci0zmmPX8zs)TEMP_MPY_wvf_snd.mp3\n"
          ]
        },
        {
          "output_type": "stream",
          "name": "stderr",
          "text": [
            "100%|██████████| 111/111 [00:00<00:00, 436.11it/s]"
          ]
        },
        {
          "output_type": "stream",
          "name": "stdout",
          "text": [
            "[MoviePy] Done.\n",
            "[MoviePy] Writing video cropped_videos/Anger/2f183f5d-5c4d-4fdf-b5fe-49a6e71321e1(Ci0zmmPX8zs).mp4\n"
          ]
        },
        {
          "output_type": "stream",
          "name": "stderr",
          "text": [
            "\n",
            "100%|██████████| 150/150 [00:09<00:00, 16.50it/s]\n"
          ]
        },
        {
          "output_type": "stream",
          "name": "stdout",
          "text": [
            "[MoviePy] Done.\n",
            "[MoviePy] >>>> Video ready: cropped_videos/Anger/2f183f5d-5c4d-4fdf-b5fe-49a6e71321e1(Ci0zmmPX8zs).mp4 \n",
            "\n",
            "Video 9 downloaded\n",
            "Collected 6 images from video\n",
            "\n",
            "\n",
            "Download is completed successfully\n",
            "[MoviePy] >>>> Building video cropped_videos/Anger/e56dcfbd-3057-4446-b9f1-64c5fc0830ff(YhWNGolBP-o).mp4\n",
            "[MoviePy] Writing audio in e56dcfbd-3057-4446-b9f1-64c5fc0830ff(YhWNGolBP-o)TEMP_MPY_wvf_snd.mp3\n"
          ]
        },
        {
          "output_type": "stream",
          "name": "stderr",
          "text": [
            "100%|██████████| 111/111 [00:00<00:00, 430.90it/s]"
          ]
        },
        {
          "output_type": "stream",
          "name": "stdout",
          "text": [
            "[MoviePy] Done.\n",
            "[MoviePy] Writing video cropped_videos/Anger/e56dcfbd-3057-4446-b9f1-64c5fc0830ff(YhWNGolBP-o).mp4\n"
          ]
        },
        {
          "output_type": "stream",
          "name": "stderr",
          "text": [
            "\n",
            "100%|██████████| 149/149 [00:06<00:00, 23.62it/s]\n"
          ]
        },
        {
          "output_type": "stream",
          "name": "stdout",
          "text": [
            "[MoviePy] Done.\n",
            "[MoviePy] >>>> Video ready: cropped_videos/Anger/e56dcfbd-3057-4446-b9f1-64c5fc0830ff(YhWNGolBP-o).mp4 \n",
            "\n",
            "Video 10 downloaded\n",
            "Collected 6 images from video\n",
            "\n",
            "\n",
            "Download is completed successfully\n",
            "[MoviePy] >>>> Building video cropped_videos/Anger/77814c35-8359-4053-bdfa-6e10927cf34c(aWmX-MYe89k).mp4\n",
            "[MoviePy] Writing audio in 77814c35-8359-4053-bdfa-6e10927cf34c(aWmX-MYe89k)TEMP_MPY_wvf_snd.mp3\n"
          ]
        },
        {
          "output_type": "stream",
          "name": "stderr",
          "text": [
            "100%|██████████| 111/111 [00:00<00:00, 411.00it/s]"
          ]
        },
        {
          "output_type": "stream",
          "name": "stdout",
          "text": [
            "[MoviePy] Done.\n",
            "[MoviePy] Writing video cropped_videos/Anger/77814c35-8359-4053-bdfa-6e10927cf34c(aWmX-MYe89k).mp4\n"
          ]
        },
        {
          "output_type": "stream",
          "name": "stderr",
          "text": [
            "\n",
            " 99%|█████████▉| 120/121 [00:05<00:00, 22.40it/s]\n"
          ]
        },
        {
          "output_type": "stream",
          "name": "stdout",
          "text": [
            "[MoviePy] Done.\n",
            "[MoviePy] >>>> Video ready: cropped_videos/Anger/77814c35-8359-4053-bdfa-6e10927cf34c(aWmX-MYe89k).mp4 \n",
            "\n",
            "Video 11 downloaded\n",
            "Collected 6 images from video\n",
            "\n",
            "\n",
            "Download is completed successfully\n",
            "[MoviePy] >>>> Building video cropped_videos/Anger/0b7d3731-2f11-4bb2-9501-80b6f5398e64(YgSJ7e8R2Gs).mp4\n",
            "[MoviePy] Writing audio in 0b7d3731-2f11-4bb2-9501-80b6f5398e64(YgSJ7e8R2Gs)TEMP_MPY_wvf_snd.mp3\n"
          ]
        },
        {
          "output_type": "stream",
          "name": "stderr",
          "text": [
            "100%|██████████| 111/111 [00:00<00:00, 392.95it/s]"
          ]
        },
        {
          "output_type": "stream",
          "name": "stdout",
          "text": [
            "[MoviePy] Done.\n",
            "[MoviePy] Writing video cropped_videos/Anger/0b7d3731-2f11-4bb2-9501-80b6f5398e64(YgSJ7e8R2Gs).mp4\n"
          ]
        },
        {
          "output_type": "stream",
          "name": "stderr",
          "text": [
            "\n",
            " 99%|█████████▉| 125/126 [00:06<00:00, 17.97it/s]\n"
          ]
        },
        {
          "output_type": "stream",
          "name": "stdout",
          "text": [
            "[MoviePy] Done.\n",
            "[MoviePy] >>>> Video ready: cropped_videos/Anger/0b7d3731-2f11-4bb2-9501-80b6f5398e64(YgSJ7e8R2Gs).mp4 \n",
            "\n",
            "Video 12 downloaded\n",
            "Collected 6 images from video\n",
            "\n",
            "\n",
            "Download is completed successfully\n",
            "[MoviePy] >>>> Building video cropped_videos/Anger/820a7a7b-e14e-4e43-bb66-c52a6116a56a(RHPgKSR3Zk4).mp4\n",
            "[MoviePy] Writing audio in 820a7a7b-e14e-4e43-bb66-c52a6116a56a(RHPgKSR3Zk4)TEMP_MPY_wvf_snd.mp3\n"
          ]
        },
        {
          "output_type": "stream",
          "name": "stderr",
          "text": [
            "100%|██████████| 111/111 [00:00<00:00, 407.64it/s]"
          ]
        },
        {
          "output_type": "stream",
          "name": "stdout",
          "text": [
            "[MoviePy] Done.\n",
            "[MoviePy] Writing video cropped_videos/Anger/820a7a7b-e14e-4e43-bb66-c52a6116a56a(RHPgKSR3Zk4).mp4\n"
          ]
        },
        {
          "output_type": "stream",
          "name": "stderr",
          "text": [
            "\n",
            "100%|██████████| 121/121 [00:04<00:00, 26.39it/s]\n"
          ]
        },
        {
          "output_type": "stream",
          "name": "stdout",
          "text": [
            "[MoviePy] Done.\n",
            "[MoviePy] >>>> Video ready: cropped_videos/Anger/820a7a7b-e14e-4e43-bb66-c52a6116a56a(RHPgKSR3Zk4).mp4 \n",
            "\n",
            "Video 13 downloaded\n",
            "Collected 6 images from video\n",
            "\n",
            "\n",
            "Download is completed successfully\n",
            "[MoviePy] >>>> Building video cropped_videos/Anger/fac2e2a8-9ce1-4598-b40d-b05d8f569ac2(9OwljsT2rWo).mp4\n",
            "[MoviePy] Writing audio in fac2e2a8-9ce1-4598-b40d-b05d8f569ac2(9OwljsT2rWo)TEMP_MPY_wvf_snd.mp3\n"
          ]
        },
        {
          "output_type": "stream",
          "name": "stderr",
          "text": [
            "100%|██████████| 111/111 [00:00<00:00, 396.83it/s]"
          ]
        },
        {
          "output_type": "stream",
          "name": "stdout",
          "text": [
            "[MoviePy] Done.\n",
            "[MoviePy] Writing video cropped_videos/Anger/fac2e2a8-9ce1-4598-b40d-b05d8f569ac2(9OwljsT2rWo).mp4\n"
          ]
        },
        {
          "output_type": "stream",
          "name": "stderr",
          "text": [
            "\n",
            " 99%|█████████▉| 120/121 [00:04<00:00, 27.50it/s]\n"
          ]
        },
        {
          "output_type": "stream",
          "name": "stdout",
          "text": [
            "[MoviePy] Done.\n",
            "[MoviePy] >>>> Video ready: cropped_videos/Anger/fac2e2a8-9ce1-4598-b40d-b05d8f569ac2(9OwljsT2rWo).mp4 \n",
            "\n",
            "Video 14 downloaded\n",
            "Collected 6 images from video\n",
            "\n",
            "\n",
            "Download is completed successfully\n",
            "[MoviePy] >>>> Building video cropped_videos/Anger/b04000ec-a377-4cef-a82b-582e841a15ca(7Z_4lGoldVY).mp4\n",
            "[MoviePy] Writing audio in b04000ec-a377-4cef-a82b-582e841a15ca(7Z_4lGoldVY)TEMP_MPY_wvf_snd.mp3\n"
          ]
        },
        {
          "output_type": "stream",
          "name": "stderr",
          "text": [
            "100%|██████████| 111/111 [00:00<00:00, 397.23it/s]"
          ]
        },
        {
          "output_type": "stream",
          "name": "stdout",
          "text": [
            "[MoviePy] Done.\n",
            "[MoviePy] Writing video cropped_videos/Anger/b04000ec-a377-4cef-a82b-582e841a15ca(7Z_4lGoldVY).mp4\n"
          ]
        },
        {
          "output_type": "stream",
          "name": "stderr",
          "text": [
            "\n",
            " 99%|█████████▉| 125/126 [00:08<00:00, 15.43it/s]\n"
          ]
        },
        {
          "output_type": "stream",
          "name": "stdout",
          "text": [
            "[MoviePy] Done.\n",
            "[MoviePy] >>>> Video ready: cropped_videos/Anger/b04000ec-a377-4cef-a82b-582e841a15ca(7Z_4lGoldVY).mp4 \n",
            "\n",
            "Video 15 downloaded\n",
            "Collected 6 images from video\n",
            "\n",
            "\n",
            "Download is completed successfully\n",
            "[MoviePy] >>>> Building video cropped_videos/Anger/85d744b7-a640-4c62-a359-0384217f88ef(FDFdroN7d0w).mp4\n",
            "[MoviePy] Writing audio in 85d744b7-a640-4c62-a359-0384217f88ef(FDFdroN7d0w)TEMP_MPY_wvf_snd.mp3\n"
          ]
        },
        {
          "output_type": "stream",
          "name": "stderr",
          "text": [
            "100%|██████████| 111/111 [00:00<00:00, 289.34it/s]"
          ]
        },
        {
          "output_type": "stream",
          "name": "stdout",
          "text": [
            "[MoviePy] Done.\n",
            "[MoviePy] Writing video cropped_videos/Anger/85d744b7-a640-4c62-a359-0384217f88ef(FDFdroN7d0w).mp4\n"
          ]
        },
        {
          "output_type": "stream",
          "name": "stderr",
          "text": [
            "\n",
            " 99%|█████████▉| 120/121 [00:05<00:00, 22.29it/s]\n"
          ]
        },
        {
          "output_type": "stream",
          "name": "stdout",
          "text": [
            "[MoviePy] Done.\n",
            "[MoviePy] >>>> Video ready: cropped_videos/Anger/85d744b7-a640-4c62-a359-0384217f88ef(FDFdroN7d0w).mp4 \n",
            "\n",
            "Video 16 downloaded\n",
            "Collected 6 images from video\n",
            "\n",
            "\n",
            "Download is completed successfully\n",
            "[MoviePy] >>>> Building video cropped_videos/Anger/ab2ef34a-d691-4d4f-accd-441fb660a179(TqyBfhnNBVU).mp4\n",
            "[MoviePy] Writing audio in ab2ef34a-d691-4d4f-accd-441fb660a179(TqyBfhnNBVU)TEMP_MPY_wvf_snd.mp3\n"
          ]
        },
        {
          "output_type": "stream",
          "name": "stderr",
          "text": [
            "100%|██████████| 111/111 [00:00<00:00, 453.98it/s]"
          ]
        },
        {
          "output_type": "stream",
          "name": "stdout",
          "text": [
            "[MoviePy] Done.\n",
            "[MoviePy] Writing video cropped_videos/Anger/ab2ef34a-d691-4d4f-accd-441fb660a179(TqyBfhnNBVU).mp4\n"
          ]
        },
        {
          "output_type": "stream",
          "name": "stderr",
          "text": [
            "\n",
            " 99%|█████████▉| 125/126 [00:06<00:00, 20.11it/s]\n"
          ]
        },
        {
          "output_type": "stream",
          "name": "stdout",
          "text": [
            "[MoviePy] Done.\n",
            "[MoviePy] >>>> Video ready: cropped_videos/Anger/ab2ef34a-d691-4d4f-accd-441fb660a179(TqyBfhnNBVU).mp4 \n",
            "\n",
            "Video 17 downloaded\n",
            "Collected 6 images from video\n",
            "\n",
            "\n",
            "Download is completed successfully\n",
            "[MoviePy] >>>> Building video cropped_videos/Anger/b51f7c9e-1b8d-4c2a-a853-7a4370bbf011(jcrt1iWF1Hk).mp4\n",
            "[MoviePy] Writing audio in b51f7c9e-1b8d-4c2a-a853-7a4370bbf011(jcrt1iWF1Hk)TEMP_MPY_wvf_snd.mp3\n"
          ]
        },
        {
          "output_type": "stream",
          "name": "stderr",
          "text": [
            "100%|██████████| 111/111 [00:00<00:00, 511.33it/s]"
          ]
        },
        {
          "output_type": "stream",
          "name": "stdout",
          "text": [
            "[MoviePy] Done.\n",
            "[MoviePy] Writing video cropped_videos/Anger/b51f7c9e-1b8d-4c2a-a853-7a4370bbf011(jcrt1iWF1Hk).mp4\n"
          ]
        },
        {
          "output_type": "stream",
          "name": "stderr",
          "text": [
            "\n",
            " 99%|█████████▉| 125/126 [00:05<00:00, 23.76it/s]\n"
          ]
        },
        {
          "output_type": "stream",
          "name": "stdout",
          "text": [
            "[MoviePy] Done.\n",
            "[MoviePy] >>>> Video ready: cropped_videos/Anger/b51f7c9e-1b8d-4c2a-a853-7a4370bbf011(jcrt1iWF1Hk).mp4 \n",
            "\n",
            "Video 18 downloaded\n",
            "Collected 6 images from video\n",
            "\n",
            "\n",
            "!!!  Unable to process video no 19  !!!\n",
            "Copying information of the data to failed_data.csv\n",
            "\n",
            "\n",
            "!!!  Unable to process video no 20  !!!\n",
            "Copying information of the data to failed_data.csv\n",
            "\n",
            "\n",
            "Download is completed successfully\n",
            "[MoviePy] >>>> Building video cropped_videos/Anger/f8ccfc65-746f-40bc-b097-c0f814ec6751(oYvGYpVGevw).mp4\n",
            "[MoviePy] Writing audio in f8ccfc65-746f-40bc-b097-c0f814ec6751(oYvGYpVGevw)TEMP_MPY_wvf_snd.mp3\n"
          ]
        },
        {
          "output_type": "stream",
          "name": "stderr",
          "text": [
            "100%|██████████| 111/111 [00:00<00:00, 490.21it/s]"
          ]
        },
        {
          "output_type": "stream",
          "name": "stdout",
          "text": [
            "[MoviePy] Done.\n",
            "[MoviePy] Writing video cropped_videos/Anger/f8ccfc65-746f-40bc-b097-c0f814ec6751(oYvGYpVGevw).mp4\n"
          ]
        },
        {
          "output_type": "stream",
          "name": "stderr",
          "text": [
            "\n",
            " 99%|█████████▉| 125/126 [00:07<00:00, 16.46it/s]\n"
          ]
        },
        {
          "output_type": "stream",
          "name": "stdout",
          "text": [
            "[MoviePy] Done.\n",
            "[MoviePy] >>>> Video ready: cropped_videos/Anger/f8ccfc65-746f-40bc-b097-c0f814ec6751(oYvGYpVGevw).mp4 \n",
            "\n",
            "Video 21 downloaded\n",
            "Collected 6 images from video\n",
            "\n",
            "\n",
            "!!!  Unable to process video no 22  !!!\n",
            "Copying information of the data to failed_data.csv\n",
            "\n",
            "\n",
            "Download is completed successfully\n",
            "[MoviePy] >>>> Building video cropped_videos/Anger/d8a200a2-f6b0-4ffb-84de-1fd491717bdf(CnU_n18_wgw).mp4\n",
            "[MoviePy] Writing audio in d8a200a2-f6b0-4ffb-84de-1fd491717bdf(CnU_n18_wgw)TEMP_MPY_wvf_snd.mp3\n"
          ]
        },
        {
          "output_type": "stream",
          "name": "stderr",
          "text": [
            "100%|██████████| 111/111 [00:00<00:00, 433.09it/s]"
          ]
        },
        {
          "output_type": "stream",
          "name": "stdout",
          "text": [
            "[MoviePy] Done.\n",
            "[MoviePy] Writing video cropped_videos/Anger/d8a200a2-f6b0-4ffb-84de-1fd491717bdf(CnU_n18_wgw).mp4\n"
          ]
        },
        {
          "output_type": "stream",
          "name": "stderr",
          "text": [
            "\n",
            " 99%|█████████▉| 125/126 [00:05<00:00, 24.59it/s]\n"
          ]
        },
        {
          "output_type": "stream",
          "name": "stdout",
          "text": [
            "[MoviePy] Done.\n",
            "[MoviePy] >>>> Video ready: cropped_videos/Anger/d8a200a2-f6b0-4ffb-84de-1fd491717bdf(CnU_n18_wgw).mp4 \n",
            "\n",
            "Video 23 downloaded\n",
            "Collected 6 images from video\n",
            "\n",
            "\n",
            "Download is completed successfully\n",
            "[MoviePy] >>>> Building video cropped_videos/Anger/038d912e-2027-4d08-b7c7-6f9ce246590c(xIhCAqGl49U).mp4\n",
            "[MoviePy] Writing audio in 038d912e-2027-4d08-b7c7-6f9ce246590c(xIhCAqGl49U)TEMP_MPY_wvf_snd.mp3\n"
          ]
        },
        {
          "output_type": "stream",
          "name": "stderr",
          "text": [
            "100%|██████████| 111/111 [00:00<00:00, 364.38it/s]\n"
          ]
        },
        {
          "output_type": "stream",
          "name": "stdout",
          "text": [
            "[MoviePy] Done.\n",
            "[MoviePy] Writing video cropped_videos/Anger/038d912e-2027-4d08-b7c7-6f9ce246590c(xIhCAqGl49U).mp4\n"
          ]
        },
        {
          "output_type": "stream",
          "name": "stderr",
          "text": [
            " 99%|█████████▉| 125/126 [00:05<00:00, 21.03it/s]\n"
          ]
        },
        {
          "output_type": "stream",
          "name": "stdout",
          "text": [
            "[MoviePy] Done.\n",
            "[MoviePy] >>>> Video ready: cropped_videos/Anger/038d912e-2027-4d08-b7c7-6f9ce246590c(xIhCAqGl49U).mp4 \n",
            "\n",
            "Video 24 downloaded\n",
            "Collected 6 images from video\n",
            "\n",
            "\n",
            "Download is completed successfully\n",
            "[MoviePy] >>>> Building video cropped_videos/Anger/e3c9b53c-9184-4f66-a444-dbc8d4768c17(H_uBfQPkcNc).mp4\n",
            "[MoviePy] Writing audio in e3c9b53c-9184-4f66-a444-dbc8d4768c17(H_uBfQPkcNc)TEMP_MPY_wvf_snd.mp3\n"
          ]
        },
        {
          "output_type": "stream",
          "name": "stderr",
          "text": [
            "100%|██████████| 111/111 [00:00<00:00, 430.67it/s]"
          ]
        },
        {
          "output_type": "stream",
          "name": "stdout",
          "text": [
            "[MoviePy] Done.\n",
            "[MoviePy] Writing video cropped_videos/Anger/e3c9b53c-9184-4f66-a444-dbc8d4768c17(H_uBfQPkcNc).mp4\n"
          ]
        },
        {
          "output_type": "stream",
          "name": "stderr",
          "text": [
            "\n",
            "100%|██████████| 120/120 [00:05<00:00, 20.16it/s]\n"
          ]
        },
        {
          "output_type": "stream",
          "name": "stdout",
          "text": [
            "[MoviePy] Done.\n",
            "[MoviePy] >>>> Video ready: cropped_videos/Anger/e3c9b53c-9184-4f66-a444-dbc8d4768c17(H_uBfQPkcNc).mp4 \n",
            "\n",
            "Video 25 downloaded\n",
            "Collected 6 images from video\n",
            "\n",
            "\n",
            "Download is completed successfully\n",
            "[MoviePy] >>>> Building video cropped_videos/Anger/e09578e3-a41c-48cc-bf9e-cca6c4a355cf(vKfy0pO0kB0).mp4\n",
            "[MoviePy] Writing audio in e09578e3-a41c-48cc-bf9e-cca6c4a355cf(vKfy0pO0kB0)TEMP_MPY_wvf_snd.mp3\n"
          ]
        },
        {
          "output_type": "stream",
          "name": "stderr",
          "text": [
            "100%|██████████| 111/111 [00:00<00:00, 446.37it/s]"
          ]
        },
        {
          "output_type": "stream",
          "name": "stdout",
          "text": [
            "[MoviePy] Done.\n",
            "[MoviePy] Writing video cropped_videos/Anger/e09578e3-a41c-48cc-bf9e-cca6c4a355cf(vKfy0pO0kB0).mp4\n"
          ]
        },
        {
          "output_type": "stream",
          "name": "stderr",
          "text": [
            "\n",
            " 99%|█████████▉| 120/121 [00:04<00:00, 24.04it/s]\n"
          ]
        },
        {
          "output_type": "stream",
          "name": "stdout",
          "text": [
            "[MoviePy] Done.\n",
            "[MoviePy] >>>> Video ready: cropped_videos/Anger/e09578e3-a41c-48cc-bf9e-cca6c4a355cf(vKfy0pO0kB0).mp4 \n",
            "\n",
            "Video 26 downloaded\n",
            "Collected 6 images from video\n",
            "\n",
            "\n",
            "Download is completed successfully\n",
            "[MoviePy] >>>> Building video cropped_videos/Anger/977675aa-15d0-4a76-99c0-34d7ffd6de0c(K8M4KGedve8).mp4\n",
            "[MoviePy] Writing audio in 977675aa-15d0-4a76-99c0-34d7ffd6de0c(K8M4KGedve8)TEMP_MPY_wvf_snd.mp3\n"
          ]
        },
        {
          "output_type": "stream",
          "name": "stderr",
          "text": [
            "100%|██████████| 111/111 [00:00<00:00, 465.01it/s]"
          ]
        },
        {
          "output_type": "stream",
          "name": "stdout",
          "text": [
            "[MoviePy] Done.\n",
            "[MoviePy] Writing video cropped_videos/Anger/977675aa-15d0-4a76-99c0-34d7ffd6de0c(K8M4KGedve8).mp4\n"
          ]
        },
        {
          "output_type": "stream",
          "name": "stderr",
          "text": [
            "\n",
            " 99%|█████████▉| 120/121 [00:04<00:00, 24.52it/s]\n"
          ]
        },
        {
          "output_type": "stream",
          "name": "stdout",
          "text": [
            "[MoviePy] Done.\n",
            "[MoviePy] >>>> Video ready: cropped_videos/Anger/977675aa-15d0-4a76-99c0-34d7ffd6de0c(K8M4KGedve8).mp4 \n",
            "\n",
            "Video 27 downloaded\n",
            "Collected 6 images from video\n",
            "\n",
            "\n",
            "Download is completed successfully\n",
            "[MoviePy] >>>> Building video cropped_videos/Anger/8c70ce75-741e-40d4-a037-bc732c040f15(legUMXBEsyI).mp4\n",
            "[MoviePy] Writing audio in 8c70ce75-741e-40d4-a037-bc732c040f15(legUMXBEsyI)TEMP_MPY_wvf_snd.mp3\n"
          ]
        },
        {
          "output_type": "stream",
          "name": "stderr",
          "text": [
            "100%|██████████| 111/111 [00:00<00:00, 497.86it/s]"
          ]
        },
        {
          "output_type": "stream",
          "name": "stdout",
          "text": [
            "[MoviePy] Done.\n",
            "[MoviePy] Writing video cropped_videos/Anger/8c70ce75-741e-40d4-a037-bc732c040f15(legUMXBEsyI).mp4\n"
          ]
        },
        {
          "output_type": "stream",
          "name": "stderr",
          "text": [
            "\n",
            " 99%|█████████▉| 150/151 [00:01<00:00, 125.69it/s]\n"
          ]
        },
        {
          "output_type": "stream",
          "name": "stdout",
          "text": [
            "[MoviePy] Done.\n",
            "[MoviePy] >>>> Video ready: cropped_videos/Anger/8c70ce75-741e-40d4-a037-bc732c040f15(legUMXBEsyI).mp4 \n",
            "\n",
            "Video 28 downloaded\n",
            "Collected 6 images from video\n",
            "\n",
            "\n",
            "Download is completed successfully\n",
            "[MoviePy] >>>> Building video cropped_videos/Anger/a5e1a503-46f0-4e1c-9197-f0d321ec78cc(Cr-3QXs4oaE).mp4\n",
            "[MoviePy] Writing audio in a5e1a503-46f0-4e1c-9197-f0d321ec78cc(Cr-3QXs4oaE)TEMP_MPY_wvf_snd.mp3\n"
          ]
        },
        {
          "output_type": "stream",
          "name": "stderr",
          "text": [
            "100%|██████████| 111/111 [00:00<00:00, 478.12it/s]"
          ]
        },
        {
          "output_type": "stream",
          "name": "stdout",
          "text": [
            "[MoviePy] Done.\n",
            "[MoviePy] Writing video cropped_videos/Anger/a5e1a503-46f0-4e1c-9197-f0d321ec78cc(Cr-3QXs4oaE).mp4\n"
          ]
        },
        {
          "output_type": "stream",
          "name": "stderr",
          "text": [
            "\n",
            " 99%|█████████▉| 120/121 [00:04<00:00, 26.12it/s]\n"
          ]
        },
        {
          "output_type": "stream",
          "name": "stdout",
          "text": [
            "[MoviePy] Done.\n",
            "[MoviePy] >>>> Video ready: cropped_videos/Anger/a5e1a503-46f0-4e1c-9197-f0d321ec78cc(Cr-3QXs4oaE).mp4 \n",
            "\n",
            "Video 29 downloaded\n",
            "Collected 6 images from video\n",
            "\n",
            "\n",
            "[MoviePy] >>>> Building video cropped_videos/Anger/91177098-1795-4f84-9f9b-02f7ea6c357e(BeX3iNcmu_k).mp4\n",
            "[MoviePy] Writing audio in 91177098-1795-4f84-9f9b-02f7ea6c357e(BeX3iNcmu_k)TEMP_MPY_wvf_snd.mp3\n"
          ]
        },
        {
          "output_type": "stream",
          "name": "stderr",
          "text": [
            "100%|██████████| 111/111 [00:00<00:00, 460.01it/s]"
          ]
        },
        {
          "output_type": "stream",
          "name": "stdout",
          "text": [
            "[MoviePy] Done.\n",
            "[MoviePy] Writing video cropped_videos/Anger/91177098-1795-4f84-9f9b-02f7ea6c357e(BeX3iNcmu_k).mp4\n"
          ]
        },
        {
          "output_type": "stream",
          "name": "stderr",
          "text": [
            "\n",
            "100%|██████████| 150/150 [00:06<00:00, 22.79it/s]\n"
          ]
        },
        {
          "output_type": "stream",
          "name": "stdout",
          "text": [
            "[MoviePy] Done.\n",
            "[MoviePy] >>>> Video ready: cropped_videos/Anger/91177098-1795-4f84-9f9b-02f7ea6c357e(BeX3iNcmu_k).mp4 \n",
            "\n",
            "Video 30 downloaded\n",
            "Collected 6 images from video\n",
            "\n",
            "\n",
            "[MoviePy] >>>> Building video cropped_videos/Anger/8547d3fe-585a-4ed4-bd03-726fa2a7a08e(BeX3iNcmu_k).mp4\n",
            "[MoviePy] Writing audio in 8547d3fe-585a-4ed4-bd03-726fa2a7a08e(BeX3iNcmu_k)TEMP_MPY_wvf_snd.mp3\n"
          ]
        },
        {
          "output_type": "stream",
          "name": "stderr",
          "text": [
            "100%|██████████| 111/111 [00:00<00:00, 421.47it/s]"
          ]
        },
        {
          "output_type": "stream",
          "name": "stdout",
          "text": [
            "[MoviePy] Done.\n",
            "[MoviePy] Writing video cropped_videos/Anger/8547d3fe-585a-4ed4-bd03-726fa2a7a08e(BeX3iNcmu_k).mp4\n"
          ]
        },
        {
          "output_type": "stream",
          "name": "stderr",
          "text": [
            "\n",
            "100%|██████████| 150/150 [00:08<00:00, 18.10it/s]\n"
          ]
        },
        {
          "output_type": "stream",
          "name": "stdout",
          "text": [
            "[MoviePy] Done.\n",
            "[MoviePy] >>>> Video ready: cropped_videos/Anger/8547d3fe-585a-4ed4-bd03-726fa2a7a08e(BeX3iNcmu_k).mp4 \n",
            "\n",
            "Video 31 downloaded\n",
            "Collected 6 images from video\n",
            "\n",
            "\n",
            "[MoviePy] >>>> Building video cropped_videos/Anger/13d3f1a9-fb4b-4ce4-a705-133321bfccf3(HkWJtAmMRQI).mp4\n",
            "[MoviePy] Writing audio in 13d3f1a9-fb4b-4ce4-a705-133321bfccf3(HkWJtAmMRQI)TEMP_MPY_wvf_snd.mp3\n"
          ]
        },
        {
          "output_type": "stream",
          "name": "stderr",
          "text": [
            "100%|██████████| 111/111 [00:00<00:00, 371.96it/s]"
          ]
        },
        {
          "output_type": "stream",
          "name": "stdout",
          "text": [
            "[MoviePy] Done.\n",
            "[MoviePy] Writing video cropped_videos/Anger/13d3f1a9-fb4b-4ce4-a705-133321bfccf3(HkWJtAmMRQI).mp4\n"
          ]
        },
        {
          "output_type": "stream",
          "name": "stderr",
          "text": [
            "\n",
            "100%|██████████| 150/150 [00:05<00:00, 25.38it/s]\n"
          ]
        },
        {
          "output_type": "stream",
          "name": "stdout",
          "text": [
            "[MoviePy] Done.\n",
            "[MoviePy] >>>> Video ready: cropped_videos/Anger/13d3f1a9-fb4b-4ce4-a705-133321bfccf3(HkWJtAmMRQI).mp4 \n",
            "\n",
            "Video 32 downloaded\n",
            "Collected 6 images from video\n",
            "\n",
            "\n",
            "[MoviePy] >>>> Building video cropped_videos/Anger/00b72fa5-92cb-43f6-85af-2bc9fcd42ec5(HkWJtAmMRQI).mp4\n",
            "[MoviePy] Writing audio in 00b72fa5-92cb-43f6-85af-2bc9fcd42ec5(HkWJtAmMRQI)TEMP_MPY_wvf_snd.mp3\n"
          ]
        },
        {
          "output_type": "stream",
          "name": "stderr",
          "text": [
            "100%|██████████| 111/111 [00:00<00:00, 412.87it/s]"
          ]
        },
        {
          "output_type": "stream",
          "name": "stdout",
          "text": [
            "[MoviePy] Done.\n",
            "[MoviePy] Writing video cropped_videos/Anger/00b72fa5-92cb-43f6-85af-2bc9fcd42ec5(HkWJtAmMRQI).mp4\n"
          ]
        },
        {
          "output_type": "stream",
          "name": "stderr",
          "text": [
            "\n",
            "100%|██████████| 150/150 [00:09<00:00, 16.49it/s]\n"
          ]
        },
        {
          "output_type": "stream",
          "name": "stdout",
          "text": [
            "[MoviePy] Done.\n",
            "[MoviePy] >>>> Video ready: cropped_videos/Anger/00b72fa5-92cb-43f6-85af-2bc9fcd42ec5(HkWJtAmMRQI).mp4 \n",
            "\n",
            "Video 33 downloaded\n",
            "Collected 6 images from video\n",
            "\n",
            "\n",
            "[MoviePy] >>>> Building video cropped_videos/Anger/b1719797-2597-4041-af9f-6678fd62013e(HkWJtAmMRQI).mp4\n",
            "[MoviePy] Writing audio in b1719797-2597-4041-af9f-6678fd62013e(HkWJtAmMRQI)TEMP_MPY_wvf_snd.mp3\n"
          ]
        },
        {
          "output_type": "stream",
          "name": "stderr",
          "text": [
            "100%|██████████| 111/111 [00:00<00:00, 427.29it/s]"
          ]
        },
        {
          "output_type": "stream",
          "name": "stdout",
          "text": [
            "[MoviePy] Done.\n",
            "[MoviePy] Writing video cropped_videos/Anger/b1719797-2597-4041-af9f-6678fd62013e(HkWJtAmMRQI).mp4\n"
          ]
        },
        {
          "output_type": "stream",
          "name": "stderr",
          "text": [
            "\n",
            "100%|██████████| 150/150 [00:07<00:00, 21.40it/s]\n"
          ]
        },
        {
          "output_type": "stream",
          "name": "stdout",
          "text": [
            "[MoviePy] Done.\n",
            "[MoviePy] >>>> Video ready: cropped_videos/Anger/b1719797-2597-4041-af9f-6678fd62013e(HkWJtAmMRQI).mp4 \n",
            "\n",
            "Video 34 downloaded\n",
            "Collected 6 images from video\n",
            "\n",
            "\n",
            "[MoviePy] >>>> Building video cropped_videos/Anger/588b620b-329c-4d4f-80b9-46f26f3597a2(teYuoDuQ3AI).mp4\n",
            "[MoviePy] Writing audio in 588b620b-329c-4d4f-80b9-46f26f3597a2(teYuoDuQ3AI)TEMP_MPY_wvf_snd.mp3\n"
          ]
        },
        {
          "output_type": "stream",
          "name": "stderr",
          "text": [
            "100%|██████████| 111/111 [00:00<00:00, 412.69it/s]"
          ]
        },
        {
          "output_type": "stream",
          "name": "stdout",
          "text": [
            "[MoviePy] Done.\n",
            "[MoviePy] Writing video cropped_videos/Anger/588b620b-329c-4d4f-80b9-46f26f3597a2(teYuoDuQ3AI).mp4\n"
          ]
        },
        {
          "output_type": "stream",
          "name": "stderr",
          "text": [
            "\n",
            "100%|██████████| 150/150 [00:07<00:00, 20.35it/s]\n"
          ]
        },
        {
          "output_type": "stream",
          "name": "stdout",
          "text": [
            "[MoviePy] Done.\n",
            "[MoviePy] >>>> Video ready: cropped_videos/Anger/588b620b-329c-4d4f-80b9-46f26f3597a2(teYuoDuQ3AI).mp4 \n",
            "\n",
            "Video 35 downloaded\n",
            "Collected 6 images from video\n",
            "\n",
            "\n",
            "[MoviePy] >>>> Building video cropped_videos/Anger/066585f5-500b-4cca-84c5-7d64b757f06a(teYuoDuQ3AI).mp4\n",
            "[MoviePy] Writing audio in 066585f5-500b-4cca-84c5-7d64b757f06a(teYuoDuQ3AI)TEMP_MPY_wvf_snd.mp3\n"
          ]
        },
        {
          "output_type": "stream",
          "name": "stderr",
          "text": [
            "100%|██████████| 111/111 [00:00<00:00, 394.11it/s]"
          ]
        },
        {
          "output_type": "stream",
          "name": "stdout",
          "text": [
            "[MoviePy] Done.\n",
            "[MoviePy] Writing video cropped_videos/Anger/066585f5-500b-4cca-84c5-7d64b757f06a(teYuoDuQ3AI).mp4\n"
          ]
        },
        {
          "output_type": "stream",
          "name": "stderr",
          "text": [
            "\n",
            "100%|██████████| 150/150 [00:07<00:00, 20.04it/s]\n"
          ]
        },
        {
          "output_type": "stream",
          "name": "stdout",
          "text": [
            "[MoviePy] Done.\n",
            "[MoviePy] >>>> Video ready: cropped_videos/Anger/066585f5-500b-4cca-84c5-7d64b757f06a(teYuoDuQ3AI).mp4 \n",
            "\n",
            "Video 36 downloaded\n",
            "Collected 6 images from video\n",
            "\n",
            "\n",
            "[MoviePy] >>>> Building video cropped_videos/Anger/8ceba366-5e4c-40f3-b45d-6055808273a5(teYuoDuQ3AI).mp4\n",
            "[MoviePy] Writing audio in 8ceba366-5e4c-40f3-b45d-6055808273a5(teYuoDuQ3AI)TEMP_MPY_wvf_snd.mp3\n"
          ]
        },
        {
          "output_type": "stream",
          "name": "stderr",
          "text": [
            "100%|██████████| 111/111 [00:00<00:00, 392.42it/s]"
          ]
        },
        {
          "output_type": "stream",
          "name": "stdout",
          "text": [
            "[MoviePy] Done.\n",
            "[MoviePy] Writing video cropped_videos/Anger/8ceba366-5e4c-40f3-b45d-6055808273a5(teYuoDuQ3AI).mp4\n"
          ]
        },
        {
          "output_type": "stream",
          "name": "stderr",
          "text": [
            "\n",
            "100%|██████████| 150/150 [00:06<00:00, 23.46it/s]\n"
          ]
        },
        {
          "output_type": "stream",
          "name": "stdout",
          "text": [
            "[MoviePy] Done.\n",
            "[MoviePy] >>>> Video ready: cropped_videos/Anger/8ceba366-5e4c-40f3-b45d-6055808273a5(teYuoDuQ3AI).mp4 \n",
            "\n",
            "Video 37 downloaded\n",
            "Collected 6 images from video\n",
            "\n",
            "\n",
            "[MoviePy] >>>> Building video cropped_videos/Anger/ea222695-3082-4b0a-8dd3-664cc37804a7(teYuoDuQ3AI).mp4\n",
            "[MoviePy] Writing audio in ea222695-3082-4b0a-8dd3-664cc37804a7(teYuoDuQ3AI)TEMP_MPY_wvf_snd.mp3\n"
          ]
        },
        {
          "output_type": "stream",
          "name": "stderr",
          "text": [
            "100%|██████████| 111/111 [00:00<00:00, 380.96it/s]"
          ]
        },
        {
          "output_type": "stream",
          "name": "stdout",
          "text": [
            "[MoviePy] Done.\n",
            "[MoviePy] Writing video cropped_videos/Anger/ea222695-3082-4b0a-8dd3-664cc37804a7(teYuoDuQ3AI).mp4\n"
          ]
        },
        {
          "output_type": "stream",
          "name": "stderr",
          "text": [
            "\n",
            "100%|██████████| 150/150 [00:06<00:00, 22.10it/s]\n"
          ]
        },
        {
          "output_type": "stream",
          "name": "stdout",
          "text": [
            "[MoviePy] Done.\n",
            "[MoviePy] >>>> Video ready: cropped_videos/Anger/ea222695-3082-4b0a-8dd3-664cc37804a7(teYuoDuQ3AI).mp4 \n",
            "\n",
            "Video 38 downloaded\n",
            "Collected 6 images from video\n",
            "\n",
            "\n",
            "[MoviePy] >>>> Building video cropped_videos/Anger/9778708f-da11-4ef9-a88c-f6840c2fbf1b(teYuoDuQ3AI).mp4\n",
            "[MoviePy] Writing audio in 9778708f-da11-4ef9-a88c-f6840c2fbf1b(teYuoDuQ3AI)TEMP_MPY_wvf_snd.mp3\n"
          ]
        },
        {
          "output_type": "stream",
          "name": "stderr",
          "text": [
            "100%|██████████| 111/111 [00:00<00:00, 387.46it/s]"
          ]
        },
        {
          "output_type": "stream",
          "name": "stdout",
          "text": [
            "[MoviePy] Done.\n",
            "[MoviePy] Writing video cropped_videos/Anger/9778708f-da11-4ef9-a88c-f6840c2fbf1b(teYuoDuQ3AI).mp4\n"
          ]
        },
        {
          "output_type": "stream",
          "name": "stderr",
          "text": [
            "\n",
            "100%|██████████| 150/150 [00:07<00:00, 21.34it/s]\n"
          ]
        },
        {
          "output_type": "stream",
          "name": "stdout",
          "text": [
            "[MoviePy] Done.\n",
            "[MoviePy] >>>> Video ready: cropped_videos/Anger/9778708f-da11-4ef9-a88c-f6840c2fbf1b(teYuoDuQ3AI).mp4 \n",
            "\n",
            "Video 39 downloaded\n",
            "Collected 6 images from video\n",
            "\n",
            "\n",
            "[MoviePy] >>>> Building video cropped_videos/Anger/63361bce-d486-4888-87ce-c63ae923e025(teYuoDuQ3AI).mp4\n",
            "[MoviePy] Writing audio in 63361bce-d486-4888-87ce-c63ae923e025(teYuoDuQ3AI)TEMP_MPY_wvf_snd.mp3\n"
          ]
        },
        {
          "output_type": "stream",
          "name": "stderr",
          "text": [
            "100%|██████████| 111/111 [00:00<00:00, 420.13it/s]"
          ]
        },
        {
          "output_type": "stream",
          "name": "stdout",
          "text": [
            "[MoviePy] Done.\n",
            "[MoviePy] Writing video cropped_videos/Anger/63361bce-d486-4888-87ce-c63ae923e025(teYuoDuQ3AI).mp4\n"
          ]
        },
        {
          "output_type": "stream",
          "name": "stderr",
          "text": [
            "\n",
            "100%|██████████| 150/150 [00:08<00:00, 18.55it/s]\n"
          ]
        },
        {
          "output_type": "stream",
          "name": "stdout",
          "text": [
            "[MoviePy] Done.\n",
            "[MoviePy] >>>> Video ready: cropped_videos/Anger/63361bce-d486-4888-87ce-c63ae923e025(teYuoDuQ3AI).mp4 \n",
            "\n",
            "Video 40 downloaded\n",
            "Collected 6 images from video\n",
            "\n",
            "\n",
            "[MoviePy] >>>> Building video cropped_videos/Anger/920f09f1-3b28-4b9c-b541-21f03ab8b17f(teYuoDuQ3AI).mp4\n",
            "[MoviePy] Writing audio in 920f09f1-3b28-4b9c-b541-21f03ab8b17f(teYuoDuQ3AI)TEMP_MPY_wvf_snd.mp3\n"
          ]
        },
        {
          "output_type": "stream",
          "name": "stderr",
          "text": [
            "100%|██████████| 111/111 [00:00<00:00, 413.04it/s]"
          ]
        },
        {
          "output_type": "stream",
          "name": "stdout",
          "text": [
            "[MoviePy] Done.\n",
            "[MoviePy] Writing video cropped_videos/Anger/920f09f1-3b28-4b9c-b541-21f03ab8b17f(teYuoDuQ3AI).mp4\n"
          ]
        },
        {
          "output_type": "stream",
          "name": "stderr",
          "text": [
            "\n",
            "100%|██████████| 150/150 [00:07<00:00, 19.43it/s]\n"
          ]
        },
        {
          "output_type": "stream",
          "name": "stdout",
          "text": [
            "[MoviePy] Done.\n",
            "[MoviePy] >>>> Video ready: cropped_videos/Anger/920f09f1-3b28-4b9c-b541-21f03ab8b17f(teYuoDuQ3AI).mp4 \n",
            "\n",
            "Video 41 downloaded\n",
            "Collected 6 images from video\n",
            "\n",
            "\n",
            "[MoviePy] >>>> Building video cropped_videos/Anger/183ada91-7049-4f97-9b1b-4a503967497d(Ci0zmmPX8zs).mp4\n",
            "[MoviePy] Writing audio in 183ada91-7049-4f97-9b1b-4a503967497d(Ci0zmmPX8zs)TEMP_MPY_wvf_snd.mp3\n"
          ]
        },
        {
          "output_type": "stream",
          "name": "stderr",
          "text": [
            "100%|██████████| 111/111 [00:00<00:00, 424.99it/s]"
          ]
        },
        {
          "output_type": "stream",
          "name": "stdout",
          "text": [
            "[MoviePy] Done.\n",
            "[MoviePy] Writing video cropped_videos/Anger/183ada91-7049-4f97-9b1b-4a503967497d(Ci0zmmPX8zs).mp4\n"
          ]
        },
        {
          "output_type": "stream",
          "name": "stderr",
          "text": [
            "\n",
            "100%|██████████| 150/150 [00:07<00:00, 19.60it/s]\n"
          ]
        },
        {
          "output_type": "stream",
          "name": "stdout",
          "text": [
            "[MoviePy] Done.\n",
            "[MoviePy] >>>> Video ready: cropped_videos/Anger/183ada91-7049-4f97-9b1b-4a503967497d(Ci0zmmPX8zs).mp4 \n",
            "\n",
            "Video 42 downloaded\n",
            "Collected 6 images from video\n",
            "\n",
            "\n",
            "[MoviePy] >>>> Building video cropped_videos/Anger/4b043b51-95fb-44c9-944d-d89050b8f355(Ci0zmmPX8zs).mp4\n",
            "[MoviePy] Writing audio in 4b043b51-95fb-44c9-944d-d89050b8f355(Ci0zmmPX8zs)TEMP_MPY_wvf_snd.mp3\n"
          ]
        },
        {
          "output_type": "stream",
          "name": "stderr",
          "text": [
            "100%|██████████| 111/111 [00:00<00:00, 437.85it/s]"
          ]
        },
        {
          "output_type": "stream",
          "name": "stdout",
          "text": [
            "[MoviePy] Done.\n",
            "[MoviePy] Writing video cropped_videos/Anger/4b043b51-95fb-44c9-944d-d89050b8f355(Ci0zmmPX8zs).mp4\n"
          ]
        },
        {
          "output_type": "stream",
          "name": "stderr",
          "text": [
            "\n",
            "100%|██████████| 150/150 [00:08<00:00, 18.63it/s]\n"
          ]
        },
        {
          "output_type": "stream",
          "name": "stdout",
          "text": [
            "[MoviePy] Done.\n",
            "[MoviePy] >>>> Video ready: cropped_videos/Anger/4b043b51-95fb-44c9-944d-d89050b8f355(Ci0zmmPX8zs).mp4 \n",
            "\n",
            "Video 43 downloaded\n",
            "Collected 6 images from video\n",
            "\n",
            "\n",
            "[MoviePy] >>>> Building video cropped_videos/Anger/4987f16f-bc07-43a2-98b1-92904e46186f(Ci0zmmPX8zs).mp4\n",
            "[MoviePy] Writing audio in 4987f16f-bc07-43a2-98b1-92904e46186f(Ci0zmmPX8zs)TEMP_MPY_wvf_snd.mp3\n"
          ]
        },
        {
          "output_type": "stream",
          "name": "stderr",
          "text": [
            "100%|██████████| 111/111 [00:00<00:00, 471.29it/s]"
          ]
        },
        {
          "output_type": "stream",
          "name": "stdout",
          "text": [
            "[MoviePy] Done.\n",
            "[MoviePy] Writing video cropped_videos/Anger/4987f16f-bc07-43a2-98b1-92904e46186f(Ci0zmmPX8zs).mp4\n"
          ]
        },
        {
          "output_type": "stream",
          "name": "stderr",
          "text": [
            "\n",
            "100%|██████████| 150/150 [00:06<00:00, 23.43it/s]\n"
          ]
        },
        {
          "output_type": "stream",
          "name": "stdout",
          "text": [
            "[MoviePy] Done.\n",
            "[MoviePy] >>>> Video ready: cropped_videos/Anger/4987f16f-bc07-43a2-98b1-92904e46186f(Ci0zmmPX8zs).mp4 \n",
            "\n",
            "Video 44 downloaded\n",
            "Collected 6 images from video\n",
            "\n",
            "\n",
            "[MoviePy] >>>> Building video cropped_videos/Anger/a46b0622-6d51-40e4-a71f-e91cd1e0c6e1(Ci0zmmPX8zs).mp4\n",
            "[MoviePy] Writing audio in a46b0622-6d51-40e4-a71f-e91cd1e0c6e1(Ci0zmmPX8zs)TEMP_MPY_wvf_snd.mp3\n"
          ]
        },
        {
          "output_type": "stream",
          "name": "stderr",
          "text": [
            "100%|██████████| 111/111 [00:00<00:00, 418.62it/s]"
          ]
        },
        {
          "output_type": "stream",
          "name": "stdout",
          "text": [
            "[MoviePy] Done.\n",
            "[MoviePy] Writing video cropped_videos/Anger/a46b0622-6d51-40e4-a71f-e91cd1e0c6e1(Ci0zmmPX8zs).mp4\n"
          ]
        },
        {
          "output_type": "stream",
          "name": "stderr",
          "text": [
            "\n",
            "100%|██████████| 150/150 [00:08<00:00, 18.06it/s]\n"
          ]
        },
        {
          "output_type": "stream",
          "name": "stdout",
          "text": [
            "[MoviePy] Done.\n",
            "[MoviePy] >>>> Video ready: cropped_videos/Anger/a46b0622-6d51-40e4-a71f-e91cd1e0c6e1(Ci0zmmPX8zs).mp4 \n",
            "\n",
            "Video 45 downloaded\n",
            "Collected 6 images from video\n",
            "\n",
            "\n",
            "[MoviePy] >>>> Building video cropped_videos/Anger/9426dab9-3b62-4cea-83e8-f9e87acae909(Ci0zmmPX8zs).mp4\n",
            "[MoviePy] Writing audio in 9426dab9-3b62-4cea-83e8-f9e87acae909(Ci0zmmPX8zs)TEMP_MPY_wvf_snd.mp3\n"
          ]
        },
        {
          "output_type": "stream",
          "name": "stderr",
          "text": [
            "100%|██████████| 111/111 [00:00<00:00, 387.96it/s]"
          ]
        },
        {
          "output_type": "stream",
          "name": "stdout",
          "text": [
            "[MoviePy] Done.\n",
            "[MoviePy] Writing video cropped_videos/Anger/9426dab9-3b62-4cea-83e8-f9e87acae909(Ci0zmmPX8zs).mp4\n"
          ]
        },
        {
          "output_type": "stream",
          "name": "stderr",
          "text": [
            "\n",
            "100%|██████████| 150/150 [00:07<00:00, 20.99it/s]\n"
          ]
        },
        {
          "output_type": "stream",
          "name": "stdout",
          "text": [
            "[MoviePy] Done.\n",
            "[MoviePy] >>>> Video ready: cropped_videos/Anger/9426dab9-3b62-4cea-83e8-f9e87acae909(Ci0zmmPX8zs).mp4 \n",
            "\n",
            "Video 46 downloaded\n",
            "Collected 6 images from video\n",
            "\n",
            "\n",
            "[MoviePy] >>>> Building video cropped_videos/Anger/ef3a9441-2ab8-4120-b6b0-bd4ef0cbad9e(H_uBfQPkcNc).mp4\n",
            "[MoviePy] Writing audio in ef3a9441-2ab8-4120-b6b0-bd4ef0cbad9e(H_uBfQPkcNc)TEMP_MPY_wvf_snd.mp3\n"
          ]
        },
        {
          "output_type": "stream",
          "name": "stderr",
          "text": [
            "100%|██████████| 111/111 [00:00<00:00, 409.44it/s]"
          ]
        },
        {
          "output_type": "stream",
          "name": "stdout",
          "text": [
            "[MoviePy] Done.\n",
            "[MoviePy] Writing video cropped_videos/Anger/ef3a9441-2ab8-4120-b6b0-bd4ef0cbad9e(H_uBfQPkcNc).mp4\n"
          ]
        },
        {
          "output_type": "stream",
          "name": "stderr",
          "text": [
            "\n",
            "100%|██████████| 120/120 [00:05<00:00, 20.02it/s]\n"
          ]
        },
        {
          "output_type": "stream",
          "name": "stdout",
          "text": [
            "[MoviePy] Done.\n",
            "[MoviePy] >>>> Video ready: cropped_videos/Anger/ef3a9441-2ab8-4120-b6b0-bd4ef0cbad9e(H_uBfQPkcNc).mp4 \n",
            "\n",
            "Video 47 downloaded\n",
            "Collected 6 images from video\n",
            "\n",
            "\n",
            "[MoviePy] >>>> Building video cropped_videos/Anger/e46558ac-b99b-456f-b0ba-6b5314653ecd(n5_TB2fS94w).mp4\n",
            "[MoviePy] Writing audio in e46558ac-b99b-456f-b0ba-6b5314653ecd(n5_TB2fS94w)TEMP_MPY_wvf_snd.mp3\n"
          ]
        },
        {
          "output_type": "stream",
          "name": "stderr",
          "text": [
            "100%|██████████| 111/111 [00:00<00:00, 447.91it/s]"
          ]
        },
        {
          "output_type": "stream",
          "name": "stdout",
          "text": [
            "[MoviePy] Done.\n",
            "[MoviePy] Writing video cropped_videos/Anger/e46558ac-b99b-456f-b0ba-6b5314653ecd(n5_TB2fS94w).mp4\n"
          ]
        },
        {
          "output_type": "stream",
          "name": "stderr",
          "text": [
            "\n",
            "100%|██████████| 120/120 [00:04<00:00, 28.87it/s]\n"
          ]
        },
        {
          "output_type": "stream",
          "name": "stdout",
          "text": [
            "[MoviePy] Done.\n",
            "[MoviePy] >>>> Video ready: cropped_videos/Anger/e46558ac-b99b-456f-b0ba-6b5314653ecd(n5_TB2fS94w).mp4 \n",
            "\n",
            "Video 48 downloaded\n",
            "Collected 6 images from video\n",
            "\n",
            "\n",
            "[MoviePy] >>>> Building video cropped_videos/Anger/7f309a60-062b-44bd-a159-141411bbe77d(n5_TB2fS94w).mp4\n",
            "[MoviePy] Writing audio in 7f309a60-062b-44bd-a159-141411bbe77d(n5_TB2fS94w)TEMP_MPY_wvf_snd.mp3\n"
          ]
        },
        {
          "output_type": "stream",
          "name": "stderr",
          "text": [
            "100%|██████████| 111/111 [00:00<00:00, 383.93it/s]"
          ]
        },
        {
          "output_type": "stream",
          "name": "stdout",
          "text": [
            "[MoviePy] Done.\n",
            "[MoviePy] Writing video cropped_videos/Anger/7f309a60-062b-44bd-a159-141411bbe77d(n5_TB2fS94w).mp4\n"
          ]
        },
        {
          "output_type": "stream",
          "name": "stderr",
          "text": [
            "\n",
            "100%|██████████| 120/120 [00:05<00:00, 20.98it/s]\n"
          ]
        },
        {
          "output_type": "stream",
          "name": "stdout",
          "text": [
            "[MoviePy] Done.\n",
            "[MoviePy] >>>> Video ready: cropped_videos/Anger/7f309a60-062b-44bd-a159-141411bbe77d(n5_TB2fS94w).mp4 \n",
            "\n",
            "Video 49 downloaded\n",
            "Collected 6 images from video\n",
            "\n",
            "\n",
            "[MoviePy] >>>> Building video cropped_videos/Anger/4e78afbd-a44d-4a78-bef7-92ead5aa0dc7(K8M4KGedve8).mp4\n",
            "[MoviePy] Writing audio in 4e78afbd-a44d-4a78-bef7-92ead5aa0dc7(K8M4KGedve8)TEMP_MPY_wvf_snd.mp3\n"
          ]
        },
        {
          "output_type": "stream",
          "name": "stderr",
          "text": [
            "100%|██████████| 111/111 [00:00<00:00, 486.35it/s]"
          ]
        },
        {
          "output_type": "stream",
          "name": "stdout",
          "text": [
            "[MoviePy] Done.\n",
            "[MoviePy] Writing video cropped_videos/Anger/4e78afbd-a44d-4a78-bef7-92ead5aa0dc7(K8M4KGedve8).mp4\n"
          ]
        },
        {
          "output_type": "stream",
          "name": "stderr",
          "text": [
            "\n",
            " 99%|█████████▉| 120/121 [00:04<00:00, 26.83it/s]\n"
          ]
        },
        {
          "output_type": "stream",
          "name": "stdout",
          "text": [
            "[MoviePy] Done.\n",
            "[MoviePy] >>>> Video ready: cropped_videos/Anger/4e78afbd-a44d-4a78-bef7-92ead5aa0dc7(K8M4KGedve8).mp4 \n",
            "\n",
            "Video 50 downloaded\n",
            "Collected 6 images from video\n",
            "\n",
            "\n",
            "[MoviePy] >>>> Building video cropped_videos/Anger/8d00cf8c-09c6-4fd7-9f3b-989fcc10d8aa(TqyBfhnNBVU).mp4\n",
            "[MoviePy] Writing audio in 8d00cf8c-09c6-4fd7-9f3b-989fcc10d8aa(TqyBfhnNBVU)TEMP_MPY_wvf_snd.mp3\n"
          ]
        },
        {
          "output_type": "stream",
          "name": "stderr",
          "text": [
            "100%|██████████| 111/111 [00:00<00:00, 456.46it/s]"
          ]
        },
        {
          "output_type": "stream",
          "name": "stdout",
          "text": [
            "[MoviePy] Done.\n",
            "[MoviePy] Writing video cropped_videos/Anger/8d00cf8c-09c6-4fd7-9f3b-989fcc10d8aa(TqyBfhnNBVU).mp4\n"
          ]
        },
        {
          "output_type": "stream",
          "name": "stderr",
          "text": [
            "\n",
            " 99%|█████████▉| 125/126 [00:05<00:00, 21.36it/s]\n"
          ]
        },
        {
          "output_type": "stream",
          "name": "stdout",
          "text": [
            "[MoviePy] Done.\n",
            "[MoviePy] >>>> Video ready: cropped_videos/Anger/8d00cf8c-09c6-4fd7-9f3b-989fcc10d8aa(TqyBfhnNBVU).mp4 \n",
            "\n",
            "Video 51 downloaded\n",
            "Collected 6 images from video\n",
            "\n",
            "\n",
            "Download is completed successfully\n",
            "[MoviePy] >>>> Building video cropped_videos/Anger/9785a866-0164-432c-aaf7-84bd762293f1(Vih7kDoviYw).mp4\n",
            "[MoviePy] Writing audio in 9785a866-0164-432c-aaf7-84bd762293f1(Vih7kDoviYw)TEMP_MPY_wvf_snd.mp3\n"
          ]
        },
        {
          "output_type": "stream",
          "name": "stderr",
          "text": [
            "100%|██████████| 111/111 [00:00<00:00, 353.13it/s]"
          ]
        },
        {
          "output_type": "stream",
          "name": "stdout",
          "text": [
            "[MoviePy] Done.\n",
            "[MoviePy] Writing video cropped_videos/Anger/9785a866-0164-432c-aaf7-84bd762293f1(Vih7kDoviYw).mp4\n"
          ]
        },
        {
          "output_type": "stream",
          "name": "stderr",
          "text": [
            "\n",
            " 99%|█████████▉| 125/126 [00:04<00:00, 25.12it/s]\n"
          ]
        },
        {
          "output_type": "stream",
          "name": "stdout",
          "text": [
            "[MoviePy] Done.\n",
            "[MoviePy] >>>> Video ready: cropped_videos/Anger/9785a866-0164-432c-aaf7-84bd762293f1(Vih7kDoviYw).mp4 \n",
            "\n",
            "Video 52 downloaded\n",
            "Collected 6 images from video\n",
            "\n",
            "\n",
            "[MoviePy] >>>> Building video cropped_videos/Anger/ee77524f-1db9-4b5d-b377-d7f516cfaaad(Vih7kDoviYw).mp4\n",
            "[MoviePy] Writing audio in ee77524f-1db9-4b5d-b377-d7f516cfaaad(Vih7kDoviYw)TEMP_MPY_wvf_snd.mp3\n"
          ]
        },
        {
          "output_type": "stream",
          "name": "stderr",
          "text": [
            "100%|██████████| 111/111 [00:00<00:00, 209.93it/s]"
          ]
        },
        {
          "output_type": "stream",
          "name": "stdout",
          "text": [
            "[MoviePy] Done.\n",
            "[MoviePy] Writing video cropped_videos/Anger/ee77524f-1db9-4b5d-b377-d7f516cfaaad(Vih7kDoviYw).mp4\n"
          ]
        },
        {
          "output_type": "stream",
          "name": "stderr",
          "text": [
            "\n",
            " 99%|█████████▉| 125/126 [00:05<00:00, 21.89it/s]\n"
          ]
        },
        {
          "output_type": "stream",
          "name": "stdout",
          "text": [
            "[MoviePy] Done.\n",
            "[MoviePy] >>>> Video ready: cropped_videos/Anger/ee77524f-1db9-4b5d-b377-d7f516cfaaad(Vih7kDoviYw).mp4 \n",
            "\n",
            "Video 53 downloaded\n",
            "Collected 6 images from video\n",
            "\n",
            "\n",
            "[MoviePy] >>>> Building video cropped_videos/Anger/a9a355a8-8fac-47b4-b265-625a175b160c(Vih7kDoviYw).mp4\n",
            "[MoviePy] Writing audio in a9a355a8-8fac-47b4-b265-625a175b160c(Vih7kDoviYw)TEMP_MPY_wvf_snd.mp3\n"
          ]
        },
        {
          "output_type": "stream",
          "name": "stderr",
          "text": [
            "100%|██████████| 111/111 [00:00<00:00, 311.18it/s]"
          ]
        },
        {
          "output_type": "stream",
          "name": "stdout",
          "text": [
            "[MoviePy] Done.\n",
            "[MoviePy] Writing video cropped_videos/Anger/a9a355a8-8fac-47b4-b265-625a175b160c(Vih7kDoviYw).mp4\n"
          ]
        },
        {
          "output_type": "stream",
          "name": "stderr",
          "text": [
            "\n",
            " 99%|█████████▉| 125/126 [00:07<00:00, 17.45it/s]\n"
          ]
        },
        {
          "output_type": "stream",
          "name": "stdout",
          "text": [
            "[MoviePy] Done.\n",
            "[MoviePy] >>>> Video ready: cropped_videos/Anger/a9a355a8-8fac-47b4-b265-625a175b160c(Vih7kDoviYw).mp4 \n",
            "\n",
            "Video 54 downloaded\n",
            "Collected 6 images from video\n",
            "\n",
            "\n",
            "[MoviePy] >>>> Building video cropped_videos/Anger/940270af-04ff-46e4-9861-8b39ed604d6e(Vih7kDoviYw).mp4\n",
            "[MoviePy] Writing audio in 940270af-04ff-46e4-9861-8b39ed604d6e(Vih7kDoviYw)TEMP_MPY_wvf_snd.mp3\n"
          ]
        },
        {
          "output_type": "stream",
          "name": "stderr",
          "text": [
            "100%|██████████| 111/111 [00:00<00:00, 281.65it/s]"
          ]
        },
        {
          "output_type": "stream",
          "name": "stdout",
          "text": [
            "[MoviePy] Done.\n",
            "[MoviePy] Writing video cropped_videos/Anger/940270af-04ff-46e4-9861-8b39ed604d6e(Vih7kDoviYw).mp4\n"
          ]
        },
        {
          "output_type": "stream",
          "name": "stderr",
          "text": [
            "\n",
            " 99%|█████████▉| 125/126 [00:06<00:00, 19.79it/s]\n"
          ]
        },
        {
          "output_type": "stream",
          "name": "stdout",
          "text": [
            "[MoviePy] Done.\n",
            "[MoviePy] >>>> Video ready: cropped_videos/Anger/940270af-04ff-46e4-9861-8b39ed604d6e(Vih7kDoviYw).mp4 \n",
            "\n",
            "Video 55 downloaded\n",
            "Collected 6 images from video\n",
            "\n",
            "\n",
            "[MoviePy] >>>> Building video cropped_videos/Anger/de6e72c2-9697-4d73-87ab-2f278a88032e(Vih7kDoviYw).mp4\n",
            "[MoviePy] Writing audio in de6e72c2-9697-4d73-87ab-2f278a88032e(Vih7kDoviYw)TEMP_MPY_wvf_snd.mp3\n"
          ]
        },
        {
          "output_type": "stream",
          "name": "stderr",
          "text": [
            "100%|██████████| 111/111 [00:00<00:00, 355.00it/s]"
          ]
        },
        {
          "output_type": "stream",
          "name": "stdout",
          "text": [
            "[MoviePy] Done.\n",
            "[MoviePy] Writing video cropped_videos/Anger/de6e72c2-9697-4d73-87ab-2f278a88032e(Vih7kDoviYw).mp4\n"
          ]
        },
        {
          "output_type": "stream",
          "name": "stderr",
          "text": [
            "\n",
            " 99%|█████████▉| 125/126 [00:04<00:00, 30.15it/s]\n"
          ]
        },
        {
          "output_type": "stream",
          "name": "stdout",
          "text": [
            "[MoviePy] Done.\n",
            "[MoviePy] >>>> Video ready: cropped_videos/Anger/de6e72c2-9697-4d73-87ab-2f278a88032e(Vih7kDoviYw).mp4 \n",
            "\n",
            "Video 56 downloaded\n",
            "Collected 6 images from video\n",
            "\n",
            "\n",
            "[MoviePy] >>>> Building video cropped_videos/Anger/ce39f59c-18b5-4d90-bf86-0014cbfdfb34(Vih7kDoviYw).mp4\n",
            "[MoviePy] Writing audio in ce39f59c-18b5-4d90-bf86-0014cbfdfb34(Vih7kDoviYw)TEMP_MPY_wvf_snd.mp3\n"
          ]
        },
        {
          "output_type": "stream",
          "name": "stderr",
          "text": [
            "100%|██████████| 111/111 [00:00<00:00, 324.46it/s]"
          ]
        },
        {
          "output_type": "stream",
          "name": "stdout",
          "text": [
            "[MoviePy] Done.\n",
            "[MoviePy] Writing video cropped_videos/Anger/ce39f59c-18b5-4d90-bf86-0014cbfdfb34(Vih7kDoviYw).mp4\n"
          ]
        },
        {
          "output_type": "stream",
          "name": "stderr",
          "text": [
            "\n",
            " 99%|█████████▉| 125/126 [00:04<00:00, 27.35it/s]\n"
          ]
        },
        {
          "output_type": "stream",
          "name": "stdout",
          "text": [
            "[MoviePy] Done.\n",
            "[MoviePy] >>>> Video ready: cropped_videos/Anger/ce39f59c-18b5-4d90-bf86-0014cbfdfb34(Vih7kDoviYw).mp4 \n",
            "\n",
            "Video 57 downloaded\n",
            "Collected 6 images from video\n",
            "\n",
            "\n",
            "[MoviePy] >>>> Building video cropped_videos/Anger/a8cdf5de-ab02-4ab0-a290-d4e97e60f696(Vih7kDoviYw).mp4\n",
            "[MoviePy] Writing audio in a8cdf5de-ab02-4ab0-a290-d4e97e60f696(Vih7kDoviYw)TEMP_MPY_wvf_snd.mp3\n"
          ]
        },
        {
          "output_type": "stream",
          "name": "stderr",
          "text": [
            "100%|██████████| 111/111 [00:00<00:00, 372.24it/s]\n"
          ]
        },
        {
          "output_type": "stream",
          "name": "stdout",
          "text": [
            "[MoviePy] Done.\n",
            "[MoviePy] Writing video cropped_videos/Anger/a8cdf5de-ab02-4ab0-a290-d4e97e60f696(Vih7kDoviYw).mp4\n"
          ]
        },
        {
          "output_type": "stream",
          "name": "stderr",
          "text": [
            " 99%|█████████▉| 125/126 [00:04<00:00, 27.47it/s]\n"
          ]
        },
        {
          "output_type": "stream",
          "name": "stdout",
          "text": [
            "[MoviePy] Done.\n",
            "[MoviePy] >>>> Video ready: cropped_videos/Anger/a8cdf5de-ab02-4ab0-a290-d4e97e60f696(Vih7kDoviYw).mp4 \n",
            "\n",
            "Video 58 downloaded\n",
            "Collected 6 images from video\n",
            "\n",
            "\n",
            "[MoviePy] >>>> Building video cropped_videos/Anger/5cf7686e-68d0-489d-a283-c34161e735f8(Vih7kDoviYw).mp4\n",
            "[MoviePy] Writing audio in 5cf7686e-68d0-489d-a283-c34161e735f8(Vih7kDoviYw)TEMP_MPY_wvf_snd.mp3\n"
          ]
        },
        {
          "output_type": "stream",
          "name": "stderr",
          "text": [
            "100%|██████████| 111/111 [00:00<00:00, 328.69it/s]"
          ]
        },
        {
          "output_type": "stream",
          "name": "stdout",
          "text": [
            "[MoviePy] Done.\n",
            "[MoviePy] Writing video cropped_videos/Anger/5cf7686e-68d0-489d-a283-c34161e735f8(Vih7kDoviYw).mp4\n"
          ]
        },
        {
          "output_type": "stream",
          "name": "stderr",
          "text": [
            "\n",
            " 99%|█████████▉| 125/126 [00:06<00:00, 19.70it/s]\n"
          ]
        },
        {
          "output_type": "stream",
          "name": "stdout",
          "text": [
            "[MoviePy] Done.\n",
            "[MoviePy] >>>> Video ready: cropped_videos/Anger/5cf7686e-68d0-489d-a283-c34161e735f8(Vih7kDoviYw).mp4 \n",
            "\n",
            "Video 59 downloaded\n",
            "Collected 6 images from video\n",
            "\n",
            "\n",
            "[MoviePy] >>>> Building video cropped_videos/Anger/c4cf52f8-f51a-4d37-8370-3890e6059751(Vih7kDoviYw).mp4\n",
            "[MoviePy] Writing audio in c4cf52f8-f51a-4d37-8370-3890e6059751(Vih7kDoviYw)TEMP_MPY_wvf_snd.mp3\n"
          ]
        },
        {
          "output_type": "stream",
          "name": "stderr",
          "text": [
            "100%|██████████| 111/111 [00:00<00:00, 315.46it/s]"
          ]
        },
        {
          "output_type": "stream",
          "name": "stdout",
          "text": [
            "[MoviePy] Done.\n",
            "[MoviePy] Writing video cropped_videos/Anger/c4cf52f8-f51a-4d37-8370-3890e6059751(Vih7kDoviYw).mp4\n"
          ]
        },
        {
          "output_type": "stream",
          "name": "stderr",
          "text": [
            "\n",
            " 99%|█████████▉| 125/126 [00:03<00:00, 32.27it/s]\n"
          ]
        },
        {
          "output_type": "stream",
          "name": "stdout",
          "text": [
            "[MoviePy] Done.\n",
            "[MoviePy] >>>> Video ready: cropped_videos/Anger/c4cf52f8-f51a-4d37-8370-3890e6059751(Vih7kDoviYw).mp4 \n",
            "\n",
            "Video 60 downloaded\n",
            "Collected 6 images from video\n",
            "\n",
            "\n",
            "[MoviePy] >>>> Building video cropped_videos/Anger/be822d4a-a5e2-489b-b9b4-ba49ce4dabb0(Vih7kDoviYw).mp4\n",
            "[MoviePy] Writing audio in be822d4a-a5e2-489b-b9b4-ba49ce4dabb0(Vih7kDoviYw)TEMP_MPY_wvf_snd.mp3\n"
          ]
        },
        {
          "output_type": "stream",
          "name": "stderr",
          "text": [
            "100%|██████████| 111/111 [00:00<00:00, 350.55it/s]\n"
          ]
        },
        {
          "output_type": "stream",
          "name": "stdout",
          "text": [
            "[MoviePy] Done.\n",
            "[MoviePy] Writing video cropped_videos/Anger/be822d4a-a5e2-489b-b9b4-ba49ce4dabb0(Vih7kDoviYw).mp4\n"
          ]
        },
        {
          "output_type": "stream",
          "name": "stderr",
          "text": [
            " 99%|█████████▉| 125/126 [00:05<00:00, 24.77it/s]\n"
          ]
        },
        {
          "output_type": "stream",
          "name": "stdout",
          "text": [
            "[MoviePy] Done.\n",
            "[MoviePy] >>>> Video ready: cropped_videos/Anger/be822d4a-a5e2-489b-b9b4-ba49ce4dabb0(Vih7kDoviYw).mp4 \n",
            "\n",
            "Video 61 downloaded\n",
            "Collected 6 images from video\n",
            "\n",
            "\n",
            "[MoviePy] >>>> Building video cropped_videos/Anger/8140e2b7-7b4f-4130-8ee5-e27cbab3899e(Vih7kDoviYw).mp4\n",
            "[MoviePy] Writing audio in 8140e2b7-7b4f-4130-8ee5-e27cbab3899e(Vih7kDoviYw)TEMP_MPY_wvf_snd.mp3\n"
          ]
        },
        {
          "output_type": "stream",
          "name": "stderr",
          "text": [
            "100%|██████████| 111/111 [00:00<00:00, 327.58it/s]"
          ]
        },
        {
          "output_type": "stream",
          "name": "stdout",
          "text": [
            "[MoviePy] Done.\n",
            "[MoviePy] Writing video cropped_videos/Anger/8140e2b7-7b4f-4130-8ee5-e27cbab3899e(Vih7kDoviYw).mp4\n"
          ]
        },
        {
          "output_type": "stream",
          "name": "stderr",
          "text": [
            "\n",
            " 99%|█████████▉| 125/126 [00:04<00:00, 25.70it/s]\n"
          ]
        },
        {
          "output_type": "stream",
          "name": "stdout",
          "text": [
            "[MoviePy] Done.\n",
            "[MoviePy] >>>> Video ready: cropped_videos/Anger/8140e2b7-7b4f-4130-8ee5-e27cbab3899e(Vih7kDoviYw).mp4 \n",
            "\n",
            "Video 62 downloaded\n",
            "Collected 6 images from video\n",
            "\n",
            "\n",
            "[MoviePy] >>>> Building video cropped_videos/Anger/feee4f48-06fa-48c5-b152-274a60c0fea4(Vih7kDoviYw).mp4\n",
            "[MoviePy] Writing audio in feee4f48-06fa-48c5-b152-274a60c0fea4(Vih7kDoviYw)TEMP_MPY_wvf_snd.mp3\n"
          ]
        },
        {
          "output_type": "stream",
          "name": "stderr",
          "text": [
            "100%|██████████| 111/111 [00:00<00:00, 423.94it/s]"
          ]
        },
        {
          "output_type": "stream",
          "name": "stdout",
          "text": [
            "[MoviePy] Done.\n",
            "[MoviePy] Writing video cropped_videos/Anger/feee4f48-06fa-48c5-b152-274a60c0fea4(Vih7kDoviYw).mp4\n"
          ]
        },
        {
          "output_type": "stream",
          "name": "stderr",
          "text": [
            "\n",
            " 99%|█████████▉| 125/126 [00:04<00:00, 30.27it/s]\n"
          ]
        },
        {
          "output_type": "stream",
          "name": "stdout",
          "text": [
            "[MoviePy] Done.\n",
            "[MoviePy] >>>> Video ready: cropped_videos/Anger/feee4f48-06fa-48c5-b152-274a60c0fea4(Vih7kDoviYw).mp4 \n",
            "\n",
            "Video 63 downloaded\n",
            "Collected 6 images from video\n",
            "\n",
            "\n",
            "[MoviePy] >>>> Building video cropped_videos/Anger/a5dd9345-6dca-455a-874f-d4e46e0425d3(Vih7kDoviYw).mp4\n",
            "[MoviePy] Writing audio in a5dd9345-6dca-455a-874f-d4e46e0425d3(Vih7kDoviYw)TEMP_MPY_wvf_snd.mp3\n"
          ]
        },
        {
          "output_type": "stream",
          "name": "stderr",
          "text": [
            "100%|██████████| 111/111 [00:00<00:00, 341.55it/s]\n"
          ]
        },
        {
          "output_type": "stream",
          "name": "stdout",
          "text": [
            "[MoviePy] Done.\n",
            "[MoviePy] Writing video cropped_videos/Anger/a5dd9345-6dca-455a-874f-d4e46e0425d3(Vih7kDoviYw).mp4\n"
          ]
        },
        {
          "output_type": "stream",
          "name": "stderr",
          "text": [
            " 99%|█████████▉| 125/126 [00:04<00:00, 26.73it/s]\n"
          ]
        },
        {
          "output_type": "stream",
          "name": "stdout",
          "text": [
            "[MoviePy] Done.\n",
            "[MoviePy] >>>> Video ready: cropped_videos/Anger/a5dd9345-6dca-455a-874f-d4e46e0425d3(Vih7kDoviYw).mp4 \n",
            "\n",
            "Video 64 downloaded\n",
            "Collected 6 images from video\n",
            "\n",
            "\n",
            "[MoviePy] >>>> Building video cropped_videos/Anger/c1e84502-8d96-4901-a7ae-40353fda5a39(Vih7kDoviYw).mp4\n",
            "[MoviePy] Writing audio in c1e84502-8d96-4901-a7ae-40353fda5a39(Vih7kDoviYw)TEMP_MPY_wvf_snd.mp3\n"
          ]
        },
        {
          "output_type": "stream",
          "name": "stderr",
          "text": [
            "100%|██████████| 111/111 [00:00<00:00, 324.15it/s]"
          ]
        },
        {
          "output_type": "stream",
          "name": "stdout",
          "text": [
            "[MoviePy] Done.\n",
            "[MoviePy] Writing video cropped_videos/Anger/c1e84502-8d96-4901-a7ae-40353fda5a39(Vih7kDoviYw).mp4\n"
          ]
        },
        {
          "output_type": "stream",
          "name": "stderr",
          "text": [
            "\n",
            " 99%|█████████▉| 125/126 [00:06<00:00, 19.27it/s]\n"
          ]
        },
        {
          "output_type": "stream",
          "name": "stdout",
          "text": [
            "[MoviePy] Done.\n",
            "[MoviePy] >>>> Video ready: cropped_videos/Anger/c1e84502-8d96-4901-a7ae-40353fda5a39(Vih7kDoviYw).mp4 \n",
            "\n",
            "Video 65 downloaded\n",
            "Collected 6 images from video\n",
            "\n",
            "\n",
            "[MoviePy] >>>> Building video cropped_videos/Anger/9d698198-d9a2-4972-86cd-e1ebf8207b02(Vih7kDoviYw).mp4\n",
            "[MoviePy] Writing audio in 9d698198-d9a2-4972-86cd-e1ebf8207b02(Vih7kDoviYw)TEMP_MPY_wvf_snd.mp3\n"
          ]
        },
        {
          "output_type": "stream",
          "name": "stderr",
          "text": [
            "100%|██████████| 111/111 [00:00<00:00, 361.24it/s]"
          ]
        },
        {
          "output_type": "stream",
          "name": "stdout",
          "text": [
            "[MoviePy] Done.\n",
            "[MoviePy] Writing video cropped_videos/Anger/9d698198-d9a2-4972-86cd-e1ebf8207b02(Vih7kDoviYw).mp4\n"
          ]
        },
        {
          "output_type": "stream",
          "name": "stderr",
          "text": [
            "\n",
            " 99%|█████████▉| 125/126 [00:06<00:00, 20.79it/s]\n"
          ]
        },
        {
          "output_type": "stream",
          "name": "stdout",
          "text": [
            "[MoviePy] Done.\n",
            "[MoviePy] >>>> Video ready: cropped_videos/Anger/9d698198-d9a2-4972-86cd-e1ebf8207b02(Vih7kDoviYw).mp4 \n",
            "\n",
            "Video 66 downloaded\n",
            "Collected 6 images from video\n",
            "\n",
            "\n",
            "[MoviePy] >>>> Building video cropped_videos/Anger/0aafeda5-9d56-42c1-8dcc-79c1b1485817(Vih7kDoviYw).mp4\n",
            "[MoviePy] Writing audio in 0aafeda5-9d56-42c1-8dcc-79c1b1485817(Vih7kDoviYw)TEMP_MPY_wvf_snd.mp3\n"
          ]
        },
        {
          "output_type": "stream",
          "name": "stderr",
          "text": [
            "100%|██████████| 111/111 [00:00<00:00, 307.00it/s]"
          ]
        },
        {
          "output_type": "stream",
          "name": "stdout",
          "text": [
            "[MoviePy] Done.\n",
            "[MoviePy] Writing video cropped_videos/Anger/0aafeda5-9d56-42c1-8dcc-79c1b1485817(Vih7kDoviYw).mp4\n"
          ]
        },
        {
          "output_type": "stream",
          "name": "stderr",
          "text": [
            "\n",
            " 99%|█████████▉| 125/126 [00:05<00:00, 24.98it/s]\n"
          ]
        },
        {
          "output_type": "stream",
          "name": "stdout",
          "text": [
            "[MoviePy] Done.\n",
            "[MoviePy] >>>> Video ready: cropped_videos/Anger/0aafeda5-9d56-42c1-8dcc-79c1b1485817(Vih7kDoviYw).mp4 \n",
            "\n",
            "Video 67 downloaded\n",
            "Collected 6 images from video\n",
            "\n",
            "\n",
            "[MoviePy] >>>> Building video cropped_videos/Anger/d1c9194e-acd8-4e31-a5cc-9bcb0991f50a(Vih7kDoviYw).mp4\n",
            "[MoviePy] Writing audio in d1c9194e-acd8-4e31-a5cc-9bcb0991f50a(Vih7kDoviYw)TEMP_MPY_wvf_snd.mp3\n"
          ]
        },
        {
          "output_type": "stream",
          "name": "stderr",
          "text": [
            "100%|██████████| 111/111 [00:00<00:00, 359.69it/s]\n"
          ]
        },
        {
          "output_type": "stream",
          "name": "stdout",
          "text": [
            "[MoviePy] Done.\n",
            "[MoviePy] Writing video cropped_videos/Anger/d1c9194e-acd8-4e31-a5cc-9bcb0991f50a(Vih7kDoviYw).mp4\n"
          ]
        },
        {
          "output_type": "stream",
          "name": "stderr",
          "text": [
            " 99%|█████████▉| 125/126 [00:04<00:00, 27.85it/s]\n"
          ]
        },
        {
          "output_type": "stream",
          "name": "stdout",
          "text": [
            "[MoviePy] Done.\n",
            "[MoviePy] >>>> Video ready: cropped_videos/Anger/d1c9194e-acd8-4e31-a5cc-9bcb0991f50a(Vih7kDoviYw).mp4 \n",
            "\n",
            "Video 68 downloaded\n",
            "Collected 6 images from video\n",
            "\n",
            "\n",
            "[MoviePy] >>>> Building video cropped_videos/Anger/99925bf8-bf43-4e61-8ccc-197da1ea72a7(Vih7kDoviYw).mp4\n",
            "[MoviePy] Writing audio in 99925bf8-bf43-4e61-8ccc-197da1ea72a7(Vih7kDoviYw)TEMP_MPY_wvf_snd.mp3\n"
          ]
        },
        {
          "output_type": "stream",
          "name": "stderr",
          "text": [
            "100%|██████████| 111/111 [00:00<00:00, 365.10it/s]\n"
          ]
        },
        {
          "output_type": "stream",
          "name": "stdout",
          "text": [
            "[MoviePy] Done.\n",
            "[MoviePy] Writing video cropped_videos/Anger/99925bf8-bf43-4e61-8ccc-197da1ea72a7(Vih7kDoviYw).mp4\n"
          ]
        },
        {
          "output_type": "stream",
          "name": "stderr",
          "text": [
            " 99%|█████████▉| 125/126 [00:05<00:00, 22.56it/s]\n"
          ]
        },
        {
          "output_type": "stream",
          "name": "stdout",
          "text": [
            "[MoviePy] Done.\n",
            "[MoviePy] >>>> Video ready: cropped_videos/Anger/99925bf8-bf43-4e61-8ccc-197da1ea72a7(Vih7kDoviYw).mp4 \n",
            "\n",
            "Video 69 downloaded\n",
            "Collected 6 images from video\n",
            "\n",
            "\n",
            "Download is completed successfully\n",
            "[MoviePy] >>>> Building video cropped_videos/Anger/9fc70eea-733e-419b-8a4d-a74f0ea60bb7(mihOTmiXePY).mp4\n",
            "[MoviePy] Writing audio in 9fc70eea-733e-419b-8a4d-a74f0ea60bb7(mihOTmiXePY)TEMP_MPY_wvf_snd.mp3\n"
          ]
        },
        {
          "output_type": "stream",
          "name": "stderr",
          "text": [
            "100%|██████████| 111/111 [00:00<00:00, 401.69it/s]"
          ]
        },
        {
          "output_type": "stream",
          "name": "stdout",
          "text": [
            "[MoviePy] Done.\n",
            "[MoviePy] Writing video cropped_videos/Anger/9fc70eea-733e-419b-8a4d-a74f0ea60bb7(mihOTmiXePY).mp4\n"
          ]
        },
        {
          "output_type": "stream",
          "name": "stderr",
          "text": [
            "\n",
            " 99%|█████████▉| 125/126 [00:05<00:00, 23.74it/s]\n"
          ]
        },
        {
          "output_type": "stream",
          "name": "stdout",
          "text": [
            "[MoviePy] Done.\n",
            "[MoviePy] >>>> Video ready: cropped_videos/Anger/9fc70eea-733e-419b-8a4d-a74f0ea60bb7(mihOTmiXePY).mp4 \n",
            "\n",
            "Video 70 downloaded\n",
            "Collected 6 images from video\n",
            "\n",
            "\n",
            "[MoviePy] >>>> Building video cropped_videos/Anger/641d046b-f4d2-413c-9ccf-57a1281127b4(mihOTmiXePY).mp4\n",
            "[MoviePy] Writing audio in 641d046b-f4d2-413c-9ccf-57a1281127b4(mihOTmiXePY)TEMP_MPY_wvf_snd.mp3\n"
          ]
        },
        {
          "output_type": "stream",
          "name": "stderr",
          "text": [
            "100%|██████████| 111/111 [00:00<00:00, 422.43it/s]"
          ]
        },
        {
          "output_type": "stream",
          "name": "stdout",
          "text": [
            "[MoviePy] Done.\n",
            "[MoviePy] Writing video cropped_videos/Anger/641d046b-f4d2-413c-9ccf-57a1281127b4(mihOTmiXePY).mp4\n"
          ]
        },
        {
          "output_type": "stream",
          "name": "stderr",
          "text": [
            "\n",
            " 99%|█████████▉| 125/126 [00:04<00:00, 26.76it/s]\n"
          ]
        },
        {
          "output_type": "stream",
          "name": "stdout",
          "text": [
            "[MoviePy] Done.\n",
            "[MoviePy] >>>> Video ready: cropped_videos/Anger/641d046b-f4d2-413c-9ccf-57a1281127b4(mihOTmiXePY).mp4 \n",
            "\n",
            "Video 71 downloaded\n",
            "Collected 6 images from video\n",
            "\n",
            "\n",
            "Download is completed successfully\n",
            "[MoviePy] >>>> Building video cropped_videos/Anger/6cc7f249-400b-4a11-b8a9-38fb47302ad7(C0yx35UmDxk).mp4\n",
            "[MoviePy] Writing audio in 6cc7f249-400b-4a11-b8a9-38fb47302ad7(C0yx35UmDxk)TEMP_MPY_wvf_snd.mp3\n"
          ]
        },
        {
          "output_type": "stream",
          "name": "stderr",
          "text": [
            "100%|██████████| 111/111 [00:00<00:00, 521.59it/s]"
          ]
        },
        {
          "output_type": "stream",
          "name": "stdout",
          "text": [
            "[MoviePy] Done.\n",
            "[MoviePy] Writing video cropped_videos/Anger/6cc7f249-400b-4a11-b8a9-38fb47302ad7(C0yx35UmDxk).mp4\n"
          ]
        },
        {
          "output_type": "stream",
          "name": "stderr",
          "text": [
            "\n",
            " 99%|█████████▉| 125/126 [00:06<00:00, 20.24it/s]\n"
          ]
        },
        {
          "output_type": "stream",
          "name": "stdout",
          "text": [
            "[MoviePy] Done.\n",
            "[MoviePy] >>>> Video ready: cropped_videos/Anger/6cc7f249-400b-4a11-b8a9-38fb47302ad7(C0yx35UmDxk).mp4 \n",
            "\n",
            "Video 72 downloaded\n",
            "Collected 6 images from video\n",
            "\n",
            "\n",
            "[MoviePy] >>>> Building video cropped_videos/Anger/e49d2017-c73b-45c7-9e1d-d43d956c8c84(C0yx35UmDxk).mp4\n",
            "[MoviePy] Writing audio in e49d2017-c73b-45c7-9e1d-d43d956c8c84(C0yx35UmDxk)TEMP_MPY_wvf_snd.mp3\n"
          ]
        },
        {
          "output_type": "stream",
          "name": "stderr",
          "text": [
            "100%|██████████| 111/111 [00:00<00:00, 493.85it/s]"
          ]
        },
        {
          "output_type": "stream",
          "name": "stdout",
          "text": [
            "[MoviePy] Done.\n",
            "[MoviePy] Writing video cropped_videos/Anger/e49d2017-c73b-45c7-9e1d-d43d956c8c84(C0yx35UmDxk).mp4\n"
          ]
        },
        {
          "output_type": "stream",
          "name": "stderr",
          "text": [
            "\n",
            " 99%|█████████▉| 125/126 [00:04<00:00, 25.51it/s]\n"
          ]
        },
        {
          "output_type": "stream",
          "name": "stdout",
          "text": [
            "[MoviePy] Done.\n",
            "[MoviePy] >>>> Video ready: cropped_videos/Anger/e49d2017-c73b-45c7-9e1d-d43d956c8c84(C0yx35UmDxk).mp4 \n",
            "\n",
            "Video 73 downloaded\n",
            "Collected 6 images from video\n",
            "\n",
            "\n",
            "!!!  Unable to process video no 74  !!!\n",
            "Copying information of the data to failed_data.csv\n",
            "\n",
            "\n",
            "!!!  Unable to process video no 75  !!!\n",
            "Copying information of the data to failed_data.csv\n",
            "\n",
            "\n",
            "!!!  Unable to process video no 76  !!!\n",
            "Copying information of the data to failed_data.csv\n",
            "\n",
            "\n",
            "!!!  Unable to process video no 77  !!!\n",
            "Copying information of the data to failed_data.csv\n",
            "\n",
            "\n",
            "!!!  Unable to process video no 78  !!!\n",
            "Copying information of the data to failed_data.csv\n",
            "\n",
            "\n",
            "!!!  Unable to process video no 79  !!!\n",
            "Copying information of the data to failed_data.csv\n",
            "\n",
            "\n",
            "!!!  Unable to process video no 80  !!!\n",
            "Copying information of the data to failed_data.csv\n",
            "\n",
            "\n",
            "!!!  Unable to process video no 81  !!!\n",
            "Copying information of the data to failed_data.csv\n",
            "\n",
            "\n",
            "!!!  Unable to process video no 82  !!!\n",
            "Copying information of the data to failed_data.csv\n",
            "\n",
            "\n",
            "!!!  Unable to process video no 83  !!!\n",
            "Copying information of the data to failed_data.csv\n",
            "\n",
            "\n",
            "!!!  Unable to process video no 84  !!!\n",
            "Copying information of the data to failed_data.csv\n",
            "\n",
            "\n",
            "!!!  Unable to process video no 85  !!!\n",
            "Copying information of the data to failed_data.csv\n",
            "\n",
            "\n",
            "!!!  Unable to process video no 86  !!!\n",
            "Copying information of the data to failed_data.csv\n",
            "\n",
            "\n",
            "!!!  Unable to process video no 87  !!!\n",
            "Copying information of the data to failed_data.csv\n",
            "\n",
            "\n",
            "!!!  Unable to process video no 88  !!!\n",
            "Copying information of the data to failed_data.csv\n",
            "\n",
            "\n",
            "!!!  Unable to process video no 89  !!!\n",
            "Copying information of the data to failed_data.csv\n",
            "\n",
            "\n",
            "!!!  Unable to process video no 90  !!!\n",
            "Copying information of the data to failed_data.csv\n",
            "\n",
            "\n",
            "!!!  Unable to process video no 91  !!!\n",
            "Copying information of the data to failed_data.csv\n",
            "\n",
            "\n",
            "!!!  Unable to process video no 92  !!!\n",
            "Copying information of the data to failed_data.csv\n",
            "\n",
            "\n",
            "!!!  Unable to process video no 93  !!!\n",
            "Copying information of the data to failed_data.csv\n",
            "\n",
            "\n",
            "!!!  Unable to process video no 94  !!!\n",
            "Copying information of the data to failed_data.csv\n",
            "\n",
            "\n",
            "!!!  Unable to process video no 95  !!!\n",
            "Copying information of the data to failed_data.csv\n",
            "\n",
            "\n",
            "!!!  Unable to process video no 96  !!!\n",
            "Copying information of the data to failed_data.csv\n",
            "\n",
            "\n",
            "!!!  Unable to process video no 97  !!!\n",
            "Copying information of the data to failed_data.csv\n",
            "\n",
            "\n",
            "!!!  Unable to process video no 98  !!!\n",
            "Copying information of the data to failed_data.csv\n",
            "\n",
            "\n",
            "!!!  Unable to process video no 99  !!!\n",
            "Copying information of the data to failed_data.csv\n",
            "\n",
            "\n",
            "!!!  Unable to process video no 100  !!!\n",
            "Copying information of the data to failed_data.csv\n",
            "\n",
            "\n",
            "!!!  Unable to process video no 101  !!!\n",
            "Copying information of the data to failed_data.csv\n",
            "\n",
            "\n",
            "!!!  Unable to process video no 102  !!!\n",
            "Copying information of the data to failed_data.csv\n",
            "\n",
            "\n",
            "!!!  Unable to process video no 103  !!!\n",
            "Copying information of the data to failed_data.csv\n",
            "\n",
            "\n",
            "!!!  Unable to process video no 104  !!!\n",
            "Copying information of the data to failed_data.csv\n",
            "\n",
            "\n",
            "!!!  Unable to process video no 105  !!!\n",
            "Copying information of the data to failed_data.csv\n",
            "\n",
            "\n",
            "!!!  Unable to process video no 106  !!!\n",
            "Copying information of the data to failed_data.csv\n",
            "\n",
            "\n",
            "!!!  Unable to process video no 107  !!!\n",
            "Copying information of the data to failed_data.csv\n",
            "\n",
            "\n",
            "!!!  Unable to process video no 108  !!!\n",
            "Copying information of the data to failed_data.csv\n",
            "\n",
            "\n",
            "!!!  Unable to process video no 109  !!!\n",
            "Copying information of the data to failed_data.csv\n",
            "\n",
            "\n",
            "!!!  Unable to process video no 110  !!!\n",
            "Copying information of the data to failed_data.csv\n",
            "\n",
            "\n",
            "!!!  Unable to process video no 111  !!!\n",
            "Copying information of the data to failed_data.csv\n",
            "\n",
            "\n",
            "!!!  Unable to process video no 112  !!!\n",
            "Copying information of the data to failed_data.csv\n",
            "\n",
            "\n",
            "!!!  Unable to process video no 113  !!!\n",
            "Copying information of the data to failed_data.csv\n",
            "\n",
            "\n",
            "!!!  Unable to process video no 114  !!!\n",
            "Copying information of the data to failed_data.csv\n",
            "\n",
            "\n",
            "Download is completed successfully\n",
            "[MoviePy] >>>> Building video cropped_videos/Anger/bef2dd3e-384d-4f9c-b30c-453983ca08e1(jr090v003Ng).mp4\n",
            "[MoviePy] Writing audio in bef2dd3e-384d-4f9c-b30c-453983ca08e1(jr090v003Ng)TEMP_MPY_wvf_snd.mp3\n"
          ]
        },
        {
          "output_type": "stream",
          "name": "stderr",
          "text": [
            "100%|██████████| 111/111 [00:00<00:00, 319.80it/s]"
          ]
        },
        {
          "output_type": "stream",
          "name": "stdout",
          "text": [
            "[MoviePy] Done.\n",
            "[MoviePy] Writing video cropped_videos/Anger/bef2dd3e-384d-4f9c-b30c-453983ca08e1(jr090v003Ng).mp4\n"
          ]
        },
        {
          "output_type": "stream",
          "name": "stderr",
          "text": [
            "\n",
            " 99%|█████████▉| 150/151 [00:08<00:00, 17.16it/s]\n"
          ]
        },
        {
          "output_type": "stream",
          "name": "stdout",
          "text": [
            "[MoviePy] Done.\n",
            "[MoviePy] >>>> Video ready: cropped_videos/Anger/bef2dd3e-384d-4f9c-b30c-453983ca08e1(jr090v003Ng).mp4 \n",
            "\n",
            "Video 115 downloaded\n",
            "Collected 6 images from video\n",
            "\n",
            "\n",
            "Download is completed successfully\n",
            "[MoviePy] >>>> Building video cropped_videos/Anger/666cdc0b-e46a-4f18-80e7-7eb912d5a3ff(L9aA-3O_-54).mp4\n",
            "[MoviePy] Writing audio in 666cdc0b-e46a-4f18-80e7-7eb912d5a3ff(L9aA-3O_-54)TEMP_MPY_wvf_snd.mp3\n"
          ]
        },
        {
          "output_type": "stream",
          "name": "stderr",
          "text": [
            "100%|██████████| 133/133 [00:00<00:00, 669.33it/s]"
          ]
        },
        {
          "output_type": "stream",
          "name": "stdout",
          "text": [
            "[MoviePy] Done.\n",
            "[MoviePy] Writing video cropped_videos/Anger/666cdc0b-e46a-4f18-80e7-7eb912d5a3ff(L9aA-3O_-54).mp4\n"
          ]
        },
        {
          "output_type": "stream",
          "name": "stderr",
          "text": [
            "\n",
            "100%|██████████| 180/180 [00:06<00:00, 27.91it/s]\n"
          ]
        },
        {
          "output_type": "stream",
          "name": "stdout",
          "text": [
            "[MoviePy] Done.\n",
            "[MoviePy] >>>> Video ready: cropped_videos/Anger/666cdc0b-e46a-4f18-80e7-7eb912d5a3ff(L9aA-3O_-54).mp4 \n",
            "\n",
            "Video 116 downloaded\n",
            "Collected 6 images from video\n",
            "\n",
            "\n",
            "Download is completed successfully\n",
            "[MoviePy] >>>> Building video cropped_videos/Anger/93c27d41-e437-4564-909c-184045355699(AbX4cEme3lI).mp4\n",
            "[MoviePy] Writing audio in 93c27d41-e437-4564-909c-184045355699(AbX4cEme3lI)TEMP_MPY_wvf_snd.mp3\n"
          ]
        },
        {
          "output_type": "stream",
          "name": "stderr",
          "text": [
            "100%|██████████| 221/221 [00:00<00:00, 482.59it/s]"
          ]
        },
        {
          "output_type": "stream",
          "name": "stdout",
          "text": [
            "[MoviePy] Done.\n",
            "[MoviePy] Writing video cropped_videos/Anger/93c27d41-e437-4564-909c-184045355699(AbX4cEme3lI).mp4\n"
          ]
        },
        {
          "output_type": "stream",
          "name": "stderr",
          "text": [
            "\n",
            "100%|█████████▉| 300/301 [00:08<00:00, 35.82it/s]\n"
          ]
        },
        {
          "output_type": "stream",
          "name": "stdout",
          "text": [
            "[MoviePy] Done.\n",
            "[MoviePy] >>>> Video ready: cropped_videos/Anger/93c27d41-e437-4564-909c-184045355699(AbX4cEme3lI).mp4 \n",
            "\n",
            "Video 117 downloaded\n",
            "Collected 6 images from video\n",
            "\n",
            "\n",
            "[MoviePy] >>>> Building video cropped_videos/Anger/d6186304-6810-4bc0-b5de-5b1fe8afbee0(jr090v003Ng).mp4\n",
            "[MoviePy] Writing audio in d6186304-6810-4bc0-b5de-5b1fe8afbee0(jr090v003Ng)TEMP_MPY_wvf_snd.mp3\n"
          ]
        },
        {
          "output_type": "stream",
          "name": "stderr",
          "text": [
            "100%|██████████| 111/111 [00:00<00:00, 388.78it/s]"
          ]
        },
        {
          "output_type": "stream",
          "name": "stdout",
          "text": [
            "[MoviePy] Done.\n",
            "[MoviePy] Writing video cropped_videos/Anger/d6186304-6810-4bc0-b5de-5b1fe8afbee0(jr090v003Ng).mp4\n"
          ]
        },
        {
          "output_type": "stream",
          "name": "stderr",
          "text": [
            "\n",
            " 99%|█████████▉| 150/151 [00:08<00:00, 16.96it/s]\n"
          ]
        },
        {
          "output_type": "stream",
          "name": "stdout",
          "text": [
            "[MoviePy] Done.\n",
            "[MoviePy] >>>> Video ready: cropped_videos/Anger/d6186304-6810-4bc0-b5de-5b1fe8afbee0(jr090v003Ng).mp4 \n",
            "\n",
            "Video 118 downloaded\n",
            "Collected 6 images from video\n",
            "\n",
            "\n",
            "[MoviePy] >>>> Building video cropped_videos/Anger/2bd7daa7-9422-4270-bdb7-acdb99298ef5(jr090v003Ng).mp4\n",
            "[MoviePy] Writing audio in 2bd7daa7-9422-4270-bdb7-acdb99298ef5(jr090v003Ng)TEMP_MPY_wvf_snd.mp3\n"
          ]
        },
        {
          "output_type": "stream",
          "name": "stderr",
          "text": [
            "100%|██████████| 221/221 [00:00<00:00, 500.27it/s]"
          ]
        },
        {
          "output_type": "stream",
          "name": "stdout",
          "text": [
            "[MoviePy] Done.\n",
            "[MoviePy] Writing video cropped_videos/Anger/2bd7daa7-9422-4270-bdb7-acdb99298ef5(jr090v003Ng).mp4\n"
          ]
        },
        {
          "output_type": "stream",
          "name": "stderr",
          "text": [
            "\n",
            "100%|█████████▉| 300/301 [00:16<00:00, 18.54it/s]\n"
          ]
        },
        {
          "output_type": "stream",
          "name": "stdout",
          "text": [
            "[MoviePy] Done.\n",
            "[MoviePy] >>>> Video ready: cropped_videos/Anger/2bd7daa7-9422-4270-bdb7-acdb99298ef5(jr090v003Ng).mp4 \n",
            "\n",
            "Video 119 downloaded\n",
            "Collected 6 images from video\n",
            "\n",
            "\n",
            "[MoviePy] >>>> Building video cropped_videos/Anger/426564a2-a64e-42f6-90c8-230134ed5cd7(AbX4cEme3lI).mp4\n",
            "[MoviePy] Writing audio in 426564a2-a64e-42f6-90c8-230134ed5cd7(AbX4cEme3lI)TEMP_MPY_wvf_snd.mp3\n"
          ]
        },
        {
          "output_type": "stream",
          "name": "stderr",
          "text": [
            "100%|██████████| 155/155 [00:00<00:00, 413.80it/s]"
          ]
        },
        {
          "output_type": "stream",
          "name": "stdout",
          "text": [
            "[MoviePy] Done.\n",
            "[MoviePy] Writing video cropped_videos/Anger/426564a2-a64e-42f6-90c8-230134ed5cd7(AbX4cEme3lI).mp4\n"
          ]
        },
        {
          "output_type": "stream",
          "name": "stderr",
          "text": [
            "\n",
            "100%|█████████▉| 210/211 [00:17<00:00, 12.29it/s]\n"
          ]
        },
        {
          "output_type": "stream",
          "name": "stdout",
          "text": [
            "[MoviePy] Done.\n",
            "[MoviePy] >>>> Video ready: cropped_videos/Anger/426564a2-a64e-42f6-90c8-230134ed5cd7(AbX4cEme3lI).mp4 \n",
            "\n",
            "Video 120 downloaded\n",
            "Collected 6 images from video\n",
            "\n",
            "\n",
            "[MoviePy] >>>> Building video cropped_videos/Anger/522efcf1-706f-4f1d-958f-dcfe1ca74107(AbX4cEme3lI).mp4\n",
            "[MoviePy] Writing audio in 522efcf1-706f-4f1d-958f-dcfe1ca74107(AbX4cEme3lI)TEMP_MPY_wvf_snd.mp3\n"
          ]
        },
        {
          "output_type": "stream",
          "name": "stderr",
          "text": [
            "100%|██████████| 221/221 [00:00<00:00, 461.57it/s]"
          ]
        },
        {
          "output_type": "stream",
          "name": "stdout",
          "text": [
            "[MoviePy] Done.\n",
            "[MoviePy] Writing video cropped_videos/Anger/522efcf1-706f-4f1d-958f-dcfe1ca74107(AbX4cEme3lI).mp4\n"
          ]
        },
        {
          "output_type": "stream",
          "name": "stderr",
          "text": [
            "\n",
            "100%|█████████▉| 300/301 [00:19<00:00, 15.56it/s]\n"
          ]
        },
        {
          "output_type": "stream",
          "name": "stdout",
          "text": [
            "[MoviePy] Done.\n",
            "[MoviePy] >>>> Video ready: cropped_videos/Anger/522efcf1-706f-4f1d-958f-dcfe1ca74107(AbX4cEme3lI).mp4 \n",
            "\n",
            "Video 121 downloaded\n",
            "Collected 6 images from video\n",
            "\n",
            "\n",
            "[MoviePy] >>>> Building video cropped_videos/Anger/ae691f34-dfdb-48dc-9906-b34774c3b08e(AbX4cEme3lI).mp4\n",
            "[MoviePy] Writing audio in ae691f34-dfdb-48dc-9906-b34774c3b08e(AbX4cEme3lI)TEMP_MPY_wvf_snd.mp3\n"
          ]
        },
        {
          "output_type": "stream",
          "name": "stderr",
          "text": [
            "100%|██████████| 221/221 [00:00<00:00, 469.77it/s]"
          ]
        },
        {
          "output_type": "stream",
          "name": "stdout",
          "text": [
            "[MoviePy] Done.\n",
            "[MoviePy] Writing video cropped_videos/Anger/ae691f34-dfdb-48dc-9906-b34774c3b08e(AbX4cEme3lI).mp4\n"
          ]
        },
        {
          "output_type": "stream",
          "name": "stderr",
          "text": [
            "\n",
            "100%|█████████▉| 300/301 [00:21<00:00, 14.24it/s]\n"
          ]
        },
        {
          "output_type": "stream",
          "name": "stdout",
          "text": [
            "[MoviePy] Done.\n",
            "[MoviePy] >>>> Video ready: cropped_videos/Anger/ae691f34-dfdb-48dc-9906-b34774c3b08e(AbX4cEme3lI).mp4 \n",
            "\n",
            "Video 122 downloaded\n",
            "Collected 6 images from video\n",
            "\n",
            "\n",
            "[MoviePy] >>>> Building video cropped_videos/Anger/21f6b178-d687-4aba-9ffe-532d169e6f28(AbX4cEme3lI).mp4\n",
            "[MoviePy] Writing audio in 21f6b178-d687-4aba-9ffe-532d169e6f28(AbX4cEme3lI)TEMP_MPY_wvf_snd.mp3\n"
          ]
        },
        {
          "output_type": "stream",
          "name": "stderr",
          "text": [
            "100%|██████████| 243/243 [00:00<00:00, 530.14it/s]"
          ]
        },
        {
          "output_type": "stream",
          "name": "stdout",
          "text": [
            "[MoviePy] Done.\n",
            "[MoviePy] Writing video cropped_videos/Anger/21f6b178-d687-4aba-9ffe-532d169e6f28(AbX4cEme3lI).mp4\n"
          ]
        },
        {
          "output_type": "stream",
          "name": "stderr",
          "text": [
            "\n",
            "100%|█████████▉| 330/331 [00:16<00:00, 20.27it/s]\n"
          ]
        },
        {
          "output_type": "stream",
          "name": "stdout",
          "text": [
            "[MoviePy] Done.\n",
            "[MoviePy] >>>> Video ready: cropped_videos/Anger/21f6b178-d687-4aba-9ffe-532d169e6f28(AbX4cEme3lI).mp4 \n",
            "\n",
            "Video 123 downloaded\n",
            "Collected 6 images from video\n",
            "\n",
            "\n",
            "[MoviePy] >>>> Building video cropped_videos/Anger/1300bd46-e98a-4050-a715-9f0398a7cf73(AbX4cEme3lI).mp4\n",
            "[MoviePy] Writing audio in 1300bd46-e98a-4050-a715-9f0398a7cf73(AbX4cEme3lI)TEMP_MPY_wvf_snd.mp3\n"
          ]
        },
        {
          "output_type": "stream",
          "name": "stderr",
          "text": [
            "100%|██████████| 155/155 [00:00<00:00, 439.00it/s]"
          ]
        },
        {
          "output_type": "stream",
          "name": "stdout",
          "text": [
            "[MoviePy] Done.\n",
            "[MoviePy] Writing video cropped_videos/Anger/1300bd46-e98a-4050-a715-9f0398a7cf73(AbX4cEme3lI).mp4\n"
          ]
        },
        {
          "output_type": "stream",
          "name": "stderr",
          "text": [
            "\n",
            "100%|█████████▉| 210/211 [00:10<00:00, 19.36it/s]\n"
          ]
        },
        {
          "output_type": "stream",
          "name": "stdout",
          "text": [
            "[MoviePy] Done.\n",
            "[MoviePy] >>>> Video ready: cropped_videos/Anger/1300bd46-e98a-4050-a715-9f0398a7cf73(AbX4cEme3lI).mp4 \n",
            "\n",
            "Video 124 downloaded\n",
            "Collected 6 images from video\n",
            "\n",
            "\n",
            "Download is completed successfully\n",
            "[MoviePy] >>>> Building video cropped_videos/Anger/2ed3dd45-63d1-4105-88cb-afdeb260840b(A8lZP9mrGzU).mp4\n",
            "[MoviePy] Writing audio in 2ed3dd45-63d1-4105-88cb-afdeb260840b(A8lZP9mrGzU)TEMP_MPY_wvf_snd.mp3\n"
          ]
        },
        {
          "output_type": "stream",
          "name": "stderr",
          "text": [
            "100%|██████████| 155/155 [00:00<00:00, 469.80it/s]"
          ]
        },
        {
          "output_type": "stream",
          "name": "stdout",
          "text": [
            "[MoviePy] Done.\n",
            "[MoviePy] Writing video cropped_videos/Anger/2ed3dd45-63d1-4105-88cb-afdeb260840b(A8lZP9mrGzU).mp4\n"
          ]
        },
        {
          "output_type": "stream",
          "name": "stderr",
          "text": [
            "\n",
            "100%|█████████▉| 210/211 [00:13<00:00, 15.73it/s]\n"
          ]
        },
        {
          "output_type": "stream",
          "name": "stdout",
          "text": [
            "[MoviePy] Done.\n",
            "[MoviePy] >>>> Video ready: cropped_videos/Anger/2ed3dd45-63d1-4105-88cb-afdeb260840b(A8lZP9mrGzU).mp4 \n",
            "\n",
            "Video 125 downloaded\n",
            "Collected 6 images from video\n",
            "\n",
            "\n",
            "[MoviePy] >>>> Building video cropped_videos/Anger/c071068b-321d-43e7-be97-75337ed6df3d(A8lZP9mrGzU).mp4\n",
            "[MoviePy] Writing audio in c071068b-321d-43e7-be97-75337ed6df3d(A8lZP9mrGzU)TEMP_MPY_wvf_snd.mp3\n"
          ]
        },
        {
          "output_type": "stream",
          "name": "stderr",
          "text": [
            "100%|██████████| 111/111 [00:00<00:00, 467.58it/s]"
          ]
        },
        {
          "output_type": "stream",
          "name": "stdout",
          "text": [
            "[MoviePy] Done.\n",
            "[MoviePy] Writing video cropped_videos/Anger/c071068b-321d-43e7-be97-75337ed6df3d(A8lZP9mrGzU).mp4\n"
          ]
        },
        {
          "output_type": "stream",
          "name": "stderr",
          "text": [
            "\n",
            " 99%|█████████▉| 150/151 [00:04<00:00, 31.89it/s]\n"
          ]
        },
        {
          "output_type": "stream",
          "name": "stdout",
          "text": [
            "[MoviePy] Done.\n",
            "[MoviePy] >>>> Video ready: cropped_videos/Anger/c071068b-321d-43e7-be97-75337ed6df3d(A8lZP9mrGzU).mp4 \n",
            "\n",
            "Video 126 downloaded\n",
            "Collected 6 images from video\n",
            "\n",
            "\n",
            "[MoviePy] >>>> Building video cropped_videos/Anger/e9163c16-a675-4cba-afa4-78ca50483765(A8lZP9mrGzU).mp4\n",
            "[MoviePy] Writing audio in e9163c16-a675-4cba-afa4-78ca50483765(A8lZP9mrGzU)TEMP_MPY_wvf_snd.mp3\n"
          ]
        },
        {
          "output_type": "stream",
          "name": "stderr",
          "text": [
            "100%|██████████| 111/111 [00:00<00:00, 351.79it/s]\n"
          ]
        },
        {
          "output_type": "stream",
          "name": "stdout",
          "text": [
            "[MoviePy] Done.\n",
            "[MoviePy] Writing video cropped_videos/Anger/e9163c16-a675-4cba-afa4-78ca50483765(A8lZP9mrGzU).mp4\n"
          ]
        },
        {
          "output_type": "stream",
          "name": "stderr",
          "text": [
            " 99%|█████████▉| 150/151 [00:06<00:00, 23.92it/s]\n"
          ]
        },
        {
          "output_type": "stream",
          "name": "stdout",
          "text": [
            "[MoviePy] Done.\n",
            "[MoviePy] >>>> Video ready: cropped_videos/Anger/e9163c16-a675-4cba-afa4-78ca50483765(A8lZP9mrGzU).mp4 \n",
            "\n",
            "Video 127 downloaded\n",
            "Collected 6 images from video\n",
            "\n",
            "\n",
            "[MoviePy] >>>> Building video cropped_videos/Anger/46ad489f-2f84-4dda-81a0-8d3006bd3907(A8lZP9mrGzU).mp4\n",
            "[MoviePy] Writing audio in 46ad489f-2f84-4dda-81a0-8d3006bd3907(A8lZP9mrGzU)TEMP_MPY_wvf_snd.mp3\n"
          ]
        },
        {
          "output_type": "stream",
          "name": "stderr",
          "text": [
            "100%|██████████| 133/133 [00:00<00:00, 451.73it/s]\n"
          ]
        },
        {
          "output_type": "stream",
          "name": "stdout",
          "text": [
            "[MoviePy] Done.\n",
            "[MoviePy] Writing video cropped_videos/Anger/46ad489f-2f84-4dda-81a0-8d3006bd3907(A8lZP9mrGzU).mp4\n"
          ]
        },
        {
          "output_type": "stream",
          "name": "stderr",
          "text": [
            " 99%|█████████▉| 180/181 [00:09<00:00, 18.54it/s]\n"
          ]
        },
        {
          "output_type": "stream",
          "name": "stdout",
          "text": [
            "[MoviePy] Done.\n",
            "[MoviePy] >>>> Video ready: cropped_videos/Anger/46ad489f-2f84-4dda-81a0-8d3006bd3907(A8lZP9mrGzU).mp4 \n",
            "\n",
            "Video 128 downloaded\n",
            "Collected 6 images from video\n",
            "\n",
            "\n",
            "Download is completed successfully\n",
            "[MoviePy] >>>> Building video cropped_videos/Anger/334ffd89-435c-45df-8bee-3ae168b7536b(IXc4UzXoTLw).mp4\n",
            "[MoviePy] Writing audio in 334ffd89-435c-45df-8bee-3ae168b7536b(IXc4UzXoTLw)TEMP_MPY_wvf_snd.mp3\n"
          ]
        },
        {
          "output_type": "stream",
          "name": "stderr",
          "text": [
            "100%|██████████| 155/155 [00:00<00:00, 371.39it/s]\n"
          ]
        },
        {
          "output_type": "stream",
          "name": "stdout",
          "text": [
            "[MoviePy] Done.\n",
            "[MoviePy] Writing video cropped_videos/Anger/334ffd89-435c-45df-8bee-3ae168b7536b(IXc4UzXoTLw).mp4\n"
          ]
        },
        {
          "output_type": "stream",
          "name": "stderr",
          "text": [
            "100%|█████████▉| 210/211 [00:14<00:00, 14.91it/s]\n"
          ]
        },
        {
          "output_type": "stream",
          "name": "stdout",
          "text": [
            "[MoviePy] Done.\n",
            "[MoviePy] >>>> Video ready: cropped_videos/Anger/334ffd89-435c-45df-8bee-3ae168b7536b(IXc4UzXoTLw).mp4 \n",
            "\n",
            "Video 129 downloaded\n",
            "Collected 6 images from video\n",
            "\n",
            "\n",
            "[MoviePy] >>>> Building video cropped_videos/Anger/43000085-2012-4ecb-961a-d55b546b2b1f(IXc4UzXoTLw).mp4\n",
            "[MoviePy] Writing audio in 43000085-2012-4ecb-961a-d55b546b2b1f(IXc4UzXoTLw)TEMP_MPY_wvf_snd.mp3\n"
          ]
        },
        {
          "output_type": "stream",
          "name": "stderr",
          "text": [
            "100%|██████████| 133/133 [00:00<00:00, 431.99it/s]\n"
          ]
        },
        {
          "output_type": "stream",
          "name": "stdout",
          "text": [
            "[MoviePy] Done.\n",
            "[MoviePy] Writing video cropped_videos/Anger/43000085-2012-4ecb-961a-d55b546b2b1f(IXc4UzXoTLw).mp4\n"
          ]
        },
        {
          "output_type": "stream",
          "name": "stderr",
          "text": [
            " 99%|█████████▉| 180/181 [00:10<00:00, 17.43it/s]\n"
          ]
        },
        {
          "output_type": "stream",
          "name": "stdout",
          "text": [
            "[MoviePy] Done.\n",
            "[MoviePy] >>>> Video ready: cropped_videos/Anger/43000085-2012-4ecb-961a-d55b546b2b1f(IXc4UzXoTLw).mp4 \n",
            "\n",
            "Video 130 downloaded\n",
            "Collected 6 images from video\n",
            "\n",
            "\n",
            "[MoviePy] >>>> Building video cropped_videos/Anger/8743ef40-bd6b-424a-b323-4ed31cf25f88(IXc4UzXoTLw).mp4\n",
            "[MoviePy] Writing audio in 8743ef40-bd6b-424a-b323-4ed31cf25f88(IXc4UzXoTLw)TEMP_MPY_wvf_snd.mp3\n"
          ]
        },
        {
          "output_type": "stream",
          "name": "stderr",
          "text": [
            "100%|██████████| 133/133 [00:00<00:00, 398.50it/s]\n"
          ]
        },
        {
          "output_type": "stream",
          "name": "stdout",
          "text": [
            "[MoviePy] Done.\n",
            "[MoviePy] Writing video cropped_videos/Anger/8743ef40-bd6b-424a-b323-4ed31cf25f88(IXc4UzXoTLw).mp4\n"
          ]
        },
        {
          "output_type": "stream",
          "name": "stderr",
          "text": [
            " 99%|█████████▉| 180/181 [00:07<00:00, 23.94it/s]\n"
          ]
        },
        {
          "output_type": "stream",
          "name": "stdout",
          "text": [
            "[MoviePy] Done.\n",
            "[MoviePy] >>>> Video ready: cropped_videos/Anger/8743ef40-bd6b-424a-b323-4ed31cf25f88(IXc4UzXoTLw).mp4 \n",
            "\n",
            "Video 131 downloaded\n",
            "Collected 6 images from video\n",
            "\n",
            "\n",
            "[MoviePy] >>>> Building video cropped_videos/Anger/b0118952-eb6f-4994-9cff-a1d8604eb763(IXc4UzXoTLw).mp4\n",
            "[MoviePy] Writing audio in b0118952-eb6f-4994-9cff-a1d8604eb763(IXc4UzXoTLw)TEMP_MPY_wvf_snd.mp3\n"
          ]
        },
        {
          "output_type": "stream",
          "name": "stderr",
          "text": [
            "100%|██████████| 111/111 [00:00<00:00, 376.16it/s]"
          ]
        },
        {
          "output_type": "stream",
          "name": "stdout",
          "text": [
            "[MoviePy] Done.\n",
            "[MoviePy] Writing video cropped_videos/Anger/b0118952-eb6f-4994-9cff-a1d8604eb763(IXc4UzXoTLw).mp4\n"
          ]
        },
        {
          "output_type": "stream",
          "name": "stderr",
          "text": [
            "\n",
            " 99%|█████████▉| 150/151 [00:08<00:00, 18.11it/s]\n"
          ]
        },
        {
          "output_type": "stream",
          "name": "stdout",
          "text": [
            "[MoviePy] Done.\n",
            "[MoviePy] >>>> Video ready: cropped_videos/Anger/b0118952-eb6f-4994-9cff-a1d8604eb763(IXc4UzXoTLw).mp4 \n",
            "\n",
            "Video 132 downloaded\n",
            "Collected 6 images from video\n",
            "\n",
            "\n",
            "[MoviePy] >>>> Building video cropped_videos/Anger/baf868a5-e792-4166-87d9-ed758a870293(IXc4UzXoTLw).mp4\n",
            "[MoviePy] Writing audio in baf868a5-e792-4166-87d9-ed758a870293(IXc4UzXoTLw)TEMP_MPY_wvf_snd.mp3\n"
          ]
        },
        {
          "output_type": "stream",
          "name": "stderr",
          "text": [
            "100%|██████████| 155/155 [00:00<00:00, 434.03it/s]"
          ]
        },
        {
          "output_type": "stream",
          "name": "stdout",
          "text": [
            "[MoviePy] Done.\n",
            "[MoviePy] Writing video cropped_videos/Anger/baf868a5-e792-4166-87d9-ed758a870293(IXc4UzXoTLw).mp4\n"
          ]
        },
        {
          "output_type": "stream",
          "name": "stderr",
          "text": [
            "\n",
            "100%|█████████▉| 210/211 [00:12<00:00, 16.99it/s]\n"
          ]
        },
        {
          "output_type": "stream",
          "name": "stdout",
          "text": [
            "[MoviePy] Done.\n",
            "[MoviePy] >>>> Video ready: cropped_videos/Anger/baf868a5-e792-4166-87d9-ed758a870293(IXc4UzXoTLw).mp4 \n",
            "\n",
            "Video 133 downloaded\n",
            "Collected 6 images from video\n",
            "\n",
            "\n",
            "Download is completed successfully\n",
            "[MoviePy] >>>> Building video cropped_videos/Anger/2d9d8f1e-c689-486a-a182-36dd0470ff96(ULuzHl7iFjk).mp4\n",
            "[MoviePy] Writing audio in 2d9d8f1e-c689-486a-a182-36dd0470ff96(ULuzHl7iFjk)TEMP_MPY_wvf_snd.mp3\n"
          ]
        },
        {
          "output_type": "stream",
          "name": "stderr",
          "text": [
            "100%|██████████| 111/111 [00:00<00:00, 410.77it/s]"
          ]
        },
        {
          "output_type": "stream",
          "name": "stdout",
          "text": [
            "[MoviePy] Done.\n",
            "[MoviePy] Writing video cropped_videos/Anger/2d9d8f1e-c689-486a-a182-36dd0470ff96(ULuzHl7iFjk).mp4\n"
          ]
        },
        {
          "output_type": "stream",
          "name": "stderr",
          "text": [
            "\n",
            " 99%|█████████▉| 150/151 [00:04<00:00, 31.00it/s]\n"
          ]
        },
        {
          "output_type": "stream",
          "name": "stdout",
          "text": [
            "[MoviePy] Done.\n",
            "[MoviePy] >>>> Video ready: cropped_videos/Anger/2d9d8f1e-c689-486a-a182-36dd0470ff96(ULuzHl7iFjk).mp4 \n",
            "\n",
            "Video 134 downloaded\n",
            "Collected 6 images from video\n",
            "\n",
            "\n",
            "Download is completed successfully\n",
            "[MoviePy] >>>> Building video cropped_videos/Anger/018a921c-3896-4324-9c49-75c4790c129b(3lwgvRVtGfA).mp4\n",
            "[MoviePy] Writing audio in 018a921c-3896-4324-9c49-75c4790c129b(3lwgvRVtGfA)TEMP_MPY_wvf_snd.mp3\n"
          ]
        },
        {
          "output_type": "stream",
          "name": "stderr",
          "text": [
            "100%|██████████| 155/155 [00:00<00:00, 365.05it/s]"
          ]
        },
        {
          "output_type": "stream",
          "name": "stdout",
          "text": [
            "[MoviePy] Done.\n",
            "[MoviePy] Writing video cropped_videos/Anger/018a921c-3896-4324-9c49-75c4790c129b(3lwgvRVtGfA).mp4\n"
          ]
        },
        {
          "output_type": "stream",
          "name": "stderr",
          "text": [
            "\n",
            "100%|█████████▉| 210/211 [00:11<00:00, 18.17it/s]\n"
          ]
        },
        {
          "output_type": "stream",
          "name": "stdout",
          "text": [
            "[MoviePy] Done.\n",
            "[MoviePy] >>>> Video ready: cropped_videos/Anger/018a921c-3896-4324-9c49-75c4790c129b(3lwgvRVtGfA).mp4 \n",
            "\n",
            "Video 135 downloaded\n",
            "Collected 6 images from video\n",
            "\n",
            "\n",
            "!!!  Unable to process video no 136  !!!\n",
            "Copying information of the data to failed_data.csv\n",
            "\n",
            "\n",
            "Download is completed successfully\n",
            "[MoviePy] >>>> Building video cropped_videos/Anger/6b98cfb9-9b92-4287-b51a-53b2fbfc5133(-6qOxgnVioE).mp4\n",
            "[MoviePy] Writing audio in 6b98cfb9-9b92-4287-b51a-53b2fbfc5133(-6qOxgnVioE)TEMP_MPY_wvf_snd.mp3\n"
          ]
        },
        {
          "output_type": "stream",
          "name": "stderr",
          "text": [
            "100%|██████████| 221/221 [00:00<00:00, 386.88it/s]"
          ]
        },
        {
          "output_type": "stream",
          "name": "stdout",
          "text": [
            "[MoviePy] Done.\n",
            "[MoviePy] Writing video cropped_videos/Anger/6b98cfb9-9b92-4287-b51a-53b2fbfc5133(-6qOxgnVioE).mp4\n"
          ]
        },
        {
          "output_type": "stream",
          "name": "stderr",
          "text": [
            "\n",
            "100%|██████████| 300/300 [00:32<00:00,  9.37it/s]\n"
          ]
        },
        {
          "output_type": "stream",
          "name": "stdout",
          "text": [
            "[MoviePy] Done.\n",
            "[MoviePy] >>>> Video ready: cropped_videos/Anger/6b98cfb9-9b92-4287-b51a-53b2fbfc5133(-6qOxgnVioE).mp4 \n",
            "\n",
            "Video 137 downloaded\n",
            "Collected 6 images from video\n",
            "\n",
            "\n",
            "Download is completed successfully\n",
            "[MoviePy] >>>> Building video cropped_videos/Anger/909bba30-bc52-4e43-a125-804f899a20c0(gAG7dzehqPc).mp4\n",
            "[MoviePy] Writing audio in 909bba30-bc52-4e43-a125-804f899a20c0(gAG7dzehqPc)TEMP_MPY_wvf_snd.mp3\n"
          ]
        },
        {
          "output_type": "stream",
          "name": "stderr",
          "text": [
            "100%|██████████| 221/221 [00:00<00:00, 410.72it/s]"
          ]
        },
        {
          "output_type": "stream",
          "name": "stdout",
          "text": [
            "[MoviePy] Done.\n",
            "[MoviePy] Writing video cropped_videos/Anger/909bba30-bc52-4e43-a125-804f899a20c0(gAG7dzehqPc).mp4\n"
          ]
        },
        {
          "output_type": "stream",
          "name": "stderr",
          "text": [
            "\n",
            "100%|█████████▉| 300/301 [00:09<00:00, 32.75it/s]\n"
          ]
        },
        {
          "output_type": "stream",
          "name": "stdout",
          "text": [
            "[MoviePy] Done.\n",
            "[MoviePy] >>>> Video ready: cropped_videos/Anger/909bba30-bc52-4e43-a125-804f899a20c0(gAG7dzehqPc).mp4 \n",
            "\n",
            "Video 138 downloaded\n",
            "Collected 6 images from video\n",
            "\n",
            "\n",
            "Download is completed successfully\n",
            "[MoviePy] >>>> Building video cropped_videos/Anger/03a6aae6-cb9d-4b65-a991-a4ae903dd98d(S0sYriIsvr4).mp4\n",
            "[MoviePy] Writing audio in 03a6aae6-cb9d-4b65-a991-a4ae903dd98d(S0sYriIsvr4)TEMP_MPY_wvf_snd.mp3\n",
            "!!!  Unable to process video no 139  !!!\n",
            "Copying information of the data to failed_data.csv\n",
            "\n",
            "\n",
            "[MoviePy] >>>> Building video cropped_videos/Anger/f48cc2e1-5a4b-42c3-9aaa-eeb1ae7209bb(S0sYriIsvr4).mp4\n",
            "[MoviePy] Writing audio in f48cc2e1-5a4b-42c3-9aaa-eeb1ae7209bb(S0sYriIsvr4)TEMP_MPY_wvf_snd.mp3\n"
          ]
        },
        {
          "output_type": "stream",
          "name": "stderr",
          "text": [
            "100%|██████████| 243/243 [00:00<00:00, 520.21it/s]"
          ]
        },
        {
          "output_type": "stream",
          "name": "stdout",
          "text": [
            "[MoviePy] Done.\n",
            "[MoviePy] Writing video cropped_videos/Anger/f48cc2e1-5a4b-42c3-9aaa-eeb1ae7209bb(S0sYriIsvr4).mp4\n"
          ]
        },
        {
          "output_type": "stream",
          "name": "stderr",
          "text": [
            "\n",
            "100%|█████████▉| 264/265 [00:10<00:00, 24.22it/s]\n"
          ]
        },
        {
          "output_type": "stream",
          "name": "stdout",
          "text": [
            "[MoviePy] Done.\n",
            "[MoviePy] >>>> Video ready: cropped_videos/Anger/f48cc2e1-5a4b-42c3-9aaa-eeb1ae7209bb(S0sYriIsvr4).mp4 \n",
            "\n",
            "Video 140 downloaded\n",
            "Collected 6 images from video\n",
            "\n",
            "\n",
            "!!!  Unable to process video no 141  !!!\n",
            "Copying information of the data to failed_data.csv\n",
            "\n",
            "\n",
            "!!!  Unable to process video no 142  !!!\n",
            "Copying information of the data to failed_data.csv\n",
            "\n",
            "\n",
            "Download is completed successfully\n",
            "[MoviePy] >>>> Building video cropped_videos/Anger/a1caf1fe-222e-4ffc-a1e4-7fb2a33c5216(sXfbykkvjaM).mp4\n",
            "[MoviePy] Writing audio in a1caf1fe-222e-4ffc-a1e4-7fb2a33c5216(sXfbykkvjaM)TEMP_MPY_wvf_snd.mp3\n"
          ]
        },
        {
          "output_type": "stream",
          "name": "stderr",
          "text": [
            "100%|██████████| 111/111 [00:00<00:00, 421.23it/s]"
          ]
        },
        {
          "output_type": "stream",
          "name": "stdout",
          "text": [
            "[MoviePy] Done.\n",
            "[MoviePy] Writing video cropped_videos/Anger/a1caf1fe-222e-4ffc-a1e4-7fb2a33c5216(sXfbykkvjaM).mp4\n"
          ]
        },
        {
          "output_type": "stream",
          "name": "stderr",
          "text": [
            "\n",
            " 99%|█████████▉| 150/151 [00:10<00:00, 14.83it/s]\n"
          ]
        },
        {
          "output_type": "stream",
          "name": "stdout",
          "text": [
            "[MoviePy] Done.\n",
            "[MoviePy] >>>> Video ready: cropped_videos/Anger/a1caf1fe-222e-4ffc-a1e4-7fb2a33c5216(sXfbykkvjaM).mp4 \n",
            "\n",
            "Video 143 downloaded\n",
            "Collected 6 images from video\n",
            "\n",
            "\n",
            "[MoviePy] >>>> Building video cropped_videos/Anger/e6d1b37c-a579-4b12-95de-b99ab6d56ebd(sXfbykkvjaM).mp4\n",
            "[MoviePy] Writing audio in e6d1b37c-a579-4b12-95de-b99ab6d56ebd(sXfbykkvjaM)TEMP_MPY_wvf_snd.mp3\n"
          ]
        },
        {
          "output_type": "stream",
          "name": "stderr",
          "text": [
            "100%|██████████| 111/111 [00:00<00:00, 388.47it/s]"
          ]
        },
        {
          "output_type": "stream",
          "name": "stdout",
          "text": [
            "[MoviePy] Done.\n",
            "[MoviePy] Writing video cropped_videos/Anger/e6d1b37c-a579-4b12-95de-b99ab6d56ebd(sXfbykkvjaM).mp4\n"
          ]
        },
        {
          "output_type": "stream",
          "name": "stderr",
          "text": [
            "\n",
            " 99%|█████████▉| 150/151 [00:08<00:00, 18.43it/s]\n"
          ]
        },
        {
          "output_type": "stream",
          "name": "stdout",
          "text": [
            "[MoviePy] Done.\n",
            "[MoviePy] >>>> Video ready: cropped_videos/Anger/e6d1b37c-a579-4b12-95de-b99ab6d56ebd(sXfbykkvjaM).mp4 \n",
            "\n",
            "Video 144 downloaded\n",
            "Collected 6 images from video\n",
            "\n",
            "\n",
            "[MoviePy] >>>> Building video cropped_videos/Anger/cb4ecb7f-564e-41c9-9966-ddb03284ab4c(sXfbykkvjaM).mp4\n",
            "[MoviePy] Writing audio in cb4ecb7f-564e-41c9-9966-ddb03284ab4c(sXfbykkvjaM)TEMP_MPY_wvf_snd.mp3\n"
          ]
        },
        {
          "output_type": "stream",
          "name": "stderr",
          "text": [
            "100%|██████████| 89/89 [00:00<00:00, 439.44it/s]"
          ]
        },
        {
          "output_type": "stream",
          "name": "stdout",
          "text": [
            "[MoviePy] Done.\n",
            "[MoviePy] Writing video cropped_videos/Anger/cb4ecb7f-564e-41c9-9966-ddb03284ab4c(sXfbykkvjaM).mp4\n"
          ]
        },
        {
          "output_type": "stream",
          "name": "stderr",
          "text": [
            "\n",
            " 99%|█████████▉| 120/121 [00:03<00:00, 30.61it/s]\n"
          ]
        },
        {
          "output_type": "stream",
          "name": "stdout",
          "text": [
            "[MoviePy] Done.\n",
            "[MoviePy] >>>> Video ready: cropped_videos/Anger/cb4ecb7f-564e-41c9-9966-ddb03284ab4c(sXfbykkvjaM).mp4 \n",
            "\n",
            "Video 145 downloaded\n",
            "Collected 6 images from video\n",
            "\n",
            "\n",
            "[MoviePy] >>>> Building video cropped_videos/Anger/7bdb2a9f-e33d-4ebb-b133-8a2886047c45(sXfbykkvjaM).mp4\n",
            "[MoviePy] Writing audio in 7bdb2a9f-e33d-4ebb-b133-8a2886047c45(sXfbykkvjaM)TEMP_MPY_wvf_snd.mp3\n"
          ]
        },
        {
          "output_type": "stream",
          "name": "stderr",
          "text": [
            "100%|██████████| 111/111 [00:00<00:00, 403.76it/s]"
          ]
        },
        {
          "output_type": "stream",
          "name": "stdout",
          "text": [
            "[MoviePy] Done.\n",
            "[MoviePy] Writing video cropped_videos/Anger/7bdb2a9f-e33d-4ebb-b133-8a2886047c45(sXfbykkvjaM).mp4\n"
          ]
        },
        {
          "output_type": "stream",
          "name": "stderr",
          "text": [
            "\n",
            " 99%|█████████▉| 150/151 [00:07<00:00, 19.50it/s]\n"
          ]
        },
        {
          "output_type": "stream",
          "name": "stdout",
          "text": [
            "[MoviePy] Done.\n",
            "[MoviePy] >>>> Video ready: cropped_videos/Anger/7bdb2a9f-e33d-4ebb-b133-8a2886047c45(sXfbykkvjaM).mp4 \n",
            "\n",
            "Video 146 downloaded\n",
            "Collected 6 images from video\n",
            "\n",
            "\n",
            "[MoviePy] >>>> Building video cropped_videos/Anger/2e9386b5-23e0-4f49-b69e-522ba19e4379(sXfbykkvjaM).mp4\n",
            "[MoviePy] Writing audio in 2e9386b5-23e0-4f49-b69e-522ba19e4379(sXfbykkvjaM)TEMP_MPY_wvf_snd.mp3\n"
          ]
        },
        {
          "output_type": "stream",
          "name": "stderr",
          "text": [
            "100%|██████████| 133/133 [00:00<00:00, 434.79it/s]\n"
          ]
        },
        {
          "output_type": "stream",
          "name": "stdout",
          "text": [
            "[MoviePy] Done.\n",
            "[MoviePy] Writing video cropped_videos/Anger/2e9386b5-23e0-4f49-b69e-522ba19e4379(sXfbykkvjaM).mp4\n"
          ]
        },
        {
          "output_type": "stream",
          "name": "stderr",
          "text": [
            " 99%|█████████▉| 180/181 [00:08<00:00, 20.91it/s]\n"
          ]
        },
        {
          "output_type": "stream",
          "name": "stdout",
          "text": [
            "[MoviePy] Done.\n",
            "[MoviePy] >>>> Video ready: cropped_videos/Anger/2e9386b5-23e0-4f49-b69e-522ba19e4379(sXfbykkvjaM).mp4 \n",
            "\n",
            "Video 147 downloaded\n",
            "Collected 6 images from video\n",
            "\n",
            "\n",
            "[MoviePy] >>>> Building video cropped_videos/Anger/5282d69a-06c7-4cd1-a992-28cb333fde77(sXfbykkvjaM).mp4\n",
            "[MoviePy] Writing audio in 5282d69a-06c7-4cd1-a992-28cb333fde77(sXfbykkvjaM)TEMP_MPY_wvf_snd.mp3\n"
          ]
        },
        {
          "output_type": "stream",
          "name": "stderr",
          "text": [
            "100%|██████████| 133/133 [00:00<00:00, 392.27it/s]"
          ]
        },
        {
          "output_type": "stream",
          "name": "stdout",
          "text": [
            "[MoviePy] Done.\n",
            "[MoviePy] Writing video cropped_videos/Anger/5282d69a-06c7-4cd1-a992-28cb333fde77(sXfbykkvjaM).mp4\n"
          ]
        },
        {
          "output_type": "stream",
          "name": "stderr",
          "text": [
            "\n",
            " 99%|█████████▉| 180/181 [00:12<00:00, 13.97it/s]\n"
          ]
        },
        {
          "output_type": "stream",
          "name": "stdout",
          "text": [
            "[MoviePy] Done.\n",
            "[MoviePy] >>>> Video ready: cropped_videos/Anger/5282d69a-06c7-4cd1-a992-28cb333fde77(sXfbykkvjaM).mp4 \n",
            "\n",
            "Video 148 downloaded\n",
            "Collected 6 images from video\n",
            "\n",
            "\n",
            "Download is completed successfully\n",
            "[MoviePy] >>>> Building video cropped_videos/Anger/cb234814-a891-4d32-9bca-2f66622e9b20(zLt_c44tFaI).mp4\n",
            "[MoviePy] Writing audio in cb234814-a891-4d32-9bca-2f66622e9b20(zLt_c44tFaI)TEMP_MPY_wvf_snd.mp3\n"
          ]
        },
        {
          "output_type": "stream",
          "name": "stderr",
          "text": [
            "100%|██████████| 133/133 [00:00<00:00, 455.80it/s]"
          ]
        },
        {
          "output_type": "stream",
          "name": "stdout",
          "text": [
            "[MoviePy] Done.\n",
            "[MoviePy] Writing video cropped_videos/Anger/cb234814-a891-4d32-9bca-2f66622e9b20(zLt_c44tFaI).mp4\n"
          ]
        },
        {
          "output_type": "stream",
          "name": "stderr",
          "text": [
            "\n",
            " 99%|█████████▉| 180/181 [00:13<00:00, 13.75it/s]\n"
          ]
        },
        {
          "output_type": "stream",
          "name": "stdout",
          "text": [
            "[MoviePy] Done.\n",
            "[MoviePy] >>>> Video ready: cropped_videos/Anger/cb234814-a891-4d32-9bca-2f66622e9b20(zLt_c44tFaI).mp4 \n",
            "\n",
            "Video 149 downloaded\n",
            "Collected 6 images from video\n",
            "\n",
            "\n",
            "[MoviePy] >>>> Building video cropped_videos/Anger/99671137-8dc0-4e7d-937d-49db7bdf1878(zLt_c44tFaI).mp4\n",
            "[MoviePy] Writing audio in 99671137-8dc0-4e7d-937d-49db7bdf1878(zLt_c44tFaI)TEMP_MPY_wvf_snd.mp3\n"
          ]
        },
        {
          "output_type": "stream",
          "name": "stderr",
          "text": [
            "100%|██████████| 155/155 [00:00<00:00, 386.75it/s]"
          ]
        },
        {
          "output_type": "stream",
          "name": "stdout",
          "text": [
            "[MoviePy] Done.\n",
            "[MoviePy] Writing video cropped_videos/Anger/99671137-8dc0-4e7d-937d-49db7bdf1878(zLt_c44tFaI).mp4\n"
          ]
        },
        {
          "output_type": "stream",
          "name": "stderr",
          "text": [
            "\n",
            "100%|█████████▉| 210/211 [00:15<00:00, 13.80it/s]\n"
          ]
        },
        {
          "output_type": "stream",
          "name": "stdout",
          "text": [
            "[MoviePy] Done.\n",
            "[MoviePy] >>>> Video ready: cropped_videos/Anger/99671137-8dc0-4e7d-937d-49db7bdf1878(zLt_c44tFaI).mp4 \n",
            "\n",
            "Video 150 downloaded\n",
            "Collected 6 images from video\n",
            "\n",
            "\n",
            "[MoviePy] >>>> Building video cropped_videos/Anger/015190e4-c9fe-4fc9-8098-094e2a59c7f8(zLt_c44tFaI).mp4\n",
            "[MoviePy] Writing audio in 015190e4-c9fe-4fc9-8098-094e2a59c7f8(zLt_c44tFaI)TEMP_MPY_wvf_snd.mp3\n"
          ]
        },
        {
          "output_type": "stream",
          "name": "stderr",
          "text": [
            "100%|██████████| 111/111 [00:00<00:00, 403.01it/s]"
          ]
        },
        {
          "output_type": "stream",
          "name": "stdout",
          "text": [
            "[MoviePy] Done.\n",
            "[MoviePy] Writing video cropped_videos/Anger/015190e4-c9fe-4fc9-8098-094e2a59c7f8(zLt_c44tFaI).mp4\n"
          ]
        },
        {
          "output_type": "stream",
          "name": "stderr",
          "text": [
            "\n",
            " 99%|█████████▉| 150/151 [00:09<00:00, 16.18it/s]\n"
          ]
        },
        {
          "output_type": "stream",
          "name": "stdout",
          "text": [
            "[MoviePy] Done.\n",
            "[MoviePy] >>>> Video ready: cropped_videos/Anger/015190e4-c9fe-4fc9-8098-094e2a59c7f8(zLt_c44tFaI).mp4 \n",
            "\n",
            "Video 151 downloaded\n",
            "Collected 6 images from video\n",
            "\n",
            "\n",
            "[MoviePy] >>>> Building video cropped_videos/Anger/45452d84-3a31-47a4-90d0-f8841de7a836(zLt_c44tFaI).mp4\n",
            "[MoviePy] Writing audio in 45452d84-3a31-47a4-90d0-f8841de7a836(zLt_c44tFaI)TEMP_MPY_wvf_snd.mp3\n"
          ]
        },
        {
          "output_type": "stream",
          "name": "stderr",
          "text": [
            "100%|██████████| 111/111 [00:00<00:00, 438.80it/s]"
          ]
        },
        {
          "output_type": "stream",
          "name": "stdout",
          "text": [
            "[MoviePy] Done.\n",
            "[MoviePy] Writing video cropped_videos/Anger/45452d84-3a31-47a4-90d0-f8841de7a836(zLt_c44tFaI).mp4\n"
          ]
        },
        {
          "output_type": "stream",
          "name": "stderr",
          "text": [
            "\n",
            " 99%|█████████▉| 150/151 [00:13<00:00, 11.16it/s]\n"
          ]
        },
        {
          "output_type": "stream",
          "name": "stdout",
          "text": [
            "[MoviePy] Done.\n",
            "[MoviePy] >>>> Video ready: cropped_videos/Anger/45452d84-3a31-47a4-90d0-f8841de7a836(zLt_c44tFaI).mp4 \n",
            "\n",
            "Video 152 downloaded\n",
            "Collected 6 images from video\n",
            "\n",
            "\n",
            "[MoviePy] >>>> Building video cropped_videos/Anger/be9f8681-8d71-4aa5-8a05-2bba394236bb(zLt_c44tFaI).mp4\n",
            "[MoviePy] Writing audio in be9f8681-8d71-4aa5-8a05-2bba394236bb(zLt_c44tFaI)TEMP_MPY_wvf_snd.mp3\n"
          ]
        },
        {
          "output_type": "stream",
          "name": "stderr",
          "text": [
            "100%|██████████| 111/111 [00:00<00:00, 373.81it/s]"
          ]
        },
        {
          "output_type": "stream",
          "name": "stdout",
          "text": [
            "[MoviePy] Done.\n"
          ]
        },
        {
          "output_type": "stream",
          "name": "stderr",
          "text": [
            "\n"
          ]
        },
        {
          "output_type": "stream",
          "name": "stdout",
          "text": [
            "[MoviePy] Writing video cropped_videos/Anger/be9f8681-8d71-4aa5-8a05-2bba394236bb(zLt_c44tFaI).mp4\n"
          ]
        },
        {
          "output_type": "stream",
          "name": "stderr",
          "text": [
            " 99%|█████████▉| 150/151 [00:10<00:00, 14.96it/s]\n"
          ]
        },
        {
          "output_type": "stream",
          "name": "stdout",
          "text": [
            "[MoviePy] Done.\n",
            "[MoviePy] >>>> Video ready: cropped_videos/Anger/be9f8681-8d71-4aa5-8a05-2bba394236bb(zLt_c44tFaI).mp4 \n",
            "\n",
            "Video 153 downloaded\n",
            "Collected 6 images from video\n",
            "\n",
            "\n",
            "Download is completed successfully\n",
            "[MoviePy] >>>> Building video cropped_videos/Anger/bda1e283-2d3d-4c37-b23a-f8e0558f8e54(a_yATeEGIVM).mp4\n",
            "[MoviePy] Writing audio in bda1e283-2d3d-4c37-b23a-f8e0558f8e54(a_yATeEGIVM)TEMP_MPY_wvf_snd.mp3\n"
          ]
        },
        {
          "output_type": "stream",
          "name": "stderr",
          "text": [
            "100%|██████████| 111/111 [00:00<00:00, 424.39it/s]"
          ]
        },
        {
          "output_type": "stream",
          "name": "stdout",
          "text": [
            "[MoviePy] Done.\n",
            "[MoviePy] Writing video cropped_videos/Anger/bda1e283-2d3d-4c37-b23a-f8e0558f8e54(a_yATeEGIVM).mp4\n"
          ]
        },
        {
          "output_type": "stream",
          "name": "stderr",
          "text": [
            "\n",
            " 99%|█████████▉| 150/151 [00:08<00:00, 16.85it/s]\n"
          ]
        },
        {
          "output_type": "stream",
          "name": "stdout",
          "text": [
            "[MoviePy] Done.\n",
            "[MoviePy] >>>> Video ready: cropped_videos/Anger/bda1e283-2d3d-4c37-b23a-f8e0558f8e54(a_yATeEGIVM).mp4 \n",
            "\n",
            "Video 154 downloaded\n",
            "Collected 6 images from video\n",
            "\n",
            "\n",
            "[MoviePy] >>>> Building video cropped_videos/Anger/3d5a4dec-45e5-4ae8-a31d-f3911d409c62(a_yATeEGIVM).mp4\n",
            "[MoviePy] Writing audio in 3d5a4dec-45e5-4ae8-a31d-f3911d409c62(a_yATeEGIVM)TEMP_MPY_wvf_snd.mp3\n"
          ]
        },
        {
          "output_type": "stream",
          "name": "stderr",
          "text": [
            "100%|██████████| 89/89 [00:00<00:00, 373.66it/s]"
          ]
        },
        {
          "output_type": "stream",
          "name": "stdout",
          "text": [
            "[MoviePy] Done.\n",
            "[MoviePy] Writing video cropped_videos/Anger/3d5a4dec-45e5-4ae8-a31d-f3911d409c62(a_yATeEGIVM).mp4\n"
          ]
        },
        {
          "output_type": "stream",
          "name": "stderr",
          "text": [
            "\n",
            " 99%|█████████▉| 120/121 [00:06<00:00, 17.55it/s]\n"
          ]
        },
        {
          "output_type": "stream",
          "name": "stdout",
          "text": [
            "[MoviePy] Done.\n",
            "[MoviePy] >>>> Video ready: cropped_videos/Anger/3d5a4dec-45e5-4ae8-a31d-f3911d409c62(a_yATeEGIVM).mp4 \n",
            "\n",
            "Video 155 downloaded\n",
            "Collected 6 images from video\n",
            "\n",
            "\n",
            "[MoviePy] >>>> Building video cropped_videos/Anger/d77d9b76-3f2b-4a2c-81f8-437831fde250(a_yATeEGIVM).mp4\n",
            "[MoviePy] Writing audio in d77d9b76-3f2b-4a2c-81f8-437831fde250(a_yATeEGIVM)TEMP_MPY_wvf_snd.mp3\n"
          ]
        },
        {
          "output_type": "stream",
          "name": "stderr",
          "text": [
            "100%|██████████| 111/111 [00:00<00:00, 365.83it/s]"
          ]
        },
        {
          "output_type": "stream",
          "name": "stdout",
          "text": [
            "[MoviePy] Done.\n",
            "[MoviePy] Writing video cropped_videos/Anger/d77d9b76-3f2b-4a2c-81f8-437831fde250(a_yATeEGIVM).mp4\n"
          ]
        },
        {
          "output_type": "stream",
          "name": "stderr",
          "text": [
            "\n",
            " 99%|█████████▉| 150/151 [00:11<00:00, 13.61it/s]\n"
          ]
        },
        {
          "output_type": "stream",
          "name": "stdout",
          "text": [
            "[MoviePy] Done.\n",
            "[MoviePy] >>>> Video ready: cropped_videos/Anger/d77d9b76-3f2b-4a2c-81f8-437831fde250(a_yATeEGIVM).mp4 \n",
            "\n",
            "Video 156 downloaded\n",
            "Collected 6 images from video\n",
            "\n",
            "\n",
            "[MoviePy] >>>> Building video cropped_videos/Anger/8142c361-1625-4746-8538-c6840db61cdb(a_yATeEGIVM).mp4\n",
            "[MoviePy] Writing audio in 8142c361-1625-4746-8538-c6840db61cdb(a_yATeEGIVM)TEMP_MPY_wvf_snd.mp3\n"
          ]
        },
        {
          "output_type": "stream",
          "name": "stderr",
          "text": [
            "100%|██████████| 111/111 [00:00<00:00, 397.58it/s]"
          ]
        },
        {
          "output_type": "stream",
          "name": "stdout",
          "text": [
            "[MoviePy] Done.\n",
            "[MoviePy] Writing video cropped_videos/Anger/8142c361-1625-4746-8538-c6840db61cdb(a_yATeEGIVM).mp4\n"
          ]
        },
        {
          "output_type": "stream",
          "name": "stderr",
          "text": [
            "\n",
            " 99%|█████████▉| 150/151 [00:08<00:00, 17.42it/s]\n"
          ]
        },
        {
          "output_type": "stream",
          "name": "stdout",
          "text": [
            "[MoviePy] Done.\n",
            "[MoviePy] >>>> Video ready: cropped_videos/Anger/8142c361-1625-4746-8538-c6840db61cdb(a_yATeEGIVM).mp4 \n",
            "\n",
            "Video 157 downloaded\n",
            "Collected 6 images from video\n",
            "\n",
            "\n",
            "[MoviePy] >>>> Building video cropped_videos/Anger/37dd6566-bc63-459b-8848-d2506048ed14(a_yATeEGIVM).mp4\n",
            "[MoviePy] Writing audio in 37dd6566-bc63-459b-8848-d2506048ed14(a_yATeEGIVM)TEMP_MPY_wvf_snd.mp3\n"
          ]
        },
        {
          "output_type": "stream",
          "name": "stderr",
          "text": [
            "100%|██████████| 111/111 [00:00<00:00, 397.52it/s]"
          ]
        },
        {
          "output_type": "stream",
          "name": "stdout",
          "text": [
            "[MoviePy] Done.\n",
            "[MoviePy] Writing video cropped_videos/Anger/37dd6566-bc63-459b-8848-d2506048ed14(a_yATeEGIVM).mp4\n"
          ]
        },
        {
          "output_type": "stream",
          "name": "stderr",
          "text": [
            "\n",
            " 99%|█████████▉| 150/151 [00:11<00:00, 13.40it/s]\n"
          ]
        },
        {
          "output_type": "stream",
          "name": "stdout",
          "text": [
            "[MoviePy] Done.\n",
            "[MoviePy] >>>> Video ready: cropped_videos/Anger/37dd6566-bc63-459b-8848-d2506048ed14(a_yATeEGIVM).mp4 \n",
            "\n",
            "Video 158 downloaded\n",
            "Collected 6 images from video\n",
            "\n",
            "\n",
            "Download is completed successfully\n",
            "[MoviePy] >>>> Building video cropped_videos/Anger/e996ce97-ecd2-4d7e-aacb-3a5fb21ca6df(6SXBvGO-ytw).mp4\n",
            "[MoviePy] Writing audio in e996ce97-ecd2-4d7e-aacb-3a5fb21ca6df(6SXBvGO-ytw)TEMP_MPY_wvf_snd.mp3\n"
          ]
        },
        {
          "output_type": "stream",
          "name": "stderr",
          "text": [
            "100%|██████████| 111/111 [00:00<00:00, 399.65it/s]"
          ]
        },
        {
          "output_type": "stream",
          "name": "stdout",
          "text": [
            "[MoviePy] Done.\n",
            "[MoviePy] Writing video cropped_videos/Anger/e996ce97-ecd2-4d7e-aacb-3a5fb21ca6df(6SXBvGO-ytw).mp4\n"
          ]
        },
        {
          "output_type": "stream",
          "name": "stderr",
          "text": [
            "\n",
            " 99%|█████████▉| 150/151 [00:10<00:00, 14.34it/s]\n"
          ]
        },
        {
          "output_type": "stream",
          "name": "stdout",
          "text": [
            "[MoviePy] Done.\n",
            "[MoviePy] >>>> Video ready: cropped_videos/Anger/e996ce97-ecd2-4d7e-aacb-3a5fb21ca6df(6SXBvGO-ytw).mp4 \n",
            "\n",
            "Video 159 downloaded\n",
            "Collected 6 images from video\n",
            "\n",
            "\n",
            "[MoviePy] >>>> Building video cropped_videos/Anger/8d58c751-c85e-4413-9074-44e2da1fbfc4(6SXBvGO-ytw).mp4\n",
            "[MoviePy] Writing audio in 8d58c751-c85e-4413-9074-44e2da1fbfc4(6SXBvGO-ytw)TEMP_MPY_wvf_snd.mp3\n"
          ]
        },
        {
          "output_type": "stream",
          "name": "stderr",
          "text": [
            "100%|██████████| 89/89 [00:00<00:00, 417.44it/s]"
          ]
        },
        {
          "output_type": "stream",
          "name": "stdout",
          "text": [
            "[MoviePy] Done.\n",
            "[MoviePy] Writing video cropped_videos/Anger/8d58c751-c85e-4413-9074-44e2da1fbfc4(6SXBvGO-ytw).mp4\n"
          ]
        },
        {
          "output_type": "stream",
          "name": "stderr",
          "text": [
            "\n",
            " 99%|█████████▉| 120/121 [00:06<00:00, 17.29it/s]\n"
          ]
        },
        {
          "output_type": "stream",
          "name": "stdout",
          "text": [
            "[MoviePy] Done.\n",
            "[MoviePy] >>>> Video ready: cropped_videos/Anger/8d58c751-c85e-4413-9074-44e2da1fbfc4(6SXBvGO-ytw).mp4 \n",
            "\n",
            "Video 160 downloaded\n",
            "Collected 6 images from video\n",
            "\n",
            "\n",
            "[MoviePy] >>>> Building video cropped_videos/Anger/f86ce976-e018-4fca-ad68-4a1bfc9a5ef2(6SXBvGO-ytw).mp4\n",
            "[MoviePy] Writing audio in f86ce976-e018-4fca-ad68-4a1bfc9a5ef2(6SXBvGO-ytw)TEMP_MPY_wvf_snd.mp3\n"
          ]
        },
        {
          "output_type": "stream",
          "name": "stderr",
          "text": [
            "100%|██████████| 133/133 [00:00<00:00, 389.57it/s]"
          ]
        },
        {
          "output_type": "stream",
          "name": "stdout",
          "text": [
            "[MoviePy] Done.\n",
            "[MoviePy] Writing video cropped_videos/Anger/f86ce976-e018-4fca-ad68-4a1bfc9a5ef2(6SXBvGO-ytw).mp4\n"
          ]
        },
        {
          "output_type": "stream",
          "name": "stderr",
          "text": [
            "\n",
            " 99%|█████████▉| 180/181 [00:11<00:00, 15.55it/s]\n"
          ]
        },
        {
          "output_type": "stream",
          "name": "stdout",
          "text": [
            "[MoviePy] Done.\n",
            "[MoviePy] >>>> Video ready: cropped_videos/Anger/f86ce976-e018-4fca-ad68-4a1bfc9a5ef2(6SXBvGO-ytw).mp4 \n",
            "\n",
            "Video 161 downloaded\n",
            "Collected 6 images from video\n",
            "\n",
            "\n",
            "[MoviePy] >>>> Building video cropped_videos/Anger/b2ad79c2-97dc-4cc4-9028-afb65fbcd80a(6SXBvGO-ytw).mp4\n",
            "[MoviePy] Writing audio in b2ad79c2-97dc-4cc4-9028-afb65fbcd80a(6SXBvGO-ytw)TEMP_MPY_wvf_snd.mp3\n"
          ]
        },
        {
          "output_type": "stream",
          "name": "stderr",
          "text": [
            "100%|██████████| 133/133 [00:00<00:00, 430.15it/s]\n"
          ]
        },
        {
          "output_type": "stream",
          "name": "stdout",
          "text": [
            "[MoviePy] Done.\n",
            "[MoviePy] Writing video cropped_videos/Anger/b2ad79c2-97dc-4cc4-9028-afb65fbcd80a(6SXBvGO-ytw).mp4\n"
          ]
        },
        {
          "output_type": "stream",
          "name": "stderr",
          "text": [
            " 99%|█████████▉| 180/181 [00:11<00:00, 15.56it/s]\n"
          ]
        },
        {
          "output_type": "stream",
          "name": "stdout",
          "text": [
            "[MoviePy] Done.\n",
            "[MoviePy] >>>> Video ready: cropped_videos/Anger/b2ad79c2-97dc-4cc4-9028-afb65fbcd80a(6SXBvGO-ytw).mp4 \n",
            "\n",
            "Video 162 downloaded\n",
            "Collected 6 images from video\n",
            "\n",
            "\n",
            "Download is completed successfully\n",
            "[MoviePy] >>>> Building video cropped_videos/Anger/deedcb83-945b-42f9-806e-84e85882cfeb(p4TMLAkuARE).mp4\n",
            "[MoviePy] Writing audio in deedcb83-945b-42f9-806e-84e85882cfeb(p4TMLAkuARE)TEMP_MPY_wvf_snd.mp3\n"
          ]
        },
        {
          "output_type": "stream",
          "name": "stderr",
          "text": [
            "100%|██████████| 221/221 [00:00<00:00, 444.14it/s]"
          ]
        },
        {
          "output_type": "stream",
          "name": "stdout",
          "text": [
            "[MoviePy] Done.\n",
            "[MoviePy] Writing video cropped_videos/Anger/deedcb83-945b-42f9-806e-84e85882cfeb(p4TMLAkuARE).mp4\n"
          ]
        },
        {
          "output_type": "stream",
          "name": "stderr",
          "text": [
            "\n",
            "100%|█████████▉| 300/301 [00:21<00:00, 13.79it/s]\n"
          ]
        },
        {
          "output_type": "stream",
          "name": "stdout",
          "text": [
            "[MoviePy] Done.\n",
            "[MoviePy] >>>> Video ready: cropped_videos/Anger/deedcb83-945b-42f9-806e-84e85882cfeb(p4TMLAkuARE).mp4 \n",
            "\n",
            "Video 163 downloaded\n",
            "Collected 6 images from video\n",
            "\n",
            "\n",
            "Download is completed successfully\n",
            "[MoviePy] >>>> Building video cropped_videos/Anger/68d77531-0a6b-43a7-8ee5-cf38a3967db9(YGCJwbRaCiM).mp4\n",
            "[MoviePy] Writing audio in 68d77531-0a6b-43a7-8ee5-cf38a3967db9(YGCJwbRaCiM)TEMP_MPY_wvf_snd.mp3\n"
          ]
        },
        {
          "output_type": "stream",
          "name": "stderr",
          "text": [
            "100%|██████████| 155/155 [00:00<00:00, 420.69it/s]"
          ]
        },
        {
          "output_type": "stream",
          "name": "stdout",
          "text": [
            "[MoviePy] Done.\n",
            "[MoviePy] Writing video cropped_videos/Anger/68d77531-0a6b-43a7-8ee5-cf38a3967db9(YGCJwbRaCiM).mp4\n"
          ]
        },
        {
          "output_type": "stream",
          "name": "stderr",
          "text": [
            "\n",
            "100%|█████████▉| 210/211 [00:08<00:00, 23.64it/s]\n"
          ]
        },
        {
          "output_type": "stream",
          "name": "stdout",
          "text": [
            "[MoviePy] Done.\n",
            "[MoviePy] >>>> Video ready: cropped_videos/Anger/68d77531-0a6b-43a7-8ee5-cf38a3967db9(YGCJwbRaCiM).mp4 \n",
            "\n",
            "Video 164 downloaded\n",
            "Collected 6 images from video\n",
            "\n",
            "\n",
            "[MoviePy] >>>> Building video cropped_videos/Anger/e1fa6736-97fc-43d8-97cd-0efcc70ea89f(YGCJwbRaCiM).mp4\n",
            "[MoviePy] Writing audio in e1fa6736-97fc-43d8-97cd-0efcc70ea89f(YGCJwbRaCiM)TEMP_MPY_wvf_snd.mp3\n"
          ]
        },
        {
          "output_type": "stream",
          "name": "stderr",
          "text": [
            "100%|██████████| 177/177 [00:00<00:00, 440.84it/s]\n"
          ]
        },
        {
          "output_type": "stream",
          "name": "stdout",
          "text": [
            "[MoviePy] Done.\n",
            "[MoviePy] Writing video cropped_videos/Anger/e1fa6736-97fc-43d8-97cd-0efcc70ea89f(YGCJwbRaCiM).mp4\n"
          ]
        },
        {
          "output_type": "stream",
          "name": "stderr",
          "text": [
            "100%|█████████▉| 240/241 [00:06<00:00, 37.96it/s]\n"
          ]
        },
        {
          "output_type": "stream",
          "name": "stdout",
          "text": [
            "[MoviePy] Done.\n",
            "[MoviePy] >>>> Video ready: cropped_videos/Anger/e1fa6736-97fc-43d8-97cd-0efcc70ea89f(YGCJwbRaCiM).mp4 \n",
            "\n",
            "Video 165 downloaded\n",
            "Collected 6 images from video\n",
            "\n",
            "\n",
            "[MoviePy] >>>> Building video cropped_videos/Anger/fe4452b0-bbf1-41ad-9f3a-fec5db645576(YGCJwbRaCiM).mp4\n",
            "[MoviePy] Writing audio in fe4452b0-bbf1-41ad-9f3a-fec5db645576(YGCJwbRaCiM)TEMP_MPY_wvf_snd.mp3\n"
          ]
        },
        {
          "output_type": "stream",
          "name": "stderr",
          "text": [
            "100%|██████████| 155/155 [00:00<00:00, 534.28it/s]\n"
          ]
        },
        {
          "output_type": "stream",
          "name": "stdout",
          "text": [
            "[MoviePy] Done.\n",
            "[MoviePy] Writing video cropped_videos/Anger/fe4452b0-bbf1-41ad-9f3a-fec5db645576(YGCJwbRaCiM).mp4\n"
          ]
        },
        {
          "output_type": "stream",
          "name": "stderr",
          "text": [
            "100%|█████████▉| 210/211 [00:10<00:00, 20.20it/s]\n"
          ]
        },
        {
          "output_type": "stream",
          "name": "stdout",
          "text": [
            "[MoviePy] Done.\n",
            "[MoviePy] >>>> Video ready: cropped_videos/Anger/fe4452b0-bbf1-41ad-9f3a-fec5db645576(YGCJwbRaCiM).mp4 \n",
            "\n",
            "Video 166 downloaded\n",
            "Collected 6 images from video\n",
            "\n",
            "\n",
            "[MoviePy] >>>> Building video cropped_videos/Anger/a0c7a8dc-f508-4c3c-878f-05787b0651cb(YGCJwbRaCiM).mp4\n",
            "[MoviePy] Writing audio in a0c7a8dc-f508-4c3c-878f-05787b0651cb(YGCJwbRaCiM)TEMP_MPY_wvf_snd.mp3\n"
          ]
        },
        {
          "output_type": "stream",
          "name": "stderr",
          "text": [
            "100%|██████████| 155/155 [00:00<00:00, 544.37it/s]"
          ]
        },
        {
          "output_type": "stream",
          "name": "stdout",
          "text": [
            "[MoviePy] Done.\n",
            "[MoviePy] Writing video cropped_videos/Anger/a0c7a8dc-f508-4c3c-878f-05787b0651cb(YGCJwbRaCiM).mp4\n"
          ]
        },
        {
          "output_type": "stream",
          "name": "stderr",
          "text": [
            "\n",
            "100%|█████████▉| 210/211 [00:11<00:00, 18.15it/s]\n"
          ]
        },
        {
          "output_type": "stream",
          "name": "stdout",
          "text": [
            "[MoviePy] Done.\n",
            "[MoviePy] >>>> Video ready: cropped_videos/Anger/a0c7a8dc-f508-4c3c-878f-05787b0651cb(YGCJwbRaCiM).mp4 \n",
            "\n",
            "Video 167 downloaded\n",
            "Collected 6 images from video\n",
            "\n",
            "\n",
            "[MoviePy] >>>> Building video cropped_videos/Anger/46252184-68f1-4585-b8f9-6d609d20f940(YGCJwbRaCiM).mp4\n",
            "[MoviePy] Writing audio in 46252184-68f1-4585-b8f9-6d609d20f940(YGCJwbRaCiM)TEMP_MPY_wvf_snd.mp3\n"
          ]
        },
        {
          "output_type": "stream",
          "name": "stderr",
          "text": [
            "100%|██████████| 155/155 [00:00<00:00, 435.19it/s]"
          ]
        },
        {
          "output_type": "stream",
          "name": "stdout",
          "text": [
            "[MoviePy] Done.\n",
            "[MoviePy] Writing video cropped_videos/Anger/46252184-68f1-4585-b8f9-6d609d20f940(YGCJwbRaCiM).mp4\n"
          ]
        },
        {
          "output_type": "stream",
          "name": "stderr",
          "text": [
            "\n",
            "100%|█████████▉| 210/211 [00:09<00:00, 22.18it/s]\n"
          ]
        },
        {
          "output_type": "stream",
          "name": "stdout",
          "text": [
            "[MoviePy] Done.\n",
            "[MoviePy] >>>> Video ready: cropped_videos/Anger/46252184-68f1-4585-b8f9-6d609d20f940(YGCJwbRaCiM).mp4 \n",
            "\n",
            "Video 168 downloaded\n",
            "Collected 6 images from video\n",
            "\n",
            "\n",
            "[MoviePy] >>>> Building video cropped_videos/Anger/1ab6ef46-078c-4b47-b4b1-dfa55c5cfffd(YGCJwbRaCiM).mp4\n",
            "[MoviePy] Writing audio in 1ab6ef46-078c-4b47-b4b1-dfa55c5cfffd(YGCJwbRaCiM)TEMP_MPY_wvf_snd.mp3\n"
          ]
        },
        {
          "output_type": "stream",
          "name": "stderr",
          "text": [
            "100%|██████████| 177/177 [00:00<00:00, 481.99it/s]"
          ]
        },
        {
          "output_type": "stream",
          "name": "stdout",
          "text": [
            "[MoviePy] Done.\n",
            "[MoviePy] Writing video cropped_videos/Anger/1ab6ef46-078c-4b47-b4b1-dfa55c5cfffd(YGCJwbRaCiM).mp4\n"
          ]
        },
        {
          "output_type": "stream",
          "name": "stderr",
          "text": [
            "\n",
            "100%|█████████▉| 240/241 [00:12<00:00, 18.99it/s]\n"
          ]
        },
        {
          "output_type": "stream",
          "name": "stdout",
          "text": [
            "[MoviePy] Done.\n",
            "[MoviePy] >>>> Video ready: cropped_videos/Anger/1ab6ef46-078c-4b47-b4b1-dfa55c5cfffd(YGCJwbRaCiM).mp4 \n",
            "\n",
            "Video 169 downloaded\n",
            "Collected 6 images from video\n",
            "\n",
            "\n",
            "[MoviePy] >>>> Building video cropped_videos/Anger/5874d2f5-833a-4f97-8e3f-8146bd591548(YGCJwbRaCiM).mp4\n",
            "[MoviePy] Writing audio in 5874d2f5-833a-4f97-8e3f-8146bd591548(YGCJwbRaCiM)TEMP_MPY_wvf_snd.mp3\n"
          ]
        },
        {
          "output_type": "stream",
          "name": "stderr",
          "text": [
            "100%|██████████| 221/221 [00:00<00:00, 577.21it/s]"
          ]
        },
        {
          "output_type": "stream",
          "name": "stdout",
          "text": [
            "[MoviePy] Done.\n",
            "[MoviePy] Writing video cropped_videos/Anger/5874d2f5-833a-4f97-8e3f-8146bd591548(YGCJwbRaCiM).mp4\n"
          ]
        },
        {
          "output_type": "stream",
          "name": "stderr",
          "text": [
            "\n",
            "100%|█████████▉| 300/301 [00:09<00:00, 32.05it/s]\n"
          ]
        },
        {
          "output_type": "stream",
          "name": "stdout",
          "text": [
            "[MoviePy] Done.\n",
            "[MoviePy] >>>> Video ready: cropped_videos/Anger/5874d2f5-833a-4f97-8e3f-8146bd591548(YGCJwbRaCiM).mp4 \n",
            "\n",
            "Video 170 downloaded\n",
            "Collected 6 images from video\n",
            "\n",
            "\n",
            "[MoviePy] >>>> Building video cropped_videos/Anger/7b079ce7-deb6-4a86-be2d-77eaa5df227d(YGCJwbRaCiM).mp4\n",
            "[MoviePy] Writing audio in 7b079ce7-deb6-4a86-be2d-77eaa5df227d(YGCJwbRaCiM)TEMP_MPY_wvf_snd.mp3\n"
          ]
        },
        {
          "output_type": "stream",
          "name": "stderr",
          "text": [
            "100%|██████████| 199/199 [00:00<00:00, 439.81it/s]"
          ]
        },
        {
          "output_type": "stream",
          "name": "stdout",
          "text": [
            "[MoviePy] Done.\n",
            "[MoviePy] Writing video cropped_videos/Anger/7b079ce7-deb6-4a86-be2d-77eaa5df227d(YGCJwbRaCiM).mp4\n"
          ]
        },
        {
          "output_type": "stream",
          "name": "stderr",
          "text": [
            "\n",
            "100%|█████████▉| 270/271 [00:15<00:00, 17.11it/s]\n"
          ]
        },
        {
          "output_type": "stream",
          "name": "stdout",
          "text": [
            "[MoviePy] Done.\n",
            "[MoviePy] >>>> Video ready: cropped_videos/Anger/7b079ce7-deb6-4a86-be2d-77eaa5df227d(YGCJwbRaCiM).mp4 \n",
            "\n",
            "Video 171 downloaded\n",
            "Collected 6 images from video\n",
            "\n",
            "\n",
            "[MoviePy] >>>> Building video cropped_videos/Anger/7418ffdf-6c16-4ad4-82cd-0d4edf5ed435(YGCJwbRaCiM).mp4\n",
            "[MoviePy] Writing audio in 7418ffdf-6c16-4ad4-82cd-0d4edf5ed435(YGCJwbRaCiM)TEMP_MPY_wvf_snd.mp3\n"
          ]
        },
        {
          "output_type": "stream",
          "name": "stderr",
          "text": [
            "100%|██████████| 133/133 [00:00<00:00, 512.39it/s]"
          ]
        },
        {
          "output_type": "stream",
          "name": "stdout",
          "text": [
            "[MoviePy] Done.\n",
            "[MoviePy] Writing video cropped_videos/Anger/7418ffdf-6c16-4ad4-82cd-0d4edf5ed435(YGCJwbRaCiM).mp4\n"
          ]
        },
        {
          "output_type": "stream",
          "name": "stderr",
          "text": [
            "\n",
            " 99%|█████████▉| 180/181 [00:08<00:00, 20.56it/s]\n"
          ]
        },
        {
          "output_type": "stream",
          "name": "stdout",
          "text": [
            "[MoviePy] Done.\n",
            "[MoviePy] >>>> Video ready: cropped_videos/Anger/7418ffdf-6c16-4ad4-82cd-0d4edf5ed435(YGCJwbRaCiM).mp4 \n",
            "\n",
            "Video 172 downloaded\n",
            "Collected 6 images from video\n",
            "\n",
            "\n",
            "[MoviePy] >>>> Building video cropped_videos/Anger/5ace12fa-2b38-4cfa-b5e4-2ec12f519a62(YGCJwbRaCiM).mp4\n",
            "[MoviePy] Writing audio in 5ace12fa-2b38-4cfa-b5e4-2ec12f519a62(YGCJwbRaCiM)TEMP_MPY_wvf_snd.mp3\n"
          ]
        },
        {
          "output_type": "stream",
          "name": "stderr",
          "text": [
            "100%|██████████| 177/177 [00:00<00:00, 300.57it/s]\n"
          ]
        },
        {
          "output_type": "stream",
          "name": "stdout",
          "text": [
            "[MoviePy] Done.\n",
            "[MoviePy] Writing video cropped_videos/Anger/5ace12fa-2b38-4cfa-b5e4-2ec12f519a62(YGCJwbRaCiM).mp4\n"
          ]
        },
        {
          "output_type": "stream",
          "name": "stderr",
          "text": [
            "100%|█████████▉| 240/241 [00:17<00:00, 13.94it/s]\n"
          ]
        },
        {
          "output_type": "stream",
          "name": "stdout",
          "text": [
            "[MoviePy] Done.\n",
            "[MoviePy] >>>> Video ready: cropped_videos/Anger/5ace12fa-2b38-4cfa-b5e4-2ec12f519a62(YGCJwbRaCiM).mp4 \n",
            "\n",
            "Video 173 downloaded\n",
            "Collected 6 images from video\n",
            "\n",
            "\n",
            "[MoviePy] >>>> Building video cropped_videos/Anger/b29cbdc6-c5e5-4aba-9b5c-ea08f8a2a300(YGCJwbRaCiM).mp4\n",
            "[MoviePy] Writing audio in b29cbdc6-c5e5-4aba-9b5c-ea08f8a2a300(YGCJwbRaCiM)TEMP_MPY_wvf_snd.mp3\n"
          ]
        },
        {
          "output_type": "stream",
          "name": "stderr",
          "text": [
            "100%|██████████| 133/133 [00:00<00:00, 530.19it/s]"
          ]
        },
        {
          "output_type": "stream",
          "name": "stdout",
          "text": [
            "[MoviePy] Done.\n",
            "[MoviePy] Writing video cropped_videos/Anger/b29cbdc6-c5e5-4aba-9b5c-ea08f8a2a300(YGCJwbRaCiM).mp4\n"
          ]
        },
        {
          "output_type": "stream",
          "name": "stderr",
          "text": [
            "\n",
            " 99%|█████████▉| 180/181 [00:05<00:00, 32.53it/s]\n"
          ]
        },
        {
          "output_type": "stream",
          "name": "stdout",
          "text": [
            "[MoviePy] Done.\n",
            "[MoviePy] >>>> Video ready: cropped_videos/Anger/b29cbdc6-c5e5-4aba-9b5c-ea08f8a2a300(YGCJwbRaCiM).mp4 \n",
            "\n",
            "Video 174 downloaded\n",
            "Collected 6 images from video\n",
            "\n",
            "\n",
            "Download is completed successfully\n",
            "[MoviePy] >>>> Building video cropped_videos/Anger/58d18843-29d7-49f9-afd9-2b69673d5315(SNOcsxeyEIk).mp4\n",
            "[MoviePy] Writing audio in 58d18843-29d7-49f9-afd9-2b69673d5315(SNOcsxeyEIk)TEMP_MPY_wvf_snd.mp3\n"
          ]
        },
        {
          "output_type": "stream",
          "name": "stderr",
          "text": [
            "100%|██████████| 177/177 [00:00<00:00, 443.18it/s]"
          ]
        },
        {
          "output_type": "stream",
          "name": "stdout",
          "text": [
            "[MoviePy] Done.\n",
            "[MoviePy] Writing video cropped_videos/Anger/58d18843-29d7-49f9-afd9-2b69673d5315(SNOcsxeyEIk).mp4\n"
          ]
        },
        {
          "output_type": "stream",
          "name": "stderr",
          "text": [
            "\n",
            "100%|█████████▉| 240/241 [00:08<00:00, 27.29it/s]\n"
          ]
        },
        {
          "output_type": "stream",
          "name": "stdout",
          "text": [
            "[MoviePy] Done.\n",
            "[MoviePy] >>>> Video ready: cropped_videos/Anger/58d18843-29d7-49f9-afd9-2b69673d5315(SNOcsxeyEIk).mp4 \n",
            "\n",
            "Video 175 downloaded\n",
            "Collected 6 images from video\n",
            "\n",
            "\n",
            "[MoviePy] >>>> Building video cropped_videos/Anger/58f50ee0-1151-4c25-bf24-63c0cf77097a(SNOcsxeyEIk).mp4\n",
            "[MoviePy] Writing audio in 58f50ee0-1151-4c25-bf24-63c0cf77097a(SNOcsxeyEIk)TEMP_MPY_wvf_snd.mp3\n"
          ]
        },
        {
          "output_type": "stream",
          "name": "stderr",
          "text": [
            "100%|██████████| 133/133 [00:00<00:00, 463.53it/s]\n"
          ]
        },
        {
          "output_type": "stream",
          "name": "stdout",
          "text": [
            "[MoviePy] Done.\n",
            "[MoviePy] Writing video cropped_videos/Anger/58f50ee0-1151-4c25-bf24-63c0cf77097a(SNOcsxeyEIk).mp4\n"
          ]
        },
        {
          "output_type": "stream",
          "name": "stderr",
          "text": [
            " 99%|█████████▉| 180/181 [00:10<00:00, 16.67it/s]\n"
          ]
        },
        {
          "output_type": "stream",
          "name": "stdout",
          "text": [
            "[MoviePy] Done.\n",
            "[MoviePy] >>>> Video ready: cropped_videos/Anger/58f50ee0-1151-4c25-bf24-63c0cf77097a(SNOcsxeyEIk).mp4 \n",
            "\n",
            "Video 176 downloaded\n",
            "Collected 6 images from video\n",
            "\n",
            "\n",
            "[MoviePy] >>>> Building video cropped_videos/Anger/e60b9c9c-0132-4ed8-93b2-83319401df87(SNOcsxeyEIk).mp4\n",
            "[MoviePy] Writing audio in e60b9c9c-0132-4ed8-93b2-83319401df87(SNOcsxeyEIk)TEMP_MPY_wvf_snd.mp3\n"
          ]
        },
        {
          "output_type": "stream",
          "name": "stderr",
          "text": [
            "100%|██████████| 221/221 [00:00<00:00, 455.38it/s]"
          ]
        },
        {
          "output_type": "stream",
          "name": "stdout",
          "text": [
            "[MoviePy] Done.\n"
          ]
        },
        {
          "output_type": "stream",
          "name": "stderr",
          "text": [
            "\n"
          ]
        },
        {
          "output_type": "stream",
          "name": "stdout",
          "text": [
            "[MoviePy] Writing video cropped_videos/Anger/e60b9c9c-0132-4ed8-93b2-83319401df87(SNOcsxeyEIk).mp4\n"
          ]
        },
        {
          "output_type": "stream",
          "name": "stderr",
          "text": [
            "100%|█████████▉| 300/301 [00:17<00:00, 17.48it/s]\n"
          ]
        },
        {
          "output_type": "stream",
          "name": "stdout",
          "text": [
            "[MoviePy] Done.\n",
            "[MoviePy] >>>> Video ready: cropped_videos/Anger/e60b9c9c-0132-4ed8-93b2-83319401df87(SNOcsxeyEIk).mp4 \n",
            "\n",
            "Video 177 downloaded\n",
            "Collected 6 images from video\n",
            "\n",
            "\n",
            "[MoviePy] >>>> Building video cropped_videos/Anger/410b1d14-f01f-4ed1-9ae0-b5062369629a(SNOcsxeyEIk).mp4\n",
            "[MoviePy] Writing audio in 410b1d14-f01f-4ed1-9ae0-b5062369629a(SNOcsxeyEIk)TEMP_MPY_wvf_snd.mp3\n"
          ]
        },
        {
          "output_type": "stream",
          "name": "stderr",
          "text": [
            "100%|██████████| 155/155 [00:00<00:00, 424.21it/s]"
          ]
        },
        {
          "output_type": "stream",
          "name": "stdout",
          "text": [
            "[MoviePy] Done.\n",
            "[MoviePy] Writing video cropped_videos/Anger/410b1d14-f01f-4ed1-9ae0-b5062369629a(SNOcsxeyEIk).mp4\n"
          ]
        },
        {
          "output_type": "stream",
          "name": "stderr",
          "text": [
            "\n",
            "100%|█████████▉| 210/211 [00:07<00:00, 28.41it/s]\n"
          ]
        },
        {
          "output_type": "stream",
          "name": "stdout",
          "text": [
            "[MoviePy] Done.\n",
            "[MoviePy] >>>> Video ready: cropped_videos/Anger/410b1d14-f01f-4ed1-9ae0-b5062369629a(SNOcsxeyEIk).mp4 \n",
            "\n",
            "Video 178 downloaded\n",
            "Collected 6 images from video\n",
            "\n",
            "\n",
            "[MoviePy] >>>> Building video cropped_videos/Anger/9b2d4eef-f5ce-4432-9ba4-a38e1a18ac7c(SNOcsxeyEIk).mp4\n",
            "[MoviePy] Writing audio in 9b2d4eef-f5ce-4432-9ba4-a38e1a18ac7c(SNOcsxeyEIk)TEMP_MPY_wvf_snd.mp3\n"
          ]
        },
        {
          "output_type": "stream",
          "name": "stderr",
          "text": [
            "100%|██████████| 221/221 [00:00<00:00, 422.28it/s]"
          ]
        },
        {
          "output_type": "stream",
          "name": "stdout",
          "text": [
            "[MoviePy] Done.\n",
            "[MoviePy] Writing video cropped_videos/Anger/9b2d4eef-f5ce-4432-9ba4-a38e1a18ac7c(SNOcsxeyEIk).mp4\n"
          ]
        },
        {
          "output_type": "stream",
          "name": "stderr",
          "text": [
            "\n",
            "100%|█████████▉| 300/301 [00:18<00:00, 16.48it/s]\n"
          ]
        },
        {
          "output_type": "stream",
          "name": "stdout",
          "text": [
            "[MoviePy] Done.\n",
            "[MoviePy] >>>> Video ready: cropped_videos/Anger/9b2d4eef-f5ce-4432-9ba4-a38e1a18ac7c(SNOcsxeyEIk).mp4 \n",
            "\n",
            "Video 179 downloaded\n",
            "Collected 6 images from video\n",
            "\n",
            "\n",
            "[MoviePy] >>>> Building video cropped_videos/Anger/2752528e-4727-4c01-b39e-dbe1792526c2(SNOcsxeyEIk).mp4\n",
            "[MoviePy] Writing audio in 2752528e-4727-4c01-b39e-dbe1792526c2(SNOcsxeyEIk)TEMP_MPY_wvf_snd.mp3\n"
          ]
        },
        {
          "output_type": "stream",
          "name": "stderr",
          "text": [
            "100%|██████████| 221/221 [00:00<00:00, 489.82it/s]"
          ]
        },
        {
          "output_type": "stream",
          "name": "stdout",
          "text": [
            "[MoviePy] Done.\n",
            "[MoviePy] Writing video cropped_videos/Anger/2752528e-4727-4c01-b39e-dbe1792526c2(SNOcsxeyEIk).mp4\n"
          ]
        },
        {
          "output_type": "stream",
          "name": "stderr",
          "text": [
            "\n",
            "100%|█████████▉| 300/301 [00:11<00:00, 27.18it/s]\n"
          ]
        },
        {
          "output_type": "stream",
          "name": "stdout",
          "text": [
            "[MoviePy] Done.\n",
            "[MoviePy] >>>> Video ready: cropped_videos/Anger/2752528e-4727-4c01-b39e-dbe1792526c2(SNOcsxeyEIk).mp4 \n",
            "\n",
            "Video 180 downloaded\n",
            "Collected 6 images from video\n",
            "\n",
            "\n",
            "[MoviePy] >>>> Building video cropped_videos/Anger/b0d77291-1cfd-4f10-8dcd-d2521da1661a(SNOcsxeyEIk).mp4\n",
            "[MoviePy] Writing audio in b0d77291-1cfd-4f10-8dcd-d2521da1661a(SNOcsxeyEIk)TEMP_MPY_wvf_snd.mp3\n"
          ]
        },
        {
          "output_type": "stream",
          "name": "stderr",
          "text": [
            "100%|██████████| 155/155 [00:00<00:00, 537.22it/s]\n"
          ]
        },
        {
          "output_type": "stream",
          "name": "stdout",
          "text": [
            "[MoviePy] Done.\n",
            "[MoviePy] Writing video cropped_videos/Anger/b0d77291-1cfd-4f10-8dcd-d2521da1661a(SNOcsxeyEIk).mp4\n"
          ]
        },
        {
          "output_type": "stream",
          "name": "stderr",
          "text": [
            "100%|█████████▉| 210/211 [00:15<00:00, 13.69it/s]\n"
          ]
        },
        {
          "output_type": "stream",
          "name": "stdout",
          "text": [
            "[MoviePy] Done.\n",
            "[MoviePy] >>>> Video ready: cropped_videos/Anger/b0d77291-1cfd-4f10-8dcd-d2521da1661a(SNOcsxeyEIk).mp4 \n",
            "\n",
            "Video 181 downloaded\n",
            "Collected 6 images from video\n",
            "\n",
            "\n",
            "[MoviePy] >>>> Building video cropped_videos/Anger/23c77c58-a886-46f4-ba7c-b5773ecc21ec(SNOcsxeyEIk).mp4\n",
            "[MoviePy] Writing audio in 23c77c58-a886-46f4-ba7c-b5773ecc21ec(SNOcsxeyEIk)TEMP_MPY_wvf_snd.mp3\n"
          ]
        },
        {
          "output_type": "stream",
          "name": "stderr",
          "text": [
            "100%|██████████| 111/111 [00:00<00:00, 413.30it/s]"
          ]
        },
        {
          "output_type": "stream",
          "name": "stdout",
          "text": [
            "[MoviePy] Done.\n",
            "[MoviePy] Writing video cropped_videos/Anger/23c77c58-a886-46f4-ba7c-b5773ecc21ec(SNOcsxeyEIk).mp4\n"
          ]
        },
        {
          "output_type": "stream",
          "name": "stderr",
          "text": [
            "\n",
            " 99%|█████████▉| 150/151 [00:05<00:00, 28.05it/s]\n"
          ]
        },
        {
          "output_type": "stream",
          "name": "stdout",
          "text": [
            "[MoviePy] Done.\n",
            "[MoviePy] >>>> Video ready: cropped_videos/Anger/23c77c58-a886-46f4-ba7c-b5773ecc21ec(SNOcsxeyEIk).mp4 \n",
            "\n",
            "Video 182 downloaded\n",
            "Collected 6 images from video\n",
            "\n",
            "\n",
            "[MoviePy] >>>> Building video cropped_videos/Anger/fa2d862a-c312-4603-84b6-54dafd1eda30(SNOcsxeyEIk).mp4\n",
            "[MoviePy] Writing audio in fa2d862a-c312-4603-84b6-54dafd1eda30(SNOcsxeyEIk)TEMP_MPY_wvf_snd.mp3\n"
          ]
        },
        {
          "output_type": "stream",
          "name": "stderr",
          "text": [
            "100%|██████████| 221/221 [00:00<00:00, 488.57it/s]"
          ]
        },
        {
          "output_type": "stream",
          "name": "stdout",
          "text": [
            "[MoviePy] Done.\n",
            "[MoviePy] Writing video cropped_videos/Anger/fa2d862a-c312-4603-84b6-54dafd1eda30(SNOcsxeyEIk).mp4\n"
          ]
        },
        {
          "output_type": "stream",
          "name": "stderr",
          "text": [
            "\n",
            "100%|█████████▉| 300/301 [00:08<00:00, 35.25it/s]\n"
          ]
        },
        {
          "output_type": "stream",
          "name": "stdout",
          "text": [
            "[MoviePy] Done.\n",
            "[MoviePy] >>>> Video ready: cropped_videos/Anger/fa2d862a-c312-4603-84b6-54dafd1eda30(SNOcsxeyEIk).mp4 \n",
            "\n",
            "Video 183 downloaded\n",
            "Collected 6 images from video\n",
            "\n",
            "\n",
            "[MoviePy] >>>> Building video cropped_videos/Anger/ef7e14d1-7bcc-4e5b-b231-713182cfbe96(SNOcsxeyEIk).mp4\n",
            "[MoviePy] Writing audio in ef7e14d1-7bcc-4e5b-b231-713182cfbe96(SNOcsxeyEIk)TEMP_MPY_wvf_snd.mp3\n"
          ]
        },
        {
          "output_type": "stream",
          "name": "stderr",
          "text": [
            "100%|██████████| 221/221 [00:00<00:00, 460.58it/s]"
          ]
        },
        {
          "output_type": "stream",
          "name": "stdout",
          "text": [
            "[MoviePy] Done.\n",
            "[MoviePy] Writing video cropped_videos/Anger/ef7e14d1-7bcc-4e5b-b231-713182cfbe96(SNOcsxeyEIk).mp4\n"
          ]
        },
        {
          "output_type": "stream",
          "name": "stderr",
          "text": [
            "\n",
            "100%|█████████▉| 300/301 [00:17<00:00, 16.79it/s]\n"
          ]
        },
        {
          "output_type": "stream",
          "name": "stdout",
          "text": [
            "[MoviePy] Done.\n",
            "[MoviePy] >>>> Video ready: cropped_videos/Anger/ef7e14d1-7bcc-4e5b-b231-713182cfbe96(SNOcsxeyEIk).mp4 \n",
            "\n",
            "Video 184 downloaded\n",
            "Collected 6 images from video\n",
            "\n",
            "\n",
            "[MoviePy] >>>> Building video cropped_videos/Anger/a834f9ac-39b6-4ae9-8b96-e8616791246e(SNOcsxeyEIk).mp4\n",
            "[MoviePy] Writing audio in a834f9ac-39b6-4ae9-8b96-e8616791246e(SNOcsxeyEIk)TEMP_MPY_wvf_snd.mp3\n"
          ]
        },
        {
          "output_type": "stream",
          "name": "stderr",
          "text": [
            "100%|██████████| 155/155 [00:00<00:00, 521.34it/s]\n"
          ]
        },
        {
          "output_type": "stream",
          "name": "stdout",
          "text": [
            "[MoviePy] Done.\n",
            "[MoviePy] Writing video cropped_videos/Anger/a834f9ac-39b6-4ae9-8b96-e8616791246e(SNOcsxeyEIk).mp4\n"
          ]
        },
        {
          "output_type": "stream",
          "name": "stderr",
          "text": [
            "100%|█████████▉| 210/211 [00:05<00:00, 39.99it/s]\n"
          ]
        },
        {
          "output_type": "stream",
          "name": "stdout",
          "text": [
            "[MoviePy] Done.\n",
            "[MoviePy] >>>> Video ready: cropped_videos/Anger/a834f9ac-39b6-4ae9-8b96-e8616791246e(SNOcsxeyEIk).mp4 \n",
            "\n",
            "Video 185 downloaded\n",
            "Collected 6 images from video\n",
            "\n",
            "\n",
            "[MoviePy] >>>> Building video cropped_videos/Anger/14c00e09-25af-477c-8b0e-c43345d4b99d(SNOcsxeyEIk).mp4\n",
            "[MoviePy] Writing audio in 14c00e09-25af-477c-8b0e-c43345d4b99d(SNOcsxeyEIk)TEMP_MPY_wvf_snd.mp3\n"
          ]
        },
        {
          "output_type": "stream",
          "name": "stderr",
          "text": [
            "100%|██████████| 177/177 [00:00<00:00, 438.21it/s]\n"
          ]
        },
        {
          "output_type": "stream",
          "name": "stdout",
          "text": [
            "[MoviePy] Done.\n",
            "[MoviePy] Writing video cropped_videos/Anger/14c00e09-25af-477c-8b0e-c43345d4b99d(SNOcsxeyEIk).mp4\n"
          ]
        },
        {
          "output_type": "stream",
          "name": "stderr",
          "text": [
            "100%|█████████▉| 240/241 [00:09<00:00, 25.04it/s]\n"
          ]
        },
        {
          "output_type": "stream",
          "name": "stdout",
          "text": [
            "[MoviePy] Done.\n",
            "[MoviePy] >>>> Video ready: cropped_videos/Anger/14c00e09-25af-477c-8b0e-c43345d4b99d(SNOcsxeyEIk).mp4 \n",
            "\n",
            "Video 186 downloaded\n",
            "Collected 6 images from video\n",
            "\n",
            "\n",
            "[MoviePy] >>>> Building video cropped_videos/Anger/27f93e13-7600-485e-80b6-83b4213185a0(SNOcsxeyEIk).mp4\n",
            "[MoviePy] Writing audio in 27f93e13-7600-485e-80b6-83b4213185a0(SNOcsxeyEIk)TEMP_MPY_wvf_snd.mp3\n"
          ]
        },
        {
          "output_type": "stream",
          "name": "stderr",
          "text": [
            "100%|██████████| 155/155 [00:00<00:00, 466.02it/s]"
          ]
        },
        {
          "output_type": "stream",
          "name": "stdout",
          "text": [
            "[MoviePy] Done.\n",
            "[MoviePy] Writing video cropped_videos/Anger/27f93e13-7600-485e-80b6-83b4213185a0(SNOcsxeyEIk).mp4\n"
          ]
        },
        {
          "output_type": "stream",
          "name": "stderr",
          "text": [
            "\n",
            "100%|█████████▉| 210/211 [00:14<00:00, 14.46it/s]\n"
          ]
        },
        {
          "output_type": "stream",
          "name": "stdout",
          "text": [
            "[MoviePy] Done.\n",
            "[MoviePy] >>>> Video ready: cropped_videos/Anger/27f93e13-7600-485e-80b6-83b4213185a0(SNOcsxeyEIk).mp4 \n",
            "\n",
            "Video 187 downloaded\n",
            "Collected 6 images from video\n",
            "\n",
            "\n",
            "Download is completed successfully\n",
            "[MoviePy] >>>> Building video cropped_videos/Anger/ef73f6c3-b7ab-405a-b65f-070671893b3a(RQN7DbEv_iA).mp4\n",
            "[MoviePy] Writing audio in ef73f6c3-b7ab-405a-b65f-070671893b3a(RQN7DbEv_iA)TEMP_MPY_wvf_snd.mp3\n"
          ]
        },
        {
          "output_type": "stream",
          "name": "stderr",
          "text": [
            "100%|██████████| 111/111 [00:00<00:00, 321.72it/s]"
          ]
        },
        {
          "output_type": "stream",
          "name": "stdout",
          "text": [
            "[MoviePy] Done.\n",
            "[MoviePy] Writing video cropped_videos/Anger/ef73f6c3-b7ab-405a-b65f-070671893b3a(RQN7DbEv_iA).mp4\n"
          ]
        },
        {
          "output_type": "stream",
          "name": "stderr",
          "text": [
            "\n",
            " 99%|█████████▉| 150/151 [00:09<00:00, 15.87it/s]\n"
          ]
        },
        {
          "output_type": "stream",
          "name": "stdout",
          "text": [
            "[MoviePy] Done.\n",
            "[MoviePy] >>>> Video ready: cropped_videos/Anger/ef73f6c3-b7ab-405a-b65f-070671893b3a(RQN7DbEv_iA).mp4 \n",
            "\n",
            "Video 188 downloaded\n",
            "Collected 6 images from video\n",
            "\n",
            "\n",
            "[MoviePy] >>>> Building video cropped_videos/Anger/bb6ba55e-6836-4c4c-9aa5-3a29b77d6474(RQN7DbEv_iA).mp4\n",
            "[MoviePy] Writing audio in bb6ba55e-6836-4c4c-9aa5-3a29b77d6474(RQN7DbEv_iA)TEMP_MPY_wvf_snd.mp3\n"
          ]
        },
        {
          "output_type": "stream",
          "name": "stderr",
          "text": [
            "100%|██████████| 177/177 [00:00<00:00, 455.45it/s]"
          ]
        },
        {
          "output_type": "stream",
          "name": "stdout",
          "text": [
            "[MoviePy] Done.\n",
            "[MoviePy] Writing video cropped_videos/Anger/bb6ba55e-6836-4c4c-9aa5-3a29b77d6474(RQN7DbEv_iA).mp4\n"
          ]
        },
        {
          "output_type": "stream",
          "name": "stderr",
          "text": [
            "\n",
            "100%|█████████▉| 240/241 [00:11<00:00, 21.42it/s]\n"
          ]
        },
        {
          "output_type": "stream",
          "name": "stdout",
          "text": [
            "[MoviePy] Done.\n",
            "[MoviePy] >>>> Video ready: cropped_videos/Anger/bb6ba55e-6836-4c4c-9aa5-3a29b77d6474(RQN7DbEv_iA).mp4 \n",
            "\n",
            "Video 189 downloaded\n",
            "Collected 6 images from video\n",
            "\n",
            "\n",
            "[MoviePy] >>>> Building video cropped_videos/Anger/65eec2e0-7eda-41d5-aab3-d07ed29313c2(RQN7DbEv_iA).mp4\n",
            "[MoviePy] Writing audio in 65eec2e0-7eda-41d5-aab3-d07ed29313c2(RQN7DbEv_iA)TEMP_MPY_wvf_snd.mp3\n"
          ]
        },
        {
          "output_type": "stream",
          "name": "stderr",
          "text": [
            "100%|██████████| 155/155 [00:00<00:00, 396.30it/s]"
          ]
        },
        {
          "output_type": "stream",
          "name": "stdout",
          "text": [
            "[MoviePy] Done.\n",
            "[MoviePy] Writing video cropped_videos/Anger/65eec2e0-7eda-41d5-aab3-d07ed29313c2(RQN7DbEv_iA).mp4\n"
          ]
        },
        {
          "output_type": "stream",
          "name": "stderr",
          "text": [
            "\n",
            "100%|█████████▉| 210/211 [00:13<00:00, 15.07it/s]\n"
          ]
        },
        {
          "output_type": "stream",
          "name": "stdout",
          "text": [
            "[MoviePy] Done.\n",
            "[MoviePy] >>>> Video ready: cropped_videos/Anger/65eec2e0-7eda-41d5-aab3-d07ed29313c2(RQN7DbEv_iA).mp4 \n",
            "\n",
            "Video 190 downloaded\n",
            "Collected 6 images from video\n",
            "\n",
            "\n",
            "[MoviePy] >>>> Building video cropped_videos/Anger/87f8bd62-f80c-4c0a-8498-f260a8d86228(RQN7DbEv_iA).mp4\n",
            "[MoviePy] Writing audio in 87f8bd62-f80c-4c0a-8498-f260a8d86228(RQN7DbEv_iA)TEMP_MPY_wvf_snd.mp3\n"
          ]
        },
        {
          "output_type": "stream",
          "name": "stderr",
          "text": [
            "100%|██████████| 133/133 [00:00<00:00, 374.93it/s]"
          ]
        },
        {
          "output_type": "stream",
          "name": "stdout",
          "text": [
            "[MoviePy] Done.\n",
            "[MoviePy] Writing video cropped_videos/Anger/87f8bd62-f80c-4c0a-8498-f260a8d86228(RQN7DbEv_iA).mp4\n"
          ]
        },
        {
          "output_type": "stream",
          "name": "stderr",
          "text": [
            "\n",
            " 99%|█████████▉| 180/181 [00:12<00:00, 14.90it/s]\n"
          ]
        },
        {
          "output_type": "stream",
          "name": "stdout",
          "text": [
            "[MoviePy] Done.\n",
            "[MoviePy] >>>> Video ready: cropped_videos/Anger/87f8bd62-f80c-4c0a-8498-f260a8d86228(RQN7DbEv_iA).mp4 \n",
            "\n",
            "Video 191 downloaded\n",
            "Collected 6 images from video\n",
            "\n",
            "\n",
            "[MoviePy] >>>> Building video cropped_videos/Anger/dd8673cf-3114-496e-ae50-5886b3c155d6(RQN7DbEv_iA).mp4\n",
            "[MoviePy] Writing audio in dd8673cf-3114-496e-ae50-5886b3c155d6(RQN7DbEv_iA)TEMP_MPY_wvf_snd.mp3\n"
          ]
        },
        {
          "output_type": "stream",
          "name": "stderr",
          "text": [
            "100%|██████████| 111/111 [00:00<00:00, 372.06it/s]"
          ]
        },
        {
          "output_type": "stream",
          "name": "stdout",
          "text": [
            "[MoviePy] Done.\n",
            "[MoviePy] Writing video cropped_videos/Anger/dd8673cf-3114-496e-ae50-5886b3c155d6(RQN7DbEv_iA).mp4\n"
          ]
        },
        {
          "output_type": "stream",
          "name": "stderr",
          "text": [
            "\n",
            " 99%|█████████▉| 150/151 [00:11<00:00, 13.13it/s]\n"
          ]
        },
        {
          "output_type": "stream",
          "name": "stdout",
          "text": [
            "[MoviePy] Done.\n",
            "[MoviePy] >>>> Video ready: cropped_videos/Anger/dd8673cf-3114-496e-ae50-5886b3c155d6(RQN7DbEv_iA).mp4 \n",
            "\n",
            "Video 192 downloaded\n",
            "Collected 6 images from video\n",
            "\n",
            "\n",
            "[MoviePy] >>>> Building video cropped_videos/Anger/5e161f34-d76d-476b-82f8-0b3b0d240b77(RQN7DbEv_iA).mp4\n",
            "[MoviePy] Writing audio in 5e161f34-d76d-476b-82f8-0b3b0d240b77(RQN7DbEv_iA)TEMP_MPY_wvf_snd.mp3\n"
          ]
        },
        {
          "output_type": "stream",
          "name": "stderr",
          "text": [
            "100%|██████████| 111/111 [00:00<00:00, 368.70it/s]"
          ]
        },
        {
          "output_type": "stream",
          "name": "stdout",
          "text": [
            "[MoviePy] Done.\n",
            "[MoviePy] Writing video cropped_videos/Anger/5e161f34-d76d-476b-82f8-0b3b0d240b77(RQN7DbEv_iA).mp4\n"
          ]
        },
        {
          "output_type": "stream",
          "name": "stderr",
          "text": [
            "\n",
            " 99%|█████████▉| 150/151 [00:03<00:00, 37.68it/s]\n"
          ]
        },
        {
          "output_type": "stream",
          "name": "stdout",
          "text": [
            "[MoviePy] Done.\n",
            "[MoviePy] >>>> Video ready: cropped_videos/Anger/5e161f34-d76d-476b-82f8-0b3b0d240b77(RQN7DbEv_iA).mp4 \n",
            "\n",
            "Video 193 downloaded\n",
            "Collected 6 images from video\n",
            "\n",
            "\n",
            "[MoviePy] >>>> Building video cropped_videos/Anger/4c6924e8-577d-48d6-8b47-b7a0e3545002(RQN7DbEv_iA).mp4\n",
            "[MoviePy] Writing audio in 4c6924e8-577d-48d6-8b47-b7a0e3545002(RQN7DbEv_iA)TEMP_MPY_wvf_snd.mp3\n",
            "!!!  Unable to process video no 194  !!!\n",
            "Copying information of the data to failed_data.csv\n",
            "\n",
            "\n",
            "[MoviePy] >>>> Building video cropped_videos/Anger/b43b5616-fb54-4e27-8f16-d34e4d19099e(zLt_c44tFaI).mp4\n",
            "[MoviePy] Writing audio in b43b5616-fb54-4e27-8f16-d34e4d19099e(zLt_c44tFaI)TEMP_MPY_wvf_snd.mp3\n"
          ]
        },
        {
          "output_type": "stream",
          "name": "stderr",
          "text": [
            "100%|██████████| 111/111 [00:00<00:00, 381.67it/s]"
          ]
        },
        {
          "output_type": "stream",
          "name": "stdout",
          "text": [
            "[MoviePy] Done.\n",
            "[MoviePy] Writing video cropped_videos/Anger/b43b5616-fb54-4e27-8f16-d34e4d19099e(zLt_c44tFaI).mp4\n"
          ]
        },
        {
          "output_type": "stream",
          "name": "stderr",
          "text": [
            "\n",
            " 99%|█████████▉| 150/151 [00:10<00:00, 14.47it/s]\n"
          ]
        },
        {
          "output_type": "stream",
          "name": "stdout",
          "text": [
            "[MoviePy] Done.\n",
            "[MoviePy] >>>> Video ready: cropped_videos/Anger/b43b5616-fb54-4e27-8f16-d34e4d19099e(zLt_c44tFaI).mp4 \n",
            "\n",
            "Video 195 downloaded\n",
            "Collected 6 images from video\n",
            "\n",
            "\n",
            "[MoviePy] >>>> Building video cropped_videos/Anger/09ef3150-a556-4a85-8945-9aa2fa8bd338(zLt_c44tFaI).mp4\n",
            "[MoviePy] Writing audio in 09ef3150-a556-4a85-8945-9aa2fa8bd338(zLt_c44tFaI)TEMP_MPY_wvf_snd.mp3\n"
          ]
        },
        {
          "output_type": "stream",
          "name": "stderr",
          "text": [
            "100%|██████████| 111/111 [00:00<00:00, 405.87it/s]"
          ]
        },
        {
          "output_type": "stream",
          "name": "stdout",
          "text": [
            "[MoviePy] Done.\n",
            "[MoviePy] Writing video cropped_videos/Anger/09ef3150-a556-4a85-8945-9aa2fa8bd338(zLt_c44tFaI).mp4\n"
          ]
        },
        {
          "output_type": "stream",
          "name": "stderr",
          "text": [
            "\n",
            " 99%|█████████▉| 150/151 [00:11<00:00, 13.63it/s]\n"
          ]
        },
        {
          "output_type": "stream",
          "name": "stdout",
          "text": [
            "[MoviePy] Done.\n",
            "[MoviePy] >>>> Video ready: cropped_videos/Anger/09ef3150-a556-4a85-8945-9aa2fa8bd338(zLt_c44tFaI).mp4 \n",
            "\n",
            "Video 196 downloaded\n",
            "Collected 6 images from video\n",
            "\n",
            "\n",
            "[MoviePy] >>>> Building video cropped_videos/Anger/a7a99ab4-d86c-4223-adb1-39ccc9f68e34(zLt_c44tFaI).mp4\n",
            "[MoviePy] Writing audio in a7a99ab4-d86c-4223-adb1-39ccc9f68e34(zLt_c44tFaI)TEMP_MPY_wvf_snd.mp3\n"
          ]
        },
        {
          "output_type": "stream",
          "name": "stderr",
          "text": [
            "100%|██████████| 111/111 [00:00<00:00, 410.35it/s]"
          ]
        },
        {
          "output_type": "stream",
          "name": "stdout",
          "text": [
            "[MoviePy] Done.\n",
            "[MoviePy] Writing video cropped_videos/Anger/a7a99ab4-d86c-4223-adb1-39ccc9f68e34(zLt_c44tFaI).mp4\n"
          ]
        },
        {
          "output_type": "stream",
          "name": "stderr",
          "text": [
            "\n",
            " 99%|█████████▉| 150/151 [00:10<00:00, 14.65it/s]\n"
          ]
        },
        {
          "output_type": "stream",
          "name": "stdout",
          "text": [
            "[MoviePy] Done.\n",
            "[MoviePy] >>>> Video ready: cropped_videos/Anger/a7a99ab4-d86c-4223-adb1-39ccc9f68e34(zLt_c44tFaI).mp4 \n",
            "\n",
            "Video 197 downloaded\n",
            "Collected 6 images from video\n",
            "\n",
            "\n",
            "Download is completed successfully\n",
            "[MoviePy] >>>> Building video cropped_videos/Anger/32709aee-0ab7-47fd-ab10-781ac4ddc9a4(C0jlSz0BfjM).mp4\n",
            "[MoviePy] Writing audio in 32709aee-0ab7-47fd-ab10-781ac4ddc9a4(C0jlSz0BfjM)TEMP_MPY_wvf_snd.mp3\n"
          ]
        },
        {
          "output_type": "stream",
          "name": "stderr",
          "text": [
            "100%|██████████| 155/155 [00:00<00:00, 449.05it/s]"
          ]
        },
        {
          "output_type": "stream",
          "name": "stdout",
          "text": [
            "[MoviePy] Done.\n",
            "[MoviePy] Writing video cropped_videos/Anger/32709aee-0ab7-47fd-ab10-781ac4ddc9a4(C0jlSz0BfjM).mp4\n"
          ]
        },
        {
          "output_type": "stream",
          "name": "stderr",
          "text": [
            "\n",
            "100%|██████████| 210/210 [00:13<00:00, 15.46it/s]\n"
          ]
        },
        {
          "output_type": "stream",
          "name": "stdout",
          "text": [
            "[MoviePy] Done.\n",
            "[MoviePy] >>>> Video ready: cropped_videos/Anger/32709aee-0ab7-47fd-ab10-781ac4ddc9a4(C0jlSz0BfjM).mp4 \n",
            "\n",
            "Video 198 downloaded\n",
            "Collected 6 images from video\n",
            "\n",
            "\n",
            "[MoviePy] >>>> Building video cropped_videos/Anger/875005a6-7835-476e-bc04-d007be43fd73(C0jlSz0BfjM).mp4\n",
            "[MoviePy] Writing audio in 875005a6-7835-476e-bc04-d007be43fd73(C0jlSz0BfjM)TEMP_MPY_wvf_snd.mp3\n"
          ]
        },
        {
          "output_type": "stream",
          "name": "stderr",
          "text": [
            "100%|██████████| 728/728 [00:02<00:00, 363.58it/s]"
          ]
        },
        {
          "output_type": "stream",
          "name": "stdout",
          "text": [
            "[MoviePy] Done.\n",
            "[MoviePy] Writing video cropped_videos/Anger/875005a6-7835-476e-bc04-d007be43fd73(C0jlSz0BfjM).mp4\n"
          ]
        },
        {
          "output_type": "stream",
          "name": "stderr",
          "text": [
            "\n",
            "100%|██████████| 990/990 [01:14<00:00, 13.26it/s]\n"
          ]
        },
        {
          "output_type": "stream",
          "name": "stdout",
          "text": [
            "[MoviePy] Done.\n",
            "[MoviePy] >>>> Video ready: cropped_videos/Anger/875005a6-7835-476e-bc04-d007be43fd73(C0jlSz0BfjM).mp4 \n",
            "\n",
            "Video 199 downloaded\n",
            "Collected 6 images from video\n",
            "\n",
            "\n"
          ]
        }
      ]
    }
  ]
}